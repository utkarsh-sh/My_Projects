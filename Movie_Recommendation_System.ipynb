{
  "nbformat": 4,
  "nbformat_minor": 0,
  "metadata": {
    "colab": {
      "provenance": [],
      "authorship_tag": "ABX9TyP5dLC/ycK60GF6Av4wrWgc",
      "include_colab_link": true
    },
    "kernelspec": {
      "name": "python3",
      "display_name": "Python 3"
    },
    "language_info": {
      "name": "python"
    }
  },
  "cells": [
    {
      "cell_type": "markdown",
      "metadata": {
        "id": "view-in-github",
        "colab_type": "text"
      },
      "source": [
        "<a href=\"https://colab.research.google.com/github/utkarsh-sh/My_Projects/blob/main/Movie_Recommendation_System.ipynb\" target=\"_parent\"><img src=\"https://colab.research.google.com/assets/colab-badge.svg\" alt=\"Open In Colab\"/></a>"
      ]
    },
    {
      "cell_type": "markdown",
      "source": [
        "# Movie Recommendation System\n",
        "Recommender System is a system that seeks to predict or filter preferences according to user choice. It produce a list of recommendation in any of the two ways:-\n",
        "\n",
        "\n",
        "*   Collaborative Filtering\n",
        "*   Content-based filtering\n",
        "\n"
      ],
      "metadata": {
        "id": "xfLVxHXruLvg"
      }
    },
    {
      "cell_type": "markdown",
      "source": [
        "**Import Library**"
      ],
      "metadata": {
        "id": "GQD4WCpKv4FU"
      }
    },
    {
      "cell_type": "code",
      "execution_count": null,
      "metadata": {
        "id": "8zdTVX5WuDvm"
      },
      "outputs": [],
      "source": [
        "import numpy as np\n",
        "import pandas as pd"
      ]
    },
    {
      "cell_type": "markdown",
      "source": [
        "**Import  Dataset**"
      ],
      "metadata": {
        "id": "TQb-bZSJwIVJ"
      }
    },
    {
      "cell_type": "code",
      "source": [
        "df = pd.read_csv('https://raw.githubusercontent.com/YBIFoundation/Dataset/main/Movies%20Recommendation.csv')"
      ],
      "metadata": {
        "id": "IGUZyY29wLcX"
      },
      "execution_count": null,
      "outputs": []
    },
    {
      "cell_type": "code",
      "source": [
        "df.head()"
      ],
      "metadata": {
        "colab": {
          "base_uri": "https://localhost:8080/",
          "height": 654
        },
        "id": "YrM9-_L3wg5f",
        "outputId": "df696639-c033-472e-e113-18c6eaf2baf9"
      },
      "execution_count": null,
      "outputs": [
        {
          "output_type": "execute_result",
          "data": {
            "text/plain": [
              "   Movie_ID      Movie_Title                       Movie_Genre Movie_Language  \\\n",
              "0         1       Four Rooms                      Crime Comedy             en   \n",
              "1         2        Star Wars  Adventure Action Science Fiction             en   \n",
              "2         3     Finding Nemo                  Animation Family             en   \n",
              "3         4     Forrest Gump              Comedy Drama Romance             en   \n",
              "4         5  American Beauty                             Drama             en   \n",
              "\n",
              "   Movie_Budget  Movie_Popularity Movie_Release_Date  Movie_Revenue  \\\n",
              "0       4000000         22.876230         09-12-1995        4300000   \n",
              "1      11000000        126.393695         25-05-1977      775398007   \n",
              "2      94000000         85.688789         30-05-2003      940335536   \n",
              "3      55000000        138.133331         06-07-1994      677945399   \n",
              "4      15000000         80.878605         15-09-1999      356296601   \n",
              "\n",
              "   Movie_Runtime  Movie_Vote  ...  \\\n",
              "0           98.0         6.5  ...   \n",
              "1          121.0         8.1  ...   \n",
              "2          100.0         7.6  ...   \n",
              "3          142.0         8.2  ...   \n",
              "4          122.0         7.9  ...   \n",
              "\n",
              "                                      Movie_Homepage  \\\n",
              "0                                                NaN   \n",
              "1  http://www.starwars.com/films/star-wars-episod...   \n",
              "2              http://movies.disney.com/finding-nemo   \n",
              "3                                                NaN   \n",
              "4                      http://www.dreamworks.com/ab/   \n",
              "\n",
              "                                      Movie_Keywords  \\\n",
              "0          hotel new year's eve witch bet hotel room   \n",
              "1        android galaxy hermit death star lightsaber   \n",
              "2  father son relationship harbor underwater fish...   \n",
              "3  vietnam veteran hippie mentally disabled runni...   \n",
              "4  male nudity female nudity adultery midlife cri...   \n",
              "\n",
              "                                      Movie_Overview  \\\n",
              "0  It's Ted the Bellhop's first night on the job....   \n",
              "1  Princess Leia is captured and held hostage by ...   \n",
              "2  Nemo, an adventurous young clownfish, is unexp...   \n",
              "3  A man with a low IQ has accomplished great thi...   \n",
              "4  Lester Burnham, a depressed suburban father in...   \n",
              "\n",
              "                              Movie_Production_House  \\\n",
              "0  [{\"name\": \"Miramax Films\", \"id\": 14}, {\"name\":...   \n",
              "1  [{\"name\": \"Lucasfilm\", \"id\": 1}, {\"name\": \"Twe...   \n",
              "2     [{\"name\": \"Pixar Animation Studios\", \"id\": 3}]   \n",
              "3          [{\"name\": \"Paramount Pictures\", \"id\": 4}]   \n",
              "4  [{\"name\": \"DreamWorks SKG\", \"id\": 27}, {\"name\"...   \n",
              "\n",
              "                            Movie_Production_Country  \\\n",
              "0  [{\"iso_3166_1\": \"US\", \"name\": \"United States o...   \n",
              "1  [{\"iso_3166_1\": \"US\", \"name\": \"United States o...   \n",
              "2  [{\"iso_3166_1\": \"US\", \"name\": \"United States o...   \n",
              "3  [{\"iso_3166_1\": \"US\", \"name\": \"United States o...   \n",
              "4  [{\"iso_3166_1\": \"US\", \"name\": \"United States o...   \n",
              "\n",
              "                      Movie_Spoken_Language  \\\n",
              "0  [{\"iso_639_1\": \"en\", \"name\": \"English\"}]   \n",
              "1  [{\"iso_639_1\": \"en\", \"name\": \"English\"}]   \n",
              "2  [{\"iso_639_1\": \"en\", \"name\": \"English\"}]   \n",
              "3  [{\"iso_639_1\": \"en\", \"name\": \"English\"}]   \n",
              "4  [{\"iso_639_1\": \"en\", \"name\": \"English\"}]   \n",
              "\n",
              "                                       Movie_Tagline  \\\n",
              "0  Twelve outrageous guests. Four scandalous requ...   \n",
              "1       A long time ago in a galaxy far, far away...   \n",
              "2  There are 3.7 trillion fish in the ocean, they...   \n",
              "3  The world will never be the same, once you've ...   \n",
              "4                                       Look closer.   \n",
              "\n",
              "                                          Movie_Cast  \\\n",
              "0  Tim Roth Antonio Banderas Jennifer Beals Madon...   \n",
              "1  Mark Hamill Harrison Ford Carrie Fisher Peter ...   \n",
              "2  Albert Brooks Ellen DeGeneres Alexander Gould ...   \n",
              "3  Tom Hanks Robin Wright Gary Sinise Mykelti Wil...   \n",
              "4  Kevin Spacey Annette Bening Thora Birch Wes Be...   \n",
              "\n",
              "                                          Movie_Crew   Movie_Director  \n",
              "0  [{'name': 'Allison Anders', 'gender': 1, 'depa...   Allison Anders  \n",
              "1  [{'name': 'George Lucas', 'gender': 2, 'depart...     George Lucas  \n",
              "2  [{'name': 'Andrew Stanton', 'gender': 2, 'depa...   Andrew Stanton  \n",
              "3  [{'name': 'Alan Silvestri', 'gender': 2, 'depa...  Robert Zemeckis  \n",
              "4  [{'name': 'Thomas Newman', 'gender': 2, 'depar...       Sam Mendes  \n",
              "\n",
              "[5 rows x 21 columns]"
            ],
            "text/html": [
              "\n",
              "  <div id=\"df-f8294d82-6f93-4d0a-b194-463a19f744ca\" class=\"colab-df-container\">\n",
              "    <div>\n",
              "<style scoped>\n",
              "    .dataframe tbody tr th:only-of-type {\n",
              "        vertical-align: middle;\n",
              "    }\n",
              "\n",
              "    .dataframe tbody tr th {\n",
              "        vertical-align: top;\n",
              "    }\n",
              "\n",
              "    .dataframe thead th {\n",
              "        text-align: right;\n",
              "    }\n",
              "</style>\n",
              "<table border=\"1\" class=\"dataframe\">\n",
              "  <thead>\n",
              "    <tr style=\"text-align: right;\">\n",
              "      <th></th>\n",
              "      <th>Movie_ID</th>\n",
              "      <th>Movie_Title</th>\n",
              "      <th>Movie_Genre</th>\n",
              "      <th>Movie_Language</th>\n",
              "      <th>Movie_Budget</th>\n",
              "      <th>Movie_Popularity</th>\n",
              "      <th>Movie_Release_Date</th>\n",
              "      <th>Movie_Revenue</th>\n",
              "      <th>Movie_Runtime</th>\n",
              "      <th>Movie_Vote</th>\n",
              "      <th>...</th>\n",
              "      <th>Movie_Homepage</th>\n",
              "      <th>Movie_Keywords</th>\n",
              "      <th>Movie_Overview</th>\n",
              "      <th>Movie_Production_House</th>\n",
              "      <th>Movie_Production_Country</th>\n",
              "      <th>Movie_Spoken_Language</th>\n",
              "      <th>Movie_Tagline</th>\n",
              "      <th>Movie_Cast</th>\n",
              "      <th>Movie_Crew</th>\n",
              "      <th>Movie_Director</th>\n",
              "    </tr>\n",
              "  </thead>\n",
              "  <tbody>\n",
              "    <tr>\n",
              "      <th>0</th>\n",
              "      <td>1</td>\n",
              "      <td>Four Rooms</td>\n",
              "      <td>Crime Comedy</td>\n",
              "      <td>en</td>\n",
              "      <td>4000000</td>\n",
              "      <td>22.876230</td>\n",
              "      <td>09-12-1995</td>\n",
              "      <td>4300000</td>\n",
              "      <td>98.0</td>\n",
              "      <td>6.5</td>\n",
              "      <td>...</td>\n",
              "      <td>NaN</td>\n",
              "      <td>hotel new year's eve witch bet hotel room</td>\n",
              "      <td>It's Ted the Bellhop's first night on the job....</td>\n",
              "      <td>[{\"name\": \"Miramax Films\", \"id\": 14}, {\"name\":...</td>\n",
              "      <td>[{\"iso_3166_1\": \"US\", \"name\": \"United States o...</td>\n",
              "      <td>[{\"iso_639_1\": \"en\", \"name\": \"English\"}]</td>\n",
              "      <td>Twelve outrageous guests. Four scandalous requ...</td>\n",
              "      <td>Tim Roth Antonio Banderas Jennifer Beals Madon...</td>\n",
              "      <td>[{'name': 'Allison Anders', 'gender': 1, 'depa...</td>\n",
              "      <td>Allison Anders</td>\n",
              "    </tr>\n",
              "    <tr>\n",
              "      <th>1</th>\n",
              "      <td>2</td>\n",
              "      <td>Star Wars</td>\n",
              "      <td>Adventure Action Science Fiction</td>\n",
              "      <td>en</td>\n",
              "      <td>11000000</td>\n",
              "      <td>126.393695</td>\n",
              "      <td>25-05-1977</td>\n",
              "      <td>775398007</td>\n",
              "      <td>121.0</td>\n",
              "      <td>8.1</td>\n",
              "      <td>...</td>\n",
              "      <td>http://www.starwars.com/films/star-wars-episod...</td>\n",
              "      <td>android galaxy hermit death star lightsaber</td>\n",
              "      <td>Princess Leia is captured and held hostage by ...</td>\n",
              "      <td>[{\"name\": \"Lucasfilm\", \"id\": 1}, {\"name\": \"Twe...</td>\n",
              "      <td>[{\"iso_3166_1\": \"US\", \"name\": \"United States o...</td>\n",
              "      <td>[{\"iso_639_1\": \"en\", \"name\": \"English\"}]</td>\n",
              "      <td>A long time ago in a galaxy far, far away...</td>\n",
              "      <td>Mark Hamill Harrison Ford Carrie Fisher Peter ...</td>\n",
              "      <td>[{'name': 'George Lucas', 'gender': 2, 'depart...</td>\n",
              "      <td>George Lucas</td>\n",
              "    </tr>\n",
              "    <tr>\n",
              "      <th>2</th>\n",
              "      <td>3</td>\n",
              "      <td>Finding Nemo</td>\n",
              "      <td>Animation Family</td>\n",
              "      <td>en</td>\n",
              "      <td>94000000</td>\n",
              "      <td>85.688789</td>\n",
              "      <td>30-05-2003</td>\n",
              "      <td>940335536</td>\n",
              "      <td>100.0</td>\n",
              "      <td>7.6</td>\n",
              "      <td>...</td>\n",
              "      <td>http://movies.disney.com/finding-nemo</td>\n",
              "      <td>father son relationship harbor underwater fish...</td>\n",
              "      <td>Nemo, an adventurous young clownfish, is unexp...</td>\n",
              "      <td>[{\"name\": \"Pixar Animation Studios\", \"id\": 3}]</td>\n",
              "      <td>[{\"iso_3166_1\": \"US\", \"name\": \"United States o...</td>\n",
              "      <td>[{\"iso_639_1\": \"en\", \"name\": \"English\"}]</td>\n",
              "      <td>There are 3.7 trillion fish in the ocean, they...</td>\n",
              "      <td>Albert Brooks Ellen DeGeneres Alexander Gould ...</td>\n",
              "      <td>[{'name': 'Andrew Stanton', 'gender': 2, 'depa...</td>\n",
              "      <td>Andrew Stanton</td>\n",
              "    </tr>\n",
              "    <tr>\n",
              "      <th>3</th>\n",
              "      <td>4</td>\n",
              "      <td>Forrest Gump</td>\n",
              "      <td>Comedy Drama Romance</td>\n",
              "      <td>en</td>\n",
              "      <td>55000000</td>\n",
              "      <td>138.133331</td>\n",
              "      <td>06-07-1994</td>\n",
              "      <td>677945399</td>\n",
              "      <td>142.0</td>\n",
              "      <td>8.2</td>\n",
              "      <td>...</td>\n",
              "      <td>NaN</td>\n",
              "      <td>vietnam veteran hippie mentally disabled runni...</td>\n",
              "      <td>A man with a low IQ has accomplished great thi...</td>\n",
              "      <td>[{\"name\": \"Paramount Pictures\", \"id\": 4}]</td>\n",
              "      <td>[{\"iso_3166_1\": \"US\", \"name\": \"United States o...</td>\n",
              "      <td>[{\"iso_639_1\": \"en\", \"name\": \"English\"}]</td>\n",
              "      <td>The world will never be the same, once you've ...</td>\n",
              "      <td>Tom Hanks Robin Wright Gary Sinise Mykelti Wil...</td>\n",
              "      <td>[{'name': 'Alan Silvestri', 'gender': 2, 'depa...</td>\n",
              "      <td>Robert Zemeckis</td>\n",
              "    </tr>\n",
              "    <tr>\n",
              "      <th>4</th>\n",
              "      <td>5</td>\n",
              "      <td>American Beauty</td>\n",
              "      <td>Drama</td>\n",
              "      <td>en</td>\n",
              "      <td>15000000</td>\n",
              "      <td>80.878605</td>\n",
              "      <td>15-09-1999</td>\n",
              "      <td>356296601</td>\n",
              "      <td>122.0</td>\n",
              "      <td>7.9</td>\n",
              "      <td>...</td>\n",
              "      <td>http://www.dreamworks.com/ab/</td>\n",
              "      <td>male nudity female nudity adultery midlife cri...</td>\n",
              "      <td>Lester Burnham, a depressed suburban father in...</td>\n",
              "      <td>[{\"name\": \"DreamWorks SKG\", \"id\": 27}, {\"name\"...</td>\n",
              "      <td>[{\"iso_3166_1\": \"US\", \"name\": \"United States o...</td>\n",
              "      <td>[{\"iso_639_1\": \"en\", \"name\": \"English\"}]</td>\n",
              "      <td>Look closer.</td>\n",
              "      <td>Kevin Spacey Annette Bening Thora Birch Wes Be...</td>\n",
              "      <td>[{'name': 'Thomas Newman', 'gender': 2, 'depar...</td>\n",
              "      <td>Sam Mendes</td>\n",
              "    </tr>\n",
              "  </tbody>\n",
              "</table>\n",
              "<p>5 rows × 21 columns</p>\n",
              "</div>\n",
              "    <div class=\"colab-df-buttons\">\n",
              "\n",
              "  <div class=\"colab-df-container\">\n",
              "    <button class=\"colab-df-convert\" onclick=\"convertToInteractive('df-f8294d82-6f93-4d0a-b194-463a19f744ca')\"\n",
              "            title=\"Convert this dataframe to an interactive table.\"\n",
              "            style=\"display:none;\">\n",
              "\n",
              "  <svg xmlns=\"http://www.w3.org/2000/svg\" height=\"24px\" viewBox=\"0 -960 960 960\">\n",
              "    <path d=\"M120-120v-720h720v720H120Zm60-500h600v-160H180v160Zm220 220h160v-160H400v160Zm0 220h160v-160H400v160ZM180-400h160v-160H180v160Zm440 0h160v-160H620v160ZM180-180h160v-160H180v160Zm440 0h160v-160H620v160Z\"/>\n",
              "  </svg>\n",
              "    </button>\n",
              "\n",
              "  <style>\n",
              "    .colab-df-container {\n",
              "      display:flex;\n",
              "      gap: 12px;\n",
              "    }\n",
              "\n",
              "    .colab-df-convert {\n",
              "      background-color: #E8F0FE;\n",
              "      border: none;\n",
              "      border-radius: 50%;\n",
              "      cursor: pointer;\n",
              "      display: none;\n",
              "      fill: #1967D2;\n",
              "      height: 32px;\n",
              "      padding: 0 0 0 0;\n",
              "      width: 32px;\n",
              "    }\n",
              "\n",
              "    .colab-df-convert:hover {\n",
              "      background-color: #E2EBFA;\n",
              "      box-shadow: 0px 1px 2px rgba(60, 64, 67, 0.3), 0px 1px 3px 1px rgba(60, 64, 67, 0.15);\n",
              "      fill: #174EA6;\n",
              "    }\n",
              "\n",
              "    .colab-df-buttons div {\n",
              "      margin-bottom: 4px;\n",
              "    }\n",
              "\n",
              "    [theme=dark] .colab-df-convert {\n",
              "      background-color: #3B4455;\n",
              "      fill: #D2E3FC;\n",
              "    }\n",
              "\n",
              "    [theme=dark] .colab-df-convert:hover {\n",
              "      background-color: #434B5C;\n",
              "      box-shadow: 0px 1px 3px 1px rgba(0, 0, 0, 0.15);\n",
              "      filter: drop-shadow(0px 1px 2px rgba(0, 0, 0, 0.3));\n",
              "      fill: #FFFFFF;\n",
              "    }\n",
              "  </style>\n",
              "\n",
              "    <script>\n",
              "      const buttonEl =\n",
              "        document.querySelector('#df-f8294d82-6f93-4d0a-b194-463a19f744ca button.colab-df-convert');\n",
              "      buttonEl.style.display =\n",
              "        google.colab.kernel.accessAllowed ? 'block' : 'none';\n",
              "\n",
              "      async function convertToInteractive(key) {\n",
              "        const element = document.querySelector('#df-f8294d82-6f93-4d0a-b194-463a19f744ca');\n",
              "        const dataTable =\n",
              "          await google.colab.kernel.invokeFunction('convertToInteractive',\n",
              "                                                    [key], {});\n",
              "        if (!dataTable) return;\n",
              "\n",
              "        const docLinkHtml = 'Like what you see? Visit the ' +\n",
              "          '<a target=\"_blank\" href=https://colab.research.google.com/notebooks/data_table.ipynb>data table notebook</a>'\n",
              "          + ' to learn more about interactive tables.';\n",
              "        element.innerHTML = '';\n",
              "        dataTable['output_type'] = 'display_data';\n",
              "        await google.colab.output.renderOutput(dataTable, element);\n",
              "        const docLink = document.createElement('div');\n",
              "        docLink.innerHTML = docLinkHtml;\n",
              "        element.appendChild(docLink);\n",
              "      }\n",
              "    </script>\n",
              "  </div>\n",
              "\n",
              "\n",
              "<div id=\"df-731c0082-491d-40fc-bd3e-7043c61553cc\">\n",
              "  <button class=\"colab-df-quickchart\" onclick=\"quickchart('df-731c0082-491d-40fc-bd3e-7043c61553cc')\"\n",
              "            title=\"Suggest charts\"\n",
              "            style=\"display:none;\">\n",
              "\n",
              "<svg xmlns=\"http://www.w3.org/2000/svg\" height=\"24px\"viewBox=\"0 0 24 24\"\n",
              "     width=\"24px\">\n",
              "    <g>\n",
              "        <path d=\"M19 3H5c-1.1 0-2 .9-2 2v14c0 1.1.9 2 2 2h14c1.1 0 2-.9 2-2V5c0-1.1-.9-2-2-2zM9 17H7v-7h2v7zm4 0h-2V7h2v10zm4 0h-2v-4h2v4z\"/>\n",
              "    </g>\n",
              "</svg>\n",
              "  </button>\n",
              "\n",
              "<style>\n",
              "  .colab-df-quickchart {\n",
              "      --bg-color: #E8F0FE;\n",
              "      --fill-color: #1967D2;\n",
              "      --hover-bg-color: #E2EBFA;\n",
              "      --hover-fill-color: #174EA6;\n",
              "      --disabled-fill-color: #AAA;\n",
              "      --disabled-bg-color: #DDD;\n",
              "  }\n",
              "\n",
              "  [theme=dark] .colab-df-quickchart {\n",
              "      --bg-color: #3B4455;\n",
              "      --fill-color: #D2E3FC;\n",
              "      --hover-bg-color: #434B5C;\n",
              "      --hover-fill-color: #FFFFFF;\n",
              "      --disabled-bg-color: #3B4455;\n",
              "      --disabled-fill-color: #666;\n",
              "  }\n",
              "\n",
              "  .colab-df-quickchart {\n",
              "    background-color: var(--bg-color);\n",
              "    border: none;\n",
              "    border-radius: 50%;\n",
              "    cursor: pointer;\n",
              "    display: none;\n",
              "    fill: var(--fill-color);\n",
              "    height: 32px;\n",
              "    padding: 0;\n",
              "    width: 32px;\n",
              "  }\n",
              "\n",
              "  .colab-df-quickchart:hover {\n",
              "    background-color: var(--hover-bg-color);\n",
              "    box-shadow: 0 1px 2px rgba(60, 64, 67, 0.3), 0 1px 3px 1px rgba(60, 64, 67, 0.15);\n",
              "    fill: var(--button-hover-fill-color);\n",
              "  }\n",
              "\n",
              "  .colab-df-quickchart-complete:disabled,\n",
              "  .colab-df-quickchart-complete:disabled:hover {\n",
              "    background-color: var(--disabled-bg-color);\n",
              "    fill: var(--disabled-fill-color);\n",
              "    box-shadow: none;\n",
              "  }\n",
              "\n",
              "  .colab-df-spinner {\n",
              "    border: 2px solid var(--fill-color);\n",
              "    border-color: transparent;\n",
              "    border-bottom-color: var(--fill-color);\n",
              "    animation:\n",
              "      spin 1s steps(1) infinite;\n",
              "  }\n",
              "\n",
              "  @keyframes spin {\n",
              "    0% {\n",
              "      border-color: transparent;\n",
              "      border-bottom-color: var(--fill-color);\n",
              "      border-left-color: var(--fill-color);\n",
              "    }\n",
              "    20% {\n",
              "      border-color: transparent;\n",
              "      border-left-color: var(--fill-color);\n",
              "      border-top-color: var(--fill-color);\n",
              "    }\n",
              "    30% {\n",
              "      border-color: transparent;\n",
              "      border-left-color: var(--fill-color);\n",
              "      border-top-color: var(--fill-color);\n",
              "      border-right-color: var(--fill-color);\n",
              "    }\n",
              "    40% {\n",
              "      border-color: transparent;\n",
              "      border-right-color: var(--fill-color);\n",
              "      border-top-color: var(--fill-color);\n",
              "    }\n",
              "    60% {\n",
              "      border-color: transparent;\n",
              "      border-right-color: var(--fill-color);\n",
              "    }\n",
              "    80% {\n",
              "      border-color: transparent;\n",
              "      border-right-color: var(--fill-color);\n",
              "      border-bottom-color: var(--fill-color);\n",
              "    }\n",
              "    90% {\n",
              "      border-color: transparent;\n",
              "      border-bottom-color: var(--fill-color);\n",
              "    }\n",
              "  }\n",
              "</style>\n",
              "\n",
              "  <script>\n",
              "    async function quickchart(key) {\n",
              "      const quickchartButtonEl =\n",
              "        document.querySelector('#' + key + ' button');\n",
              "      quickchartButtonEl.disabled = true;  // To prevent multiple clicks.\n",
              "      quickchartButtonEl.classList.add('colab-df-spinner');\n",
              "      try {\n",
              "        const charts = await google.colab.kernel.invokeFunction(\n",
              "            'suggestCharts', [key], {});\n",
              "      } catch (error) {\n",
              "        console.error('Error during call to suggestCharts:', error);\n",
              "      }\n",
              "      quickchartButtonEl.classList.remove('colab-df-spinner');\n",
              "      quickchartButtonEl.classList.add('colab-df-quickchart-complete');\n",
              "    }\n",
              "    (() => {\n",
              "      let quickchartButtonEl =\n",
              "        document.querySelector('#df-731c0082-491d-40fc-bd3e-7043c61553cc button');\n",
              "      quickchartButtonEl.style.display =\n",
              "        google.colab.kernel.accessAllowed ? 'block' : 'none';\n",
              "    })();\n",
              "  </script>\n",
              "</div>\n",
              "\n",
              "    </div>\n",
              "  </div>\n"
            ],
            "application/vnd.google.colaboratory.intrinsic+json": {
              "type": "dataframe",
              "variable_name": "df"
            }
          },
          "metadata": {},
          "execution_count": 3
        }
      ]
    },
    {
      "cell_type": "code",
      "source": [
        "df.info()"
      ],
      "metadata": {
        "colab": {
          "base_uri": "https://localhost:8080/"
        },
        "id": "8ArQC0IQwjzo",
        "outputId": "bba8f467-4cd3-47f6-9833-e67aac392a95"
      },
      "execution_count": null,
      "outputs": [
        {
          "output_type": "stream",
          "name": "stdout",
          "text": [
            "<class 'pandas.core.frame.DataFrame'>\n",
            "RangeIndex: 4760 entries, 0 to 4759\n",
            "Data columns (total 21 columns):\n",
            " #   Column                    Non-Null Count  Dtype  \n",
            "---  ------                    --------------  -----  \n",
            " 0   Movie_ID                  4760 non-null   int64  \n",
            " 1   Movie_Title               4760 non-null   object \n",
            " 2   Movie_Genre               4760 non-null   object \n",
            " 3   Movie_Language            4760 non-null   object \n",
            " 4   Movie_Budget              4760 non-null   int64  \n",
            " 5   Movie_Popularity          4760 non-null   float64\n",
            " 6   Movie_Release_Date        4760 non-null   object \n",
            " 7   Movie_Revenue             4760 non-null   int64  \n",
            " 8   Movie_Runtime             4758 non-null   float64\n",
            " 9   Movie_Vote                4760 non-null   float64\n",
            " 10  Movie_Vote_Count          4760 non-null   int64  \n",
            " 11  Movie_Homepage            1699 non-null   object \n",
            " 12  Movie_Keywords            4373 non-null   object \n",
            " 13  Movie_Overview            4757 non-null   object \n",
            " 14  Movie_Production_House    4760 non-null   object \n",
            " 15  Movie_Production_Country  4760 non-null   object \n",
            " 16  Movie_Spoken_Language     4760 non-null   object \n",
            " 17  Movie_Tagline             3942 non-null   object \n",
            " 18  Movie_Cast                4733 non-null   object \n",
            " 19  Movie_Crew                4760 non-null   object \n",
            " 20  Movie_Director            4738 non-null   object \n",
            "dtypes: float64(3), int64(4), object(14)\n",
            "memory usage: 781.1+ KB\n"
          ]
        }
      ]
    },
    {
      "cell_type": "code",
      "source": [
        "df.shape"
      ],
      "metadata": {
        "colab": {
          "base_uri": "https://localhost:8080/"
        },
        "id": "6qfQXeQ2wtqs",
        "outputId": "cd254054-ad40-4fea-ead2-fac9eefebbca"
      },
      "execution_count": null,
      "outputs": [
        {
          "output_type": "execute_result",
          "data": {
            "text/plain": [
              "(4760, 21)"
            ]
          },
          "metadata": {},
          "execution_count": 5
        }
      ]
    },
    {
      "cell_type": "code",
      "source": [
        "df.columns"
      ],
      "metadata": {
        "colab": {
          "base_uri": "https://localhost:8080/"
        },
        "id": "OkPxSypfwwYL",
        "outputId": "0511d480-1b45-43ce-c783-acd3cb3d082c"
      },
      "execution_count": null,
      "outputs": [
        {
          "output_type": "execute_result",
          "data": {
            "text/plain": [
              "Index(['Movie_ID', 'Movie_Title', 'Movie_Genre', 'Movie_Language',\n",
              "       'Movie_Budget', 'Movie_Popularity', 'Movie_Release_Date',\n",
              "       'Movie_Revenue', 'Movie_Runtime', 'Movie_Vote', 'Movie_Vote_Count',\n",
              "       'Movie_Homepage', 'Movie_Keywords', 'Movie_Overview',\n",
              "       'Movie_Production_House', 'Movie_Production_Country',\n",
              "       'Movie_Spoken_Language', 'Movie_Tagline', 'Movie_Cast', 'Movie_Crew',\n",
              "       'Movie_Director'],\n",
              "      dtype='object')"
            ]
          },
          "metadata": {},
          "execution_count": 6
        }
      ]
    },
    {
      "cell_type": "markdown",
      "source": [
        "**Get Feature Selection**"
      ],
      "metadata": {
        "id": "B433ZlEuw1Mk"
      }
    },
    {
      "cell_type": "code",
      "source": [
        "df_features = df[['Movie_Genre','Movie_Keywords','Movie_Tagline','Movie_Cast','Movie_Director']].fillna('')"
      ],
      "metadata": {
        "id": "FqutAImJw43K"
      },
      "execution_count": null,
      "outputs": []
    },
    {
      "cell_type": "code",
      "source": [
        "df_features.shape"
      ],
      "metadata": {
        "colab": {
          "base_uri": "https://localhost:8080/"
        },
        "id": "K7O3UOKcxF3n",
        "outputId": "bc88240d-9975-40fb-90c3-ee9e63ad3828"
      },
      "execution_count": null,
      "outputs": [
        {
          "output_type": "execute_result",
          "data": {
            "text/plain": [
              "(4760, 5)"
            ]
          },
          "metadata": {},
          "execution_count": 8
        }
      ]
    },
    {
      "cell_type": "code",
      "source": [
        "df_features"
      ],
      "metadata": {
        "colab": {
          "base_uri": "https://localhost:8080/",
          "height": 475
        },
        "id": "4FY7PxdUxITb",
        "outputId": "36314633-799b-4a05-f941-7f00f3641ea2"
      },
      "execution_count": null,
      "outputs": [
        {
          "output_type": "execute_result",
          "data": {
            "text/plain": [
              "                           Movie_Genre  \\\n",
              "0                         Crime Comedy   \n",
              "1     Adventure Action Science Fiction   \n",
              "2                     Animation Family   \n",
              "3                 Comedy Drama Romance   \n",
              "4                                Drama   \n",
              "...                                ...   \n",
              "4755                            Horror   \n",
              "4756               Comedy Family Drama   \n",
              "4757                    Thriller Drama   \n",
              "4758                            Family   \n",
              "4759                       Documentary   \n",
              "\n",
              "                                         Movie_Keywords  \\\n",
              "0             hotel new year's eve witch bet hotel room   \n",
              "1           android galaxy hermit death star lightsaber   \n",
              "2     father son relationship harbor underwater fish...   \n",
              "3     vietnam veteran hippie mentally disabled runni...   \n",
              "4     male nudity female nudity adultery midlife cri...   \n",
              "...                                                 ...   \n",
              "4755                                                      \n",
              "4756                                                      \n",
              "4757                     christian film sex trafficking   \n",
              "4758                                                      \n",
              "4759  music actors legendary perfomer classic hollyw...   \n",
              "\n",
              "                                          Movie_Tagline  \\\n",
              "0     Twelve outrageous guests. Four scandalous requ...   \n",
              "1          A long time ago in a galaxy far, far away...   \n",
              "2     There are 3.7 trillion fish in the ocean, they...   \n",
              "3     The world will never be the same, once you've ...   \n",
              "4                                          Look closer.   \n",
              "...                                                 ...   \n",
              "4755                The hot spot where Satan's waitin'.   \n",
              "4756           It’s better to stand out than to fit in.   \n",
              "4757           She never knew it could happen to her...   \n",
              "4758                                                      \n",
              "4759                                                      \n",
              "\n",
              "                                             Movie_Cast     Movie_Director  \n",
              "0     Tim Roth Antonio Banderas Jennifer Beals Madon...     Allison Anders  \n",
              "1     Mark Hamill Harrison Ford Carrie Fisher Peter ...       George Lucas  \n",
              "2     Albert Brooks Ellen DeGeneres Alexander Gould ...     Andrew Stanton  \n",
              "3     Tom Hanks Robin Wright Gary Sinise Mykelti Wil...    Robert Zemeckis  \n",
              "4     Kevin Spacey Annette Bening Thora Birch Wes Be...         Sam Mendes  \n",
              "...                                                 ...                ...  \n",
              "4755  Lisa Hart Carroll Michael Des Barres Paul Drak...         Pece Dingo  \n",
              "4756  Roni Akurati Brighton Sharbino Jason Lee Anjul...       Frank Lotito  \n",
              "4757  Nicole Smolen Kim Baldwin Ariana Stephens Brys...       Jaco Booyens  \n",
              "4758                                                                        \n",
              "4759                                    Tony Oppedisano  Simon Napier-Bell  \n",
              "\n",
              "[4760 rows x 5 columns]"
            ],
            "text/html": [
              "\n",
              "  <div id=\"df-b9749eec-6266-42d3-86ce-69ebf7e85701\" class=\"colab-df-container\">\n",
              "    <div>\n",
              "<style scoped>\n",
              "    .dataframe tbody tr th:only-of-type {\n",
              "        vertical-align: middle;\n",
              "    }\n",
              "\n",
              "    .dataframe tbody tr th {\n",
              "        vertical-align: top;\n",
              "    }\n",
              "\n",
              "    .dataframe thead th {\n",
              "        text-align: right;\n",
              "    }\n",
              "</style>\n",
              "<table border=\"1\" class=\"dataframe\">\n",
              "  <thead>\n",
              "    <tr style=\"text-align: right;\">\n",
              "      <th></th>\n",
              "      <th>Movie_Genre</th>\n",
              "      <th>Movie_Keywords</th>\n",
              "      <th>Movie_Tagline</th>\n",
              "      <th>Movie_Cast</th>\n",
              "      <th>Movie_Director</th>\n",
              "    </tr>\n",
              "  </thead>\n",
              "  <tbody>\n",
              "    <tr>\n",
              "      <th>0</th>\n",
              "      <td>Crime Comedy</td>\n",
              "      <td>hotel new year's eve witch bet hotel room</td>\n",
              "      <td>Twelve outrageous guests. Four scandalous requ...</td>\n",
              "      <td>Tim Roth Antonio Banderas Jennifer Beals Madon...</td>\n",
              "      <td>Allison Anders</td>\n",
              "    </tr>\n",
              "    <tr>\n",
              "      <th>1</th>\n",
              "      <td>Adventure Action Science Fiction</td>\n",
              "      <td>android galaxy hermit death star lightsaber</td>\n",
              "      <td>A long time ago in a galaxy far, far away...</td>\n",
              "      <td>Mark Hamill Harrison Ford Carrie Fisher Peter ...</td>\n",
              "      <td>George Lucas</td>\n",
              "    </tr>\n",
              "    <tr>\n",
              "      <th>2</th>\n",
              "      <td>Animation Family</td>\n",
              "      <td>father son relationship harbor underwater fish...</td>\n",
              "      <td>There are 3.7 trillion fish in the ocean, they...</td>\n",
              "      <td>Albert Brooks Ellen DeGeneres Alexander Gould ...</td>\n",
              "      <td>Andrew Stanton</td>\n",
              "    </tr>\n",
              "    <tr>\n",
              "      <th>3</th>\n",
              "      <td>Comedy Drama Romance</td>\n",
              "      <td>vietnam veteran hippie mentally disabled runni...</td>\n",
              "      <td>The world will never be the same, once you've ...</td>\n",
              "      <td>Tom Hanks Robin Wright Gary Sinise Mykelti Wil...</td>\n",
              "      <td>Robert Zemeckis</td>\n",
              "    </tr>\n",
              "    <tr>\n",
              "      <th>4</th>\n",
              "      <td>Drama</td>\n",
              "      <td>male nudity female nudity adultery midlife cri...</td>\n",
              "      <td>Look closer.</td>\n",
              "      <td>Kevin Spacey Annette Bening Thora Birch Wes Be...</td>\n",
              "      <td>Sam Mendes</td>\n",
              "    </tr>\n",
              "    <tr>\n",
              "      <th>...</th>\n",
              "      <td>...</td>\n",
              "      <td>...</td>\n",
              "      <td>...</td>\n",
              "      <td>...</td>\n",
              "      <td>...</td>\n",
              "    </tr>\n",
              "    <tr>\n",
              "      <th>4755</th>\n",
              "      <td>Horror</td>\n",
              "      <td></td>\n",
              "      <td>The hot spot where Satan's waitin'.</td>\n",
              "      <td>Lisa Hart Carroll Michael Des Barres Paul Drak...</td>\n",
              "      <td>Pece Dingo</td>\n",
              "    </tr>\n",
              "    <tr>\n",
              "      <th>4756</th>\n",
              "      <td>Comedy Family Drama</td>\n",
              "      <td></td>\n",
              "      <td>It’s better to stand out than to fit in.</td>\n",
              "      <td>Roni Akurati Brighton Sharbino Jason Lee Anjul...</td>\n",
              "      <td>Frank Lotito</td>\n",
              "    </tr>\n",
              "    <tr>\n",
              "      <th>4757</th>\n",
              "      <td>Thriller Drama</td>\n",
              "      <td>christian film sex trafficking</td>\n",
              "      <td>She never knew it could happen to her...</td>\n",
              "      <td>Nicole Smolen Kim Baldwin Ariana Stephens Brys...</td>\n",
              "      <td>Jaco Booyens</td>\n",
              "    </tr>\n",
              "    <tr>\n",
              "      <th>4758</th>\n",
              "      <td>Family</td>\n",
              "      <td></td>\n",
              "      <td></td>\n",
              "      <td></td>\n",
              "      <td></td>\n",
              "    </tr>\n",
              "    <tr>\n",
              "      <th>4759</th>\n",
              "      <td>Documentary</td>\n",
              "      <td>music actors legendary perfomer classic hollyw...</td>\n",
              "      <td></td>\n",
              "      <td>Tony Oppedisano</td>\n",
              "      <td>Simon Napier-Bell</td>\n",
              "    </tr>\n",
              "  </tbody>\n",
              "</table>\n",
              "<p>4760 rows × 5 columns</p>\n",
              "</div>\n",
              "    <div class=\"colab-df-buttons\">\n",
              "\n",
              "  <div class=\"colab-df-container\">\n",
              "    <button class=\"colab-df-convert\" onclick=\"convertToInteractive('df-b9749eec-6266-42d3-86ce-69ebf7e85701')\"\n",
              "            title=\"Convert this dataframe to an interactive table.\"\n",
              "            style=\"display:none;\">\n",
              "\n",
              "  <svg xmlns=\"http://www.w3.org/2000/svg\" height=\"24px\" viewBox=\"0 -960 960 960\">\n",
              "    <path d=\"M120-120v-720h720v720H120Zm60-500h600v-160H180v160Zm220 220h160v-160H400v160Zm0 220h160v-160H400v160ZM180-400h160v-160H180v160Zm440 0h160v-160H620v160ZM180-180h160v-160H180v160Zm440 0h160v-160H620v160Z\"/>\n",
              "  </svg>\n",
              "    </button>\n",
              "\n",
              "  <style>\n",
              "    .colab-df-container {\n",
              "      display:flex;\n",
              "      gap: 12px;\n",
              "    }\n",
              "\n",
              "    .colab-df-convert {\n",
              "      background-color: #E8F0FE;\n",
              "      border: none;\n",
              "      border-radius: 50%;\n",
              "      cursor: pointer;\n",
              "      display: none;\n",
              "      fill: #1967D2;\n",
              "      height: 32px;\n",
              "      padding: 0 0 0 0;\n",
              "      width: 32px;\n",
              "    }\n",
              "\n",
              "    .colab-df-convert:hover {\n",
              "      background-color: #E2EBFA;\n",
              "      box-shadow: 0px 1px 2px rgba(60, 64, 67, 0.3), 0px 1px 3px 1px rgba(60, 64, 67, 0.15);\n",
              "      fill: #174EA6;\n",
              "    }\n",
              "\n",
              "    .colab-df-buttons div {\n",
              "      margin-bottom: 4px;\n",
              "    }\n",
              "\n",
              "    [theme=dark] .colab-df-convert {\n",
              "      background-color: #3B4455;\n",
              "      fill: #D2E3FC;\n",
              "    }\n",
              "\n",
              "    [theme=dark] .colab-df-convert:hover {\n",
              "      background-color: #434B5C;\n",
              "      box-shadow: 0px 1px 3px 1px rgba(0, 0, 0, 0.15);\n",
              "      filter: drop-shadow(0px 1px 2px rgba(0, 0, 0, 0.3));\n",
              "      fill: #FFFFFF;\n",
              "    }\n",
              "  </style>\n",
              "\n",
              "    <script>\n",
              "      const buttonEl =\n",
              "        document.querySelector('#df-b9749eec-6266-42d3-86ce-69ebf7e85701 button.colab-df-convert');\n",
              "      buttonEl.style.display =\n",
              "        google.colab.kernel.accessAllowed ? 'block' : 'none';\n",
              "\n",
              "      async function convertToInteractive(key) {\n",
              "        const element = document.querySelector('#df-b9749eec-6266-42d3-86ce-69ebf7e85701');\n",
              "        const dataTable =\n",
              "          await google.colab.kernel.invokeFunction('convertToInteractive',\n",
              "                                                    [key], {});\n",
              "        if (!dataTable) return;\n",
              "\n",
              "        const docLinkHtml = 'Like what you see? Visit the ' +\n",
              "          '<a target=\"_blank\" href=https://colab.research.google.com/notebooks/data_table.ipynb>data table notebook</a>'\n",
              "          + ' to learn more about interactive tables.';\n",
              "        element.innerHTML = '';\n",
              "        dataTable['output_type'] = 'display_data';\n",
              "        await google.colab.output.renderOutput(dataTable, element);\n",
              "        const docLink = document.createElement('div');\n",
              "        docLink.innerHTML = docLinkHtml;\n",
              "        element.appendChild(docLink);\n",
              "      }\n",
              "    </script>\n",
              "  </div>\n",
              "\n",
              "\n",
              "<div id=\"df-9bafdf33-adfd-4e8c-b35c-4184622a2110\">\n",
              "  <button class=\"colab-df-quickchart\" onclick=\"quickchart('df-9bafdf33-adfd-4e8c-b35c-4184622a2110')\"\n",
              "            title=\"Suggest charts\"\n",
              "            style=\"display:none;\">\n",
              "\n",
              "<svg xmlns=\"http://www.w3.org/2000/svg\" height=\"24px\"viewBox=\"0 0 24 24\"\n",
              "     width=\"24px\">\n",
              "    <g>\n",
              "        <path d=\"M19 3H5c-1.1 0-2 .9-2 2v14c0 1.1.9 2 2 2h14c1.1 0 2-.9 2-2V5c0-1.1-.9-2-2-2zM9 17H7v-7h2v7zm4 0h-2V7h2v10zm4 0h-2v-4h2v4z\"/>\n",
              "    </g>\n",
              "</svg>\n",
              "  </button>\n",
              "\n",
              "<style>\n",
              "  .colab-df-quickchart {\n",
              "      --bg-color: #E8F0FE;\n",
              "      --fill-color: #1967D2;\n",
              "      --hover-bg-color: #E2EBFA;\n",
              "      --hover-fill-color: #174EA6;\n",
              "      --disabled-fill-color: #AAA;\n",
              "      --disabled-bg-color: #DDD;\n",
              "  }\n",
              "\n",
              "  [theme=dark] .colab-df-quickchart {\n",
              "      --bg-color: #3B4455;\n",
              "      --fill-color: #D2E3FC;\n",
              "      --hover-bg-color: #434B5C;\n",
              "      --hover-fill-color: #FFFFFF;\n",
              "      --disabled-bg-color: #3B4455;\n",
              "      --disabled-fill-color: #666;\n",
              "  }\n",
              "\n",
              "  .colab-df-quickchart {\n",
              "    background-color: var(--bg-color);\n",
              "    border: none;\n",
              "    border-radius: 50%;\n",
              "    cursor: pointer;\n",
              "    display: none;\n",
              "    fill: var(--fill-color);\n",
              "    height: 32px;\n",
              "    padding: 0;\n",
              "    width: 32px;\n",
              "  }\n",
              "\n",
              "  .colab-df-quickchart:hover {\n",
              "    background-color: var(--hover-bg-color);\n",
              "    box-shadow: 0 1px 2px rgba(60, 64, 67, 0.3), 0 1px 3px 1px rgba(60, 64, 67, 0.15);\n",
              "    fill: var(--button-hover-fill-color);\n",
              "  }\n",
              "\n",
              "  .colab-df-quickchart-complete:disabled,\n",
              "  .colab-df-quickchart-complete:disabled:hover {\n",
              "    background-color: var(--disabled-bg-color);\n",
              "    fill: var(--disabled-fill-color);\n",
              "    box-shadow: none;\n",
              "  }\n",
              "\n",
              "  .colab-df-spinner {\n",
              "    border: 2px solid var(--fill-color);\n",
              "    border-color: transparent;\n",
              "    border-bottom-color: var(--fill-color);\n",
              "    animation:\n",
              "      spin 1s steps(1) infinite;\n",
              "  }\n",
              "\n",
              "  @keyframes spin {\n",
              "    0% {\n",
              "      border-color: transparent;\n",
              "      border-bottom-color: var(--fill-color);\n",
              "      border-left-color: var(--fill-color);\n",
              "    }\n",
              "    20% {\n",
              "      border-color: transparent;\n",
              "      border-left-color: var(--fill-color);\n",
              "      border-top-color: var(--fill-color);\n",
              "    }\n",
              "    30% {\n",
              "      border-color: transparent;\n",
              "      border-left-color: var(--fill-color);\n",
              "      border-top-color: var(--fill-color);\n",
              "      border-right-color: var(--fill-color);\n",
              "    }\n",
              "    40% {\n",
              "      border-color: transparent;\n",
              "      border-right-color: var(--fill-color);\n",
              "      border-top-color: var(--fill-color);\n",
              "    }\n",
              "    60% {\n",
              "      border-color: transparent;\n",
              "      border-right-color: var(--fill-color);\n",
              "    }\n",
              "    80% {\n",
              "      border-color: transparent;\n",
              "      border-right-color: var(--fill-color);\n",
              "      border-bottom-color: var(--fill-color);\n",
              "    }\n",
              "    90% {\n",
              "      border-color: transparent;\n",
              "      border-bottom-color: var(--fill-color);\n",
              "    }\n",
              "  }\n",
              "</style>\n",
              "\n",
              "  <script>\n",
              "    async function quickchart(key) {\n",
              "      const quickchartButtonEl =\n",
              "        document.querySelector('#' + key + ' button');\n",
              "      quickchartButtonEl.disabled = true;  // To prevent multiple clicks.\n",
              "      quickchartButtonEl.classList.add('colab-df-spinner');\n",
              "      try {\n",
              "        const charts = await google.colab.kernel.invokeFunction(\n",
              "            'suggestCharts', [key], {});\n",
              "      } catch (error) {\n",
              "        console.error('Error during call to suggestCharts:', error);\n",
              "      }\n",
              "      quickchartButtonEl.classList.remove('colab-df-spinner');\n",
              "      quickchartButtonEl.classList.add('colab-df-quickchart-complete');\n",
              "    }\n",
              "    (() => {\n",
              "      let quickchartButtonEl =\n",
              "        document.querySelector('#df-9bafdf33-adfd-4e8c-b35c-4184622a2110 button');\n",
              "      quickchartButtonEl.style.display =\n",
              "        google.colab.kernel.accessAllowed ? 'block' : 'none';\n",
              "    })();\n",
              "  </script>\n",
              "</div>\n",
              "\n",
              "  <div id=\"id_b2ee1f81-cb49-4445-9e50-d34334e359ba\">\n",
              "    <style>\n",
              "      .colab-df-generate {\n",
              "        background-color: #E8F0FE;\n",
              "        border: none;\n",
              "        border-radius: 50%;\n",
              "        cursor: pointer;\n",
              "        display: none;\n",
              "        fill: #1967D2;\n",
              "        height: 32px;\n",
              "        padding: 0 0 0 0;\n",
              "        width: 32px;\n",
              "      }\n",
              "\n",
              "      .colab-df-generate:hover {\n",
              "        background-color: #E2EBFA;\n",
              "        box-shadow: 0px 1px 2px rgba(60, 64, 67, 0.3), 0px 1px 3px 1px rgba(60, 64, 67, 0.15);\n",
              "        fill: #174EA6;\n",
              "      }\n",
              "\n",
              "      [theme=dark] .colab-df-generate {\n",
              "        background-color: #3B4455;\n",
              "        fill: #D2E3FC;\n",
              "      }\n",
              "\n",
              "      [theme=dark] .colab-df-generate:hover {\n",
              "        background-color: #434B5C;\n",
              "        box-shadow: 0px 1px 3px 1px rgba(0, 0, 0, 0.15);\n",
              "        filter: drop-shadow(0px 1px 2px rgba(0, 0, 0, 0.3));\n",
              "        fill: #FFFFFF;\n",
              "      }\n",
              "    </style>\n",
              "    <button class=\"colab-df-generate\" onclick=\"generateWithVariable('df_features')\"\n",
              "            title=\"Generate code using this dataframe.\"\n",
              "            style=\"display:none;\">\n",
              "\n",
              "  <svg xmlns=\"http://www.w3.org/2000/svg\" height=\"24px\"viewBox=\"0 0 24 24\"\n",
              "       width=\"24px\">\n",
              "    <path d=\"M7,19H8.4L18.45,9,17,7.55,7,17.6ZM5,21V16.75L18.45,3.32a2,2,0,0,1,2.83,0l1.4,1.43a1.91,1.91,0,0,1,.58,1.4,1.91,1.91,0,0,1-.58,1.4L9.25,21ZM18.45,9,17,7.55Zm-12,3A5.31,5.31,0,0,0,4.9,8.1,5.31,5.31,0,0,0,1,6.5,5.31,5.31,0,0,0,4.9,4.9,5.31,5.31,0,0,0,6.5,1,5.31,5.31,0,0,0,8.1,4.9,5.31,5.31,0,0,0,12,6.5,5.46,5.46,0,0,0,6.5,12Z\"/>\n",
              "  </svg>\n",
              "    </button>\n",
              "    <script>\n",
              "      (() => {\n",
              "      const buttonEl =\n",
              "        document.querySelector('#id_b2ee1f81-cb49-4445-9e50-d34334e359ba button.colab-df-generate');\n",
              "      buttonEl.style.display =\n",
              "        google.colab.kernel.accessAllowed ? 'block' : 'none';\n",
              "\n",
              "      buttonEl.onclick = () => {\n",
              "        google.colab.notebook.generateWithVariable('df_features');\n",
              "      }\n",
              "      })();\n",
              "    </script>\n",
              "  </div>\n",
              "\n",
              "    </div>\n",
              "  </div>\n"
            ],
            "application/vnd.google.colaboratory.intrinsic+json": {
              "type": "dataframe",
              "variable_name": "df_features",
              "summary": "{\n  \"name\": \"df_features\",\n  \"rows\": 4760,\n  \"fields\": [\n    {\n      \"column\": \"Movie_Genre\",\n      \"properties\": {\n        \"dtype\": \"category\",\n        \"num_unique_values\": 1164,\n        \"samples\": [\n          \"Family Animation Adventure\",\n          \"Adventure Science Fiction Action\",\n          \"Action Crime Drama Romance Thriller\"\n        ],\n        \"semantic_type\": \"\",\n        \"description\": \"\"\n      }\n    },\n    {\n      \"column\": \"Movie_Keywords\",\n      \"properties\": {\n        \"dtype\": \"string\",\n        \"num_unique_values\": 4203,\n        \"samples\": [\n          \"canada nazis sequel spin off ancient evil\",\n          \"sex professor wedding woman director columbia university\",\n          \"prophecy sea beach gold small town\"\n        ],\n        \"semantic_type\": \"\",\n        \"description\": \"\"\n      }\n    },\n    {\n      \"column\": \"Movie_Tagline\",\n      \"properties\": {\n        \"dtype\": \"string\",\n        \"num_unique_values\": 3928,\n        \"samples\": [\n          \"The messenger must be silenced.\",\n          \"It's not the house that's haunted.\",\n          \"The final hunt begins.\"\n        ],\n        \"semantic_type\": \"\",\n        \"description\": \"\"\n      }\n    },\n    {\n      \"column\": \"Movie_Cast\",\n      \"properties\": {\n        \"dtype\": \"string\",\n        \"num_unique_values\": 4715,\n        \"samples\": [\n          \"Robin Tunney Fairuza Balk Neve Campbell Rachel True Skeet Ulrich\",\n          \"Peter Sellers Christopher Plummer Herbert Lom Catherine Schell Peter Arne\",\n          \"John Wayne Laraine Day Cedric Hardwicke Judith Anderson Anthony Quinn\"\n        ],\n        \"semantic_type\": \"\",\n        \"description\": \"\"\n      }\n    },\n    {\n      \"column\": \"Movie_Director\",\n      \"properties\": {\n        \"dtype\": \"category\",\n        \"num_unique_values\": 2332,\n        \"samples\": [\n          \"Rob McKittrick\",\n          \"Terron R. Parsons\",\n          \"Cyrus Nowrasteh\"\n        ],\n        \"semantic_type\": \"\",\n        \"description\": \"\"\n      }\n    }\n  ]\n}"
            }
          },
          "metadata": {},
          "execution_count": 9
        }
      ]
    },
    {
      "cell_type": "code",
      "source": [
        "X = df_features['Movie_Genre'] + ' ' + df_features['Movie_Keywords'] + ' ' + df_features['Movie_Tagline'] + ' ' + df_features['Movie_Cast'] + ' ' + df_features['Movie_Director']"
      ],
      "metadata": {
        "id": "uN55xwalxVTF"
      },
      "execution_count": null,
      "outputs": []
    },
    {
      "cell_type": "code",
      "source": [
        "X.shape"
      ],
      "metadata": {
        "colab": {
          "base_uri": "https://localhost:8080/"
        },
        "id": "GFVyMerLxcGZ",
        "outputId": "a5030504-69d7-4ef1-8d59-9ceb39d6d58c"
      },
      "execution_count": null,
      "outputs": [
        {
          "output_type": "execute_result",
          "data": {
            "text/plain": [
              "(4760,)"
            ]
          },
          "metadata": {},
          "execution_count": 11
        }
      ]
    },
    {
      "cell_type": "markdown",
      "source": [
        "**Get Feature  Text Conversion To Tokens**"
      ],
      "metadata": {
        "id": "08FGQ-T3xiqM"
      }
    },
    {
      "cell_type": "code",
      "source": [
        "from sklearn.feature_extraction.text import TfidfVectorizer"
      ],
      "metadata": {
        "id": "SiH4Uf8Dxn9h"
      },
      "execution_count": null,
      "outputs": []
    },
    {
      "cell_type": "code",
      "source": [
        "tfidf = TfidfVectorizer()"
      ],
      "metadata": {
        "id": "ruPY0YvQxuxJ"
      },
      "execution_count": null,
      "outputs": []
    },
    {
      "cell_type": "code",
      "source": [
        "X = tfidf.fit_transform(X)"
      ],
      "metadata": {
        "id": "dAq-0ommx6Bb"
      },
      "execution_count": null,
      "outputs": []
    },
    {
      "cell_type": "code",
      "source": [
        "X.shape"
      ],
      "metadata": {
        "colab": {
          "base_uri": "https://localhost:8080/"
        },
        "id": "7hXYT5_Kx_Dv",
        "outputId": "42366201-6ed0-4c53-d19d-9f1846047bcf"
      },
      "execution_count": null,
      "outputs": [
        {
          "output_type": "execute_result",
          "data": {
            "text/plain": [
              "(4760, 17258)"
            ]
          },
          "metadata": {},
          "execution_count": 15
        }
      ]
    },
    {
      "cell_type": "code",
      "source": [
        "print(X)"
      ],
      "metadata": {
        "colab": {
          "base_uri": "https://localhost:8080/"
        },
        "id": "bmDbTnZpyF89",
        "outputId": "7cce91b4-be9f-42a2-ec75-8687b2021321"
      },
      "execution_count": null,
      "outputs": [
        {
          "output_type": "stream",
          "name": "stdout",
          "text": [
            "  (0, 617)\t0.1633382144407513\n",
            "  (0, 492)\t0.1432591540388685\n",
            "  (0, 15413)\t0.1465525095337543\n",
            "  (0, 9675)\t0.14226057295252661\n",
            "  (0, 9465)\t0.1659841367820977\n",
            "  (0, 1390)\t0.16898383612799558\n",
            "  (0, 7825)\t0.09799561597509843\n",
            "  (0, 1214)\t0.13865857545144072\n",
            "  (0, 729)\t0.13415063359531618\n",
            "  (0, 13093)\t0.1432591540388685\n",
            "  (0, 15355)\t0.10477815972666779\n",
            "  (0, 9048)\t0.0866842116160778\n",
            "  (0, 11161)\t0.06250380151644369\n",
            "  (0, 16773)\t0.17654247479915475\n",
            "  (0, 5612)\t0.08603537588547631\n",
            "  (0, 16735)\t0.10690083751525419\n",
            "  (0, 7904)\t0.13348000542112332\n",
            "  (0, 15219)\t0.09800472886453934\n",
            "  (0, 11242)\t0.07277788238484746\n",
            "  (0, 3878)\t0.11998399582562203\n",
            "  (0, 5499)\t0.11454057510303811\n",
            "  (0, 7071)\t0.19822417598406614\n",
            "  (0, 7454)\t0.14745635785412262\n",
            "  (0, 1495)\t0.19712637387361423\n",
            "  (0, 9206)\t0.15186283580984414\n",
            "  :\t:\n",
            "  (4757, 5455)\t0.12491480594769522\n",
            "  (4757, 2967)\t0.16273475835631626\n",
            "  (4757, 8464)\t0.23522565554066333\n",
            "  (4757, 6938)\t0.17088173678136628\n",
            "  (4757, 8379)\t0.17480603856721913\n",
            "  (4757, 15303)\t0.07654356007668191\n",
            "  (4757, 15384)\t0.09754322497537371\n",
            "  (4757, 7649)\t0.11479421494340192\n",
            "  (4757, 10896)\t0.14546473055066447\n",
            "  (4757, 4494)\t0.05675298448720501\n",
            "  (4758, 5238)\t1.0\n",
            "  (4759, 11264)\t0.33947721804318337\n",
            "  (4759, 11708)\t0.33947721804318337\n",
            "  (4759, 205)\t0.3237911628497312\n",
            "  (4759, 8902)\t0.3040290704566037\n",
            "  (4759, 14062)\t0.3237911628497312\n",
            "  (4759, 3058)\t0.2812896191863103\n",
            "  (4759, 7130)\t0.26419662449963793\n",
            "  (4759, 10761)\t0.3126617295732147\n",
            "  (4759, 4358)\t0.18306542312175342\n",
            "  (4759, 14051)\t0.20084315377640435\n",
            "  (4759, 5690)\t0.19534291014627303\n",
            "  (4759, 15431)\t0.19628653185946862\n",
            "  (4759, 1490)\t0.21197258705292082\n",
            "  (4759, 10666)\t0.15888268987343043\n"
          ]
        }
      ]
    },
    {
      "cell_type": "markdown",
      "source": [
        "**Get Similar Score Using Cosine Similarity**"
      ],
      "metadata": {
        "id": "ze8SnquGyNn9"
      }
    },
    {
      "cell_type": "code",
      "source": [
        "from sklearn.metrics.pairwise import cosine_similarity"
      ],
      "metadata": {
        "id": "7IRoRmkvyUqS"
      },
      "execution_count": null,
      "outputs": []
    },
    {
      "cell_type": "code",
      "source": [
        "Similarity_score = cosine_similarity(X)"
      ],
      "metadata": {
        "id": "VToNn0hiyZXe"
      },
      "execution_count": null,
      "outputs": []
    },
    {
      "cell_type": "code",
      "source": [
        "Similarity_score"
      ],
      "metadata": {
        "colab": {
          "base_uri": "https://localhost:8080/"
        },
        "id": "QM7pVEHIyiFx",
        "outputId": "8ce9741e-13f6-4bd3-e189-07279bab1f2a"
      },
      "execution_count": null,
      "outputs": [
        {
          "output_type": "execute_result",
          "data": {
            "text/plain": [
              "array([[1.        , 0.01351235, 0.03570468, ..., 0.        , 0.        ,\n",
              "        0.        ],\n",
              "       [0.01351235, 1.        , 0.00806674, ..., 0.        , 0.        ,\n",
              "        0.        ],\n",
              "       [0.03570468, 0.00806674, 1.        , ..., 0.        , 0.08014876,\n",
              "        0.        ],\n",
              "       ...,\n",
              "       [0.        , 0.        , 0.        , ..., 1.        , 0.        ,\n",
              "        0.        ],\n",
              "       [0.        , 0.        , 0.08014876, ..., 0.        , 1.        ,\n",
              "        0.        ],\n",
              "       [0.        , 0.        , 0.        , ..., 0.        , 0.        ,\n",
              "        1.        ]])"
            ]
          },
          "metadata": {},
          "execution_count": 19
        }
      ]
    },
    {
      "cell_type": "code",
      "source": [
        "Similarity_score.shape"
      ],
      "metadata": {
        "colab": {
          "base_uri": "https://localhost:8080/"
        },
        "id": "rmrEQ2nkyqMq",
        "outputId": "0c3a24c9-b18f-4ba6-d3b7-741ad2f1b4ba"
      },
      "execution_count": null,
      "outputs": [
        {
          "output_type": "execute_result",
          "data": {
            "text/plain": [
              "(4760, 4760)"
            ]
          },
          "metadata": {},
          "execution_count": 20
        }
      ]
    },
    {
      "cell_type": "markdown",
      "source": [
        "**Get Movie Name As Input From User and Validate for Closest Spelling**"
      ],
      "metadata": {
        "id": "ouIL18IjyvpG"
      }
    },
    {
      "cell_type": "code",
      "source": [
        "Favorited_Movie_Name = input('Enter Your Favorited Movie Name : ')"
      ],
      "metadata": {
        "colab": {
          "base_uri": "https://localhost:8080/"
        },
        "id": "NOrBBG1kys8o",
        "outputId": "f8327953-896f-495f-9bb7-4bf168e44bd9"
      },
      "execution_count": null,
      "outputs": [
        {
          "name": "stdout",
          "output_type": "stream",
          "text": [
            "Enter Your Favorited Movie Name : Deadpool\n"
          ]
        }
      ]
    },
    {
      "cell_type": "code",
      "source": [
        "All_movies_title_list = df['Movie_Title'].tolist()"
      ],
      "metadata": {
        "id": "Tz0xry_UzNhk"
      },
      "execution_count": null,
      "outputs": []
    },
    {
      "cell_type": "code",
      "source": [
        "import difflib"
      ],
      "metadata": {
        "id": "Ph79GkiGzVjl"
      },
      "execution_count": null,
      "outputs": []
    },
    {
      "cell_type": "code",
      "source": [
        "Movie_Recommendation = difflib.get_close_matches(Favorited_Movie_Name, All_movies_title_list)\n",
        "print(Movie_Recommendation)"
      ],
      "metadata": {
        "colab": {
          "base_uri": "https://localhost:8080/"
        },
        "id": "A0Tja86QzYK4",
        "outputId": "d9a8a75d-7f4d-45a5-c47d-ab5421ffd7f6"
      },
      "execution_count": null,
      "outputs": [
        {
          "output_type": "stream",
          "name": "stdout",
          "text": [
            "['Deadpool', 'Tadpole', 'Deadfall']\n"
          ]
        }
      ]
    },
    {
      "cell_type": "code",
      "source": [
        "Close_Match = Movie_Recommendation[0]\n",
        "print(Close_Match)"
      ],
      "metadata": {
        "colab": {
          "base_uri": "https://localhost:8080/"
        },
        "id": "Jqalgckyzn3P",
        "outputId": "4c13a2a3-4685-4e9a-e513-0c1b8085b374"
      },
      "execution_count": null,
      "outputs": [
        {
          "output_type": "stream",
          "name": "stdout",
          "text": [
            "Deadpool\n"
          ]
        }
      ]
    },
    {
      "cell_type": "code",
      "source": [
        "from ast import Index\n",
        "Index_of_Close_Match_Movie = df[df.Movie_Title == Close_Match]['Movie_ID'].values[0]\n",
        "print(Index_of_Close_Match_Movie)"
      ],
      "metadata": {
        "colab": {
          "base_uri": "https://localhost:8080/"
        },
        "id": "OlilPX2_zxT3",
        "outputId": "0a53e653-9d6c-45ef-8099-bea2f3ca054f"
      },
      "execution_count": null,
      "outputs": [
        {
          "output_type": "stream",
          "name": "stdout",
          "text": [
            "4579\n"
          ]
        }
      ]
    },
    {
      "cell_type": "code",
      "source": [
        "# Getting a list of similar movie\n",
        "Recommendation_Score = list(enumerate(Similarity_score[Index_of_Close_Match_Movie]))\n",
        "print(Recommendation_Score)"
      ],
      "metadata": {
        "colab": {
          "base_uri": "https://localhost:8080/"
        },
        "id": "tLYlwAK7z9bI",
        "outputId": "16310349-79ad-46f9-cfbb-c2a81fca306b"
      },
      "execution_count": null,
      "outputs": [
        {
          "output_type": "stream",
          "name": "stdout",
          "text": [
            "[(0, 0.0), (1, 0.0), (2, 0.02852426265280855), (3, 0.0027675073537301205), (4, 0.003321595555450672), (5, 0.0031574510808075654), (6, 0.006161246616018257), (7, 0.0022614649291014034), (8, 0.003418870060860775), (9, 0.0), (10, 0.0), (11, 0.0032599670478567267), (12, 0.003361780117091757), (13, 0.0), (14, 0.0), (15, 0.0029036866474008807), (16, 0.007396822577650056), (17, 0.0), (18, 0.00850969369765031), (19, 0.003037350105423521), (20, 0.0032927863131674644), (21, 0.009490310816757594), (22, 0.0), (23, 0.0032805723783615177), (24, 0.0020560986094331686), (25, 0.0026040921806863974), (26, 0.003080234878766273), (27, 0.005948498795427093), (28, 0.0), (29, 0.0029978793783483654), (30, 0.005770458208698029), (31, 0.008346252941102746), (32, 0.002760681370412691), (33, 0.002782103645194191), (34, 0.009234575769500274), (35, 0.014581773610089893), (36, 0.0), (37, 0.0), (38, 0.01805969333167157), (39, 0.005749965099921983), (40, 0.017726964981943007), (41, 0.0035029383905479956), (42, 0.0), (43, 0.0028895499464870237), (44, 0.007387421120280513), (45, 0.0), (46, 0.005322439175389134), (47, 0.005082851804005655), (48, 0.009778418904197783), (49, 0.03222233290711626), (50, 0.0), (51, 0.00933706285441229), (52, 0.008485349285285423), (53, 0.0), (54, 0.0), (55, 0.0), (56, 0.0), (57, 0.0), (58, 0.0), (59, 0.0), (60, 0.002692956971789657), (61, 0.0031080459910781833), (62, 0.003475658635070324), (63, 0.002505455406196508), (64, 0.0), (65, 0.0), (66, 0.003141943580163547), (67, 0.00519271025113892), (68, 0.009411910337167434), (69, 0.006287669076608081), (70, 0.006263347601231632), (71, 0.0032251072618833766), (72, 0.005553697307681352), (73, 0.0), (74, 0.003348102404703797), (75, 0.0), (76, 0.004672482150035938), (77, 0.004315870101741829), (78, 0.004813577365784501), (79, 0.018891910586470433), (80, 0.005246982215123412), (81, 0.0), (82, 0.002388934294372911), (83, 0.005802930087531026), (84, 0.005606897888822235), (85, 0.003028494351365237), (86, 0.0), (87, 0.023822329588040408), (88, 0.004723139374238844), (89, 0.006456691950343749), (90, 0.0055997373626267884), (91, 0.0), (92, 0.0027704366836272245), (93, 0.005484743703956648), (94, 0.005258744670494785), (95, 0.00589057983933793), (96, 0.0029136297699306), (97, 0.002762658687398585), (98, 0.0030825801738368045), (99, 0.004952515309945355), (100, 0.0), (101, 0.0), (102, 0.023521128615314805), (103, 0.0027266927628181964), (104, 0.0031679583971445393), (105, 0.003122162717261616), (106, 0.0024233478417408525), (107, 0.010065188128100507), (108, 0.002239768989997343), (109, 0.0031385462411252936), (110, 0.0), (111, 0.0029243957372970357), (112, 0.008543828266746725), (113, 0.0025887601127496866), (114, 0.0031510784497118687), (115, 0.0032189842890438963), (116, 0.008375830273295267), (117, 0.0), (118, 0.005875718903701381), (119, 0.0030885560843811684), (120, 0.0032467049988697356), (121, 0.017417571971555166), (122, 0.0), (123, 0.0034442459774690487), (124, 0.008103461276492568), (125, 0.006555717003822987), (126, 0.0029702391403370458), (127, 0.0030652636671390514), (128, 0.006352763865368542), (129, 0.0021983062814927242), (130, 0.0), (131, 0.0), (132, 0.016801400706573558), (133, 0.0), (134, 0.0), (135, 0.005721535363205437), (136, 0.002907119640572586), (137, 0.005895701454081787), (138, 0.0054983971351251), (139, 0.0), (140, 0.0029489016612210383), (141, 0.0), (142, 0.002604596135921146), (143, 0.0), (144, 0.005441941625564495), (145, 0.005837719539122109), (146, 0.01704612514941377), (147, 0.007677918790971152), (148, 0.005196557818709101), (149, 0.007328476958132938), (150, 0.0), (151, 0.0), (152, 0.005561088647592592), (153, 0.0), (154, 0.017788534017313496), (155, 0.0), (156, 0.002557368183282981), (157, 0.002998211219529019), (158, 0.0028238478664229885), (159, 0.00246384860827001), (160, 0.005248846161653629), (161, 0.0028296644166827464), (162, 0.0), (163, 0.0), (164, 0.002995528876717085), (165, 0.0027213974060840648), (166, 0.007837599425994952), (167, 0.0030412345566649623), (168, 0.0), (169, 0.003092975021774199), (170, 0.005188509153608568), (171, 0.015000682512706618), (172, 0.0031580664607017833), (173, 0.0032993547351311023), (174, 0.003109519213780931), (175, 0.0026582561635273283), (176, 0.0032347870464635243), (177, 0.0), (178, 0.0033116634842577704), (179, 0.0), (180, 0.0), (181, 0.0), (182, 0.0031731871715812675), (183, 0.0028871558893464764), (184, 0.0027721513355228843), (185, 0.0), (186, 0.0), (187, 0.005022951597901844), (188, 0.0), (189, 0.005929985816162938), (190, 0.007573194582600591), (191, 0.005109285841438767), (192, 0.07768423632856922), (193, 0.020036720040503525), (194, 0.0025257843924158287), (195, 0.0026460665486324423), (196, 0.002644204033094051), (197, 0.002972453162494984), (198, 0.0031941044349941988), (199, 0.008091945864537417), (200, 0.007841603058819278), (201, 0.005974595067412107), (202, 0.002065686306528275), (203, 0.0029787030861202837), (204, 0.0032888871550077734), (205, 0.0), (206, 0.003339433725884686), (207, 0.006468128329743026), (208, 0.009421775524013064), (209, 0.0031766018536632584), (210, 0.009564530342126934), (211, 0.0032905353120902883), (212, 0.0029461231914682047), (213, 0.0029299918494185362), (214, 0.0), (215, 0.003092759972865415), (216, 0.003263733181993408), (217, 0.0), (218, 0.0028740554504248215), (219, 0.0), (220, 0.11027697501575928), (221, 0.002993149327897114), (222, 0.0078110219528335165), (223, 0.0), (224, 0.002408595909132682), (225, 0.0), (226, 0.0031476527471780004), (227, 0.0033644038892079327), (228, 0.0023842133572816535), (229, 0.0029349380166097017), (230, 0.0), (231, 0.0), (232, 0.0), (233, 0.0384617362264704), (234, 0.018529237829374733), (235, 0.0035532625743822975), (236, 0.008335999312004426), (237, 0.0), (238, 0.009051408873629688), (239, 0.006074041567628368), (240, 0.005300423109796073), (241, 0.005712392622894173), (242, 0.0027256235054846692), (243, 0.006247950065296688), (244, 0.021061510446796793), (245, 0.0), (246, 0.03925064559194839), (247, 0.0031126684625444843), (248, 0.0), (249, 0.0027608540274447757), (250, 0.02409119765003136), (251, 0.0026982291199528956), (252, 0.002788522153244777), (253, 0.0034418687462286395), (254, 0.0034698346285957685), (255, 0.009293120710596433), (256, 0.002351890034004618), (257, 0.0), (258, 0.0), (259, 0.0), (260, 0.005431496465106337), (261, 0.005524937537557407), (262, 0.0033071588008108635), (263, 0.0), (264, 0.0), (265, 0.0), (266, 0.00682836140282443), (267, 0.0026678201917156264), (268, 0.002807781842276228), (269, 0.0027012692424232465), (270, 0.0032923887415665268), (271, 0.006801268249773342), (272, 0.0), (273, 0.005557008519795908), (274, 0.0036146361058961413), (275, 0.0), (276, 0.008367708708346149), (277, 0.0), (278, 0.002711329987006338), (279, 0.002947106674057601), (280, 0.0031398532913541966), (281, 0.0035538668826556796), (282, 0.018669704427307313), (283, 0.002303775161036404), (284, 0.005461208368776408), (285, 0.0028511479041581377), (286, 0.0027014307399355394), (287, 0.0029539059309070053), (288, 0.004863134385692886), (289, 0.004596056064671378), (290, 0.0046728860723979195), (291, 0.005219714765925688), (292, 0.003054320038494064), (293, 0.0022383727812576833), (294, 0.004559533878241821), (295, 0.004670004643019966), (296, 0.006651281829962959), (297, 0.0), (298, 0.0), (299, 0.0), (300, 0.0), (301, 0.0), (302, 0.0), (303, 0.023362360189077433), (304, 0.005279490134843882), (305, 0.005720902844669813), (306, 0.005276112102151072), (307, 0.002952886876228623), (308, 0.003520289074969329), (309, 0.0025038992579008985), (310, 0.00550187802121051), (311, 0.0), (312, 0.03399345224663707), (313, 0.005934618158694482), (314, 0.004800334801234652), (315, 0.005744072596005355), (316, 0.00530725669254222), (317, 0.0027565355717275265), (318, 0.020710272344183035), (319, 0.012948406265482751), (320, 0.006003360353796291), (321, 0.005558145867268075), (322, 0.005638919025738503), (323, 0.005122349289452163), (324, 0.0029015373885708504), (325, 0.0029748352000214706), (326, 0.0038553068851225453), (327, 0.005136963379443321), (328, 0.0), (329, 0.008608997658505348), (330, 0.0021751988678531775), (331, 0.0), (332, 0.004287782863823382), (333, 0.06618078391406422), (334, 0.005152803250898751), (335, 0.0), (336, 0.0), (337, 0.0), (338, 0.0), (339, 0.0), (340, 0.0), (341, 0.0061658755579012325), (342, 0.02064447284620084), (343, 0.003171957697656779), (344, 0.0), (345, 0.0), (346, 0.01883094922932479), (347, 0.00574585044699092), (348, 0.003116337178004437), (349, 0.003053243664264112), (350, 0.009661365481113921), (351, 0.0024017940686421727), (352, 0.0), (353, 0.0031972769119151243), (354, 0.005240453950924797), (355, 0.06622992523887453), (356, 0.008465038431138005), (357, 0.002716600225017324), (358, 0.003061733996225694), (359, 0.0028890150593554433), (360, 0.005433686497752381), (361, 0.0), (362, 0.0), (363, 0.0), (364, 0.002708313334861828), (365, 0.0), (366, 0.0), (367, 0.0), (368, 0.0), (369, 0.0), (370, 0.008860169484047832), (371, 0.046914459245303526), (372, 0.00293320982583246), (373, 0.0029835075086041963), (374, 0.003105982641178145), (375, 0.005659341563938844), (376, 0.0), (377, 0.019526015246826112), (378, 0.0031615669410799936), (379, 0.0), (380, 0.006578583669119271), (381, 0.0), (382, 0.0), (383, 0.0), (384, 0.0), (385, 0.0), (386, 0.0), (387, 0.002969014569047739), (388, 0.002971852796130781), (389, 0.005701017296830232), (390, 0.015209881404122228), (391, 0.0), (392, 0.0), (393, 0.0), (394, 0.01350520822333358), (395, 0.0033775750938549063), (396, 0.0030252019705878028), (397, 0.005235836231674217), (398, 0.0), (399, 0.0029170297401319672), (400, 0.018777005206668588), (401, 0.0), (402, 0.003837704992214619), (403, 0.002668286696567334), (404, 0.0), (405, 0.0), (406, 0.00905439898588727), (407, 0.0025259174480013026), (408, 0.0029763671102457576), (409, 0.014549149717341456), (410, 0.01763090429334324), (411, 0.0), (412, 0.0025719030355581605), (413, 0.0), (414, 0.0), (415, 0.0), (416, 0.0028848198182594986), (417, 0.005319139652249573), (418, 0.006057182868079356), (419, 0.003545571554336611), (420, 0.006157677739976679), (421, 0.0), (422, 0.0), (423, 0.0), (424, 0.04483409361572825), (425, 0.044795195053029174), (426, 0.03693308900083908), (427, 0.0), (428, 0.0028421993501566876), (429, 0.009300761789017281), (430, 0.0033883696388912737), (431, 0.003712613184842073), (432, 0.01612194638619966), (433, 0.007259323555933003), (434, 0.0029782463391424692), (435, 0.00464342703864858), (436, 0.009929092462270344), (437, 0.002987099515565218), (438, 0.004681426226341988), (439, 0.0), (440, 0.0), (441, 0.0026014658974662223), (442, 0.007358532468577841), (443, 0.010264608460625298), (444, 0.003507652140187531), (445, 0.002694979233285376), (446, 0.0030709803587950332), (447, 0.009215067719762089), (448, 0.0036336662387851724), (449, 0.0028471632043335004), (450, 0.009737934624110153), (451, 0.07472524354915779), (452, 0.002371037780305645), (453, 0.00240723693934931), (454, 0.0), (455, 0.0022338869585212633), (456, 0.0033353518292986027), (457, 0.002889343606311968), (458, 0.009902268071560484), (459, 0.0), (460, 0.0056998428306511565), (461, 0.0), (462, 0.0), (463, 0.008224671069811966), (464, 0.0031117272224866393), (465, 0.002874053723777873), (466, 0.0031123403648966224), (467, 0.005644894606960562), (468, 0.005358613353673567), (469, 0.0047324243578310225), (470, 0.00935984062711032), (471, 0.0176975008116297), (472, 0.0032409622249730033), (473, 0.002848097559379212), (474, 0.0), (475, 0.0011005376528346108), (476, 0.0034556729653107228), (477, 0.0), (478, 0.0035628269143535064), (479, 0.0031443670607031325), (480, 0.0027624374263339525), (481, 0.009651133804308747), (482, 0.009262990699630904), (483, 0.0033238539878672), (484, 0.04500506526515373), (485, 0.0033736467512002076), (486, 0.0), (487, 0.003013593162120466), (488, 0.003044989054602367), (489, 0.0037658968510608723), (490, 0.003117329785619471), (491, 0.0), (492, 0.0), (493, 0.026201072125367927), (494, 0.062350522961773396), (495, 0.0027843614155797043), (496, 0.002687676174744244), (497, 0.0), (498, 0.0), (499, 0.0034259570191782804), (500, 0.0385014987381063), (501, 0.005142214285038412), (502, 0.009290660614879641), (503, 0.0), (504, 0.0031671094230073557), (505, 0.002990619264065617), (506, 0.0), (507, 0.0029559630935449047), (508, 0.0036197593884153213), (509, 0.009101021119520384), (510, 0.002516385151492601), (511, 0.005215304865123474), (512, 0.006806216203891986), (513, 0.006225001327931946), (514, 0.0062101015669748065), (515, 0.0028376434520494776), (516, 0.016472377880340304), (517, 0.034546518658197876), (518, 0.0036905922528312632), (519, 0.00783575316237078), (520, 0.0), (521, 0.0), (522, 0.0030558454886715847), (523, 0.006019657195130139), (524, 0.0028879728494883394), (525, 0.0), (526, 0.003958663899137161), (527, 0.0024922277005658766), (528, 0.0), (529, 0.0339685160697401), (530, 0.005637001385343442), (531, 0.0), (532, 0.005317492997793572), (533, 0.009981631843907367), (534, 0.008765062310656269), (535, 0.0), (536, 0.0), (537, 0.0065183564493129275), (538, 0.01303573478767553), (539, 0.0), (540, 0.005285145006152198), (541, 0.018330394206633363), (542, 0.006223240738772636), (543, 0.009242956417650158), (544, 0.003194647469615304), (545, 0.0), (546, 0.0), (547, 0.01597776785962933), (548, 0.0), (549, 0.0), (550, 0.006325153382777922), (551, 0.003269422013451951), (552, 0.0), (553, 0.0), (554, 0.0341250873599767), (555, 0.0), (556, 0.0), (557, 0.0), (558, 0.0029029050342605158), (559, 0.005101725597612487), (560, 0.07462887143831934), (561, 0.0), (562, 0.0067326731021630755), (563, 0.00800236352053213), (564, 0.07524789237878768), (565, 0.0), (566, 0.002641119877380492), (567, 0.0), (568, 0.0), (569, 0.0), (570, 0.0), (571, 0.006842412008961348), (572, 0.0), (573, 0.0), (574, 0.0), (575, 0.0), (576, 0.003548788236054071), (577, 0.0), (578, 0.002971146530913187), (579, 0.003191213654141113), (580, 0.009273541127672974), (581, 0.007997385810889032), (582, 0.0), (583, 0.0), (584, 0.08024469974287311), (585, 0.0), (586, 0.0), (587, 0.003462206092036258), (588, 0.0032712586498227217), (589, 0.0029175536855483557), (590, 0.07147680085004018), (591, 0.0), (592, 0.0), (593, 0.003210945804864226), (594, 0.002813811640438206), (595, 0.006297911824723978), (596, 0.0035272750317420433), (597, 0.0028298819739669833), (598, 0.002933140813294028), (599, 0.0), (600, 0.0), (601, 0.0), (602, 0.0), (603, 0.0), (604, 0.05158824671188656), (605, 0.016675328647049972), (606, 0.009164063302781002), (607, 0.002425800604283654), (608, 0.008044525784482982), (609, 0.002497799917166133), (610, 0.0), (611, 0.005057851753721425), (612, 0.003342404106190464), (613, 0.0), (614, 0.0036119673662203984), (615, 0.0), (616, 0.002623437077754824), (617, 0.007492691871843456), (618, 0.0), (619, 0.005699920210755998), (620, 0.003023624386538823), (621, 0.004845083242443339), (622, 0.009429958228908988), (623, 0.003343515272329799), (624, 0.002879470301865901), (625, 0.004927953817071432), (626, 0.0026678589394611048), (627, 0.004262767490926215), (628, 0.008947515184168073), (629, 0.004944880279453908), (630, 0.0), (631, 0.0032368251888552383), (632, 0.0), (633, 0.0056100028157407495), (634, 0.005625455035321373), (635, 0.006252022627031285), (636, 0.008962584037729949), (637, 0.009189980287251695), (638, 0.00290146803527439), (639, 0.004835526404475529), (640, 0.03262366158220705), (641, 0.0022543373229381705), (642, 0.007665510625676348), (643, 0.008599671636317186), (644, 0.008430437690603811), (645, 0.0025711717833129346), (646, 0.0030273631999028256), (647, 0.0027621324558371554), (648, 0.0), (649, 0.0), (650, 0.0), (651, 0.003039322131662451), (652, 0.00907729699117769), (653, 0.0077213280865105535), (654, 0.006035504838464486), (655, 0.0029397702254108293), (656, 0.0), (657, 0.002795563681769543), (658, 0.0), (659, 0.002932414055896835), (660, 0.009270171471897307), (661, 0.0697975340474585), (662, 0.0), (663, 0.0), (664, 0.0), (665, 0.0), (666, 0.006443881290014354), (667, 0.006020543715043206), (668, 0.0045304228720797046), (669, 0.008165580262620313), (670, 0.010936869158495555), (671, 0.0), (672, 0.002807150098709086), (673, 0.009684450402116403), (674, 0.0), (675, 0.009678010887715478), (676, 0.008603664076471541), (677, 0.0), (678, 0.006242801764030976), (679, 0.0), (680, 0.0033479338300439576), (681, 0.0), (682, 0.006440388184900895), (683, 0.003553955960047009), (684, 0.0023100206353414703), (685, 0.005882549736329567), (686, 0.0), (687, 0.006353300650072551), (688, 0.009830956449944089), (689, 0.01452092214345619), (690, 0.005327935470874463), (691, 0.0025443479909183515), (692, 0.004949350505420231), (693, 0.059029162284190584), (694, 0.00834537468546801), (695, 0.0052744386976500204), (696, 0.008932724825903257), (697, 0.0031612442932556265), (698, 0.0029784815843787145), (699, 0.0), (700, 0.0), (701, 0.009906446999356128), (702, 0.0), (703, 0.0027963697272234385), (704, 0.0), (705, 0.002787001120710528), (706, 0.0025004153747988363), (707, 0.0026478585637721517), (708, 0.0), (709, 0.0), (710, 0.0), (711, 0.0), (712, 0.002781311687018027), (713, 0.015045249929707804), (714, 0.0), (715, 0.0034738855068983786), (716, 0.00930617472011066), (717, 0.003282926317538898), (718, 0.0), (719, 0.03425156816627413), (720, 0.0), (721, 0.003607036364847129), (722, 0.002828681963896854), (723, 0.004847717851668579), (724, 0.0), (725, 0.0), (726, 0.0), (727, 0.008719071262997292), (728, 0.0266162634280046), (729, 0.02751815323570815), (730, 0.0), (731, 0.003011371654028934), (732, 0.007922304837247164), (733, 0.007678496882630089), (734, 0.002948272969591419), (735, 0.004298714221685816), (736, 0.0), (737, 0.0035507041695158606), (738, 0.004717451246536601), (739, 0.003592248973124054), (740, 0.0021118633657321454), (741, 0.0), (742, 0.008342050282621182), (743, 0.009119406229262756), (744, 0.00820705199295673), (745, 0.0), (746, 0.0), (747, 0.0), (748, 0.0), (749, 0.003149976768862623), (750, 0.009041167711398533), (751, 0.0), (752, 0.0), (753, 0.006638127799446563), (754, 0.0), (755, 0.03536610836566695), (756, 0.005028486284819878), (757, 0.05737312274974184), (758, 0.0), (759, 0.017254326560968786), (760, 0.006569282113871367), (761, 0.024681128231002616), (762, 0.0049635754543010625), (763, 0.0), (764, 0.0), (765, 0.006052075686594616), (766, 0.002912843059565145), (767, 0.0029862843646413628), (768, 0.0), (769, 0.008758367920760096), (770, 0.0), (771, 0.0), (772, 0.0), (773, 0.0), (774, 0.0032618766960238322), (775, 0.004380941188216282), (776, 0.0), (777, 0.003783645623604965), (778, 0.0), (779, 0.00489502711262279), (780, 0.0), (781, 0.0), (782, 0.003020844240498805), (783, 0.0033162471431266685), (784, 0.0), (785, 0.0), (786, 0.0), (787, 0.0019255915780980579), (788, 0.005780913722770323), (789, 0.0), (790, 0.005550269495980461), (791, 0.003381899515580577), (792, 0.003348704265728503), (793, 0.04100795255506934), (794, 0.039328047718411724), (795, 0.0), (796, 0.0026136072664987623), (797, 0.0), (798, 0.0030042185525694237), (799, 0.008651327870554934), (800, 0.022180910479660542), (801, 0.005245559014960061), (802, 0.006265814624784137), (803, 0.005118149891538444), (804, 0.00798196050293069), (805, 0.002911115493628606), (806, 0.003248747864257391), (807, 0.0), (808, 0.007823640170903859), (809, 0.0058789669604047), (810, 0.005350175034770127), (811, 0.005805634849467188), (812, 0.0), (813, 0.003535746494962522), (814, 0.0), (815, 0.002812480968582206), (816, 0.0025622590999255404), (817, 0.003046455916970587), (818, 0.0029740156962909203), (819, 0.014978323012557372), (820, 0.0), (821, 0.0), (822, 0.0), (823, 0.0036286437998629714), (824, 0.0021922229448768727), (825, 0.0055539027168590785), (826, 0.02021107874798987), (827, 0.005432533728067588), (828, 0.002973829798396926), (829, 0.022669427145181678), (830, 0.0033092465876289876), (831, 0.00626505114985184), (832, 0.009023490904612397), (833, 0.0), (834, 0.0), (835, 0.0), (836, 0.0), (837, 0.0), (838, 0.002927277069118069), (839, 0.0), (840, 0.0), (841, 0.0), (842, 0.007002029273653118), (843, 0.0025888873857406337), (844, 0.006786348817344948), (845, 0.00929082774164121), (846, 0.0), (847, 0.0036100106790962006), (848, 0.0031748499955570626), (849, 0.005722683156175363), (850, 0.003204863044303321), (851, 0.00275783599996332), (852, 0.003011380668771343), (853, 0.006861594026737975), (854, 0.018085952622308277), (855, 0.006538571784254145), (856, 0.0028100289397770583), (857, 0.0034763711623138766), (858, 0.002125579236089383), (859, 0.0), (860, 0.010282395095414232), (861, 0.0076420940081744085), (862, 0.0), (863, 0.008112071941524988), (864, 0.003181035836949799), (865, 0.0032324484662793525), (866, 0.008250154122011402), (867, 0.0031025793551117315), (868, 0.03958438243221471), (869, 0.0), (870, 0.00867769401992732), (871, 0.0032345981033240004), (872, 0.0033702053560017505), (873, 0.0), (874, 0.00271483155345626), (875, 0.006285059246990669), (876, 0.01012952550036538), (877, 0.004579469215275352), (878, 0.008382121813917802), (879, 0.009258671417019786), (880, 0.008747108260572652), (881, 0.0), (882, 0.0), (883, 0.003007209943444593), (884, 0.0032752873927507573), (885, 0.0028236844560766447), (886, 0.002951348742593758), (887, 0.003423017608081371), (888, 0.00983567287702507), (889, 0.004051481285896228), (890, 0.019764654917748082), (891, 0.00603207833197091), (892, 0.0), (893, 0.005163695450426459), (894, 0.003118511508434546), (895, 0.017655872375099156), (896, 0.009694791885590463), (897, 0.0031720260515635426), (898, 0.05387622933666649), (899, 0.002901950994462681), (900, 0.03986251512290071), (901, 0.002607481438761206), (902, 0.0058742204659674), (903, 0.0029509136091968916), (904, 0.006740907570565156), (905, 0.006624282879705651), (906, 0.0), (907, 0.017427553656617356), (908, 0.0), (909, 0.0), (910, 0.008123735223043868), (911, 0.008407598457824171), (912, 0.0), (913, 0.0), (914, 0.0), (915, 0.005510318050394362), (916, 0.00530612181569168), (917, 0.016962901605550675), (918, 0.00592615460800693), (919, 0.00581941234690675), (920, 0.0), (921, 0.002929870837700992), (922, 0.05650803407722113), (923, 0.008546384373636385), (924, 0.0027421287881043296), (925, 0.0036197693216904335), (926, 0.0), (927, 0.021118042762000536), (928, 0.005975859972171307), (929, 0.0022709168721374083), (930, 0.009419549857398452), (931, 0.005722506931898567), (932, 0.005119034719377812), (933, 0.0032150646321569597), (934, 0.0028690986195356013), (935, 0.0029281161909577038), (936, 0.007985038778236952), (937, 0.010368358366334467), (938, 0.0), (939, 0.0029693147908314028), (940, 0.050267538107419074), (941, 0.002948493846053498), (942, 0.007214707740984934), (943, 0.0), (944, 0.0029330072749958708), (945, 0.0), (946, 0.0), (947, 0.10461217544386185), (948, 0.0), (949, 0.003744522376986604), (950, 0.0), (951, 0.0026575750243654286), (952, 0.009593279295512638), (953, 0.06616634629058632), (954, 0.029710871475921392), (955, 0.0), (956, 0.0), (957, 0.002874574484851239), (958, 0.0), (959, 0.0030577467314772573), (960, 0.0), (961, 0.0), (962, 0.002985064380660799), (963, 0.008295535929128807), (964, 0.0), (965, 0.0), (966, 0.0029723481811018424), (967, 0.009797993482684479), (968, 0.008039021287755533), (969, 0.03767128905257543), (970, 0.004838219870655703), (971, 0.0), (972, 0.0), (973, 0.01867080580580341), (974, 0.005360696649380786), (975, 0.002947089536709853), (976, 0.0060356857302638345), (977, 0.0), (978, 0.0), (979, 0.005063671404123385), (980, 0.009172071879636687), (981, 0.00798954838075137), (982, 0.017383863420122325), (983, 0.0), (984, 0.0683208156893705), (985, 0.003601175170527644), (986, 0.00886777042563942), (987, 0.003265237717485796), (988, 0.024511074674234502), (989, 0.008728782253445928), (990, 0.0), (991, 0.009526171992591152), (992, 0.00612628810831201), (993, 0.0031712372449040336), (994, 0.0031992135671425194), (995, 0.0), (996, 0.008080576018113121), (997, 0.005150184687523205), (998, 0.0035687695610410785), (999, 0.003565848771884873), (1000, 0.02219588821565747), (1001, 0.008458123173517204), (1002, 0.0029994810652952232), (1003, 0.005853275557038167), (1004, 0.031150575918758982), (1005, 0.002406230000024952), (1006, 0.0032889443736932853), (1007, 0.0033141497237606566), (1008, 0.0), (1009, 0.007872841624153214), (1010, 0.0), (1011, 0.0), (1012, 0.005672826602816929), (1013, 0.0), (1014, 0.0), (1015, 0.00959313570254012), (1016, 0.0), (1017, 0.008625881819691365), (1018, 0.0049936261436616825), (1019, 0.005974654194591829), (1020, 0.003020237276086511), (1021, 0.0031357542780390776), (1022, 0.0), (1023, 0.0035386629813937503), (1024, 0.005964292474511116), (1025, 0.0), (1026, 0.0030891341399826096), (1027, 0.018121561572522416), (1028, 0.0), (1029, 0.0), (1030, 0.02388756196008489), (1031, 0.0), (1032, 0.0029733866543287264), (1033, 0.003017519692742602), (1034, 0.0030147810026262306), (1035, 0.008621400345602053), (1036, 0.0029691106859504927), (1037, 0.002560851814669859), (1038, 0.0), (1039, 0.0), (1040, 0.002458789011697369), (1041, 0.008330311456651224), (1042, 0.0026292294157833737), (1043, 0.0034402058684345938), (1044, 0.008596959868022013), (1045, 0.0), (1046, 0.0), (1047, 0.005966313060415938), (1048, 0.003271377086805062), (1049, 0.02247153757946476), (1050, 0.0026819311099919346), (1051, 0.0), (1052, 0.0029144280539590583), (1053, 0.003702759144276118), (1054, 0.005407299809369579), (1055, 0.0), (1056, 0.0), (1057, 0.0), (1058, 0.007018881085461852), (1059, 0.003116209603541096), (1060, 0.0030373678065808655), (1061, 0.005155347907255694), (1062, 0.0), (1063, 0.005532909452598704), (1064, 0.01075181285734491), (1065, 0.008111293583948742), (1066, 0.0), (1067, 0.0), (1068, 0.06880865626739527), (1069, 0.0), (1070, 0.0), (1071, 0.009470505853761784), (1072, 0.0031180304958686885), (1073, 0.0), (1074, 0.005744049995052172), (1075, 0.0033162854915597356), (1076, 0.0), (1077, 0.0032161243862889625), (1078, 0.0026216704769060203), (1079, 0.0028949580572797417), (1080, 0.002834008144306242), (1081, 0.0), (1082, 0.005624096421829283), (1083, 0.009233594524392659), (1084, 0.0030847122096071817), (1085, 0.0), (1086, 0.0), (1087, 0.01926657661307266), (1088, 0.002691107394506231), (1089, 0.0), (1090, 0.0), (1091, 0.0), (1092, 0.004773023486711251), (1093, 0.0), (1094, 0.0), (1095, 0.029708563250880848), (1096, 0.0030626541205843578), (1097, 0.015498052290529647), (1098, 0.0025670778942987567), (1099, 0.07188500641949744), (1100, 0.003095983472901113), (1101, 0.0), (1102, 0.0031244108429500615), (1103, 0.0), (1104, 0.00602736720942239), (1105, 0.0), (1106, 0.0), (1107, 0.008256945077975274), (1108, 0.0), (1109, 0.0034907645023665164), (1110, 0.003094365002358164), (1111, 0.0), (1112, 0.0031354968977726186), (1113, 0.0), (1114, 0.002899583812890654), (1115, 0.0046013249018544665), (1116, 0.0), (1117, 0.0030242224998434535), (1118, 0.01518389003290149), (1119, 0.009475053767841341), (1120, 0.004882189279635423), (1121, 0.08998605011932223), (1122, 0.0032050330927117466), (1123, 0.008434283256168032), (1124, 0.10546804230002736), (1125, 0.0), (1126, 0.0), (1127, 0.005636247509641334), (1128, 0.06729460928828078), (1129, 0.005728622385842484), (1130, 0.015485166944906134), (1131, 0.003158590344826669), (1132, 0.00843405539990615), (1133, 0.0), (1134, 0.005161790130072847), (1135, 0.0), (1136, 0.002759877599221191), (1137, 0.0047016059422873135), (1138, 0.043127675499835885), (1139, 0.0), (1140, 0.009502192175761788), (1141, 0.009483978548583457), (1142, 0.0), (1143, 0.0), (1144, 0.0025098632451124683), (1145, 0.004353199610247083), (1146, 0.005536922198717557), (1147, 0.0), (1148, 0.010019948119057565), (1149, 0.0), (1150, 0.006176490902508309), (1151, 0.0), (1152, 0.0), (1153, 0.0040150453988111404), (1154, 0.0051041654139416855), (1155, 0.0), (1156, 0.0), (1157, 0.0), (1158, 0.006397845432308399), (1159, 0.0), (1160, 0.0029880529985369486), (1161, 0.0028417496531091962), (1162, 0.0062474963736475), (1163, 0.0031425358195554826), (1164, 0.0046563270461935135), (1165, 0.0), (1166, 0.0), (1167, 0.006273683284827203), (1168, 0.003780311109094561), (1169, 0.003684396123984387), (1170, 0.0031516213376126365), (1171, 0.0), (1172, 0.0), (1173, 0.0051822405286203015), (1174, 0.00907245072194755), (1175, 0.0031770461486014348), (1176, 0.0032134648272782794), (1177, 0.00835984681497505), (1178, 0.0), (1179, 0.008873314003315255), (1180, 0.0), (1181, 0.005391391243357064), (1182, 0.003211899319108907), (1183, 0.008237345958099093), (1184, 0.01012434424071414), (1185, 0.006033098916237366), (1186, 0.002764209375094599), (1187, 0.003698698299324692), (1188, 0.009314739080882775), (1189, 0.0), (1190, 0.0), (1191, 0.00890954465491589), (1192, 0.009298092901767068), (1193, 0.0), (1194, 0.0), (1195, 0.0), (1196, 0.0), (1197, 0.005265145283839021), (1198, 0.0), (1199, 0.0027770665562153306), (1200, 0.0), (1201, 0.0), (1202, 0.007527589432711111), (1203, 0.002955785605509492), (1204, 0.0031940426970537674), (1205, 0.0), (1206, 0.017715664537446177), (1207, 0.005470746299170809), (1208, 0.004013523764011313), (1209, 0.0026233778086286207), (1210, 0.004164046756091025), (1211, 0.005426132432898706), (1212, 0.0), (1213, 0.0), (1214, 0.0), (1215, 0.021123005064673923), (1216, 0.0028546798573600447), (1217, 0.0027330495330313547), (1218, 0.0), (1219, 0.0028241599588944457), (1220, 0.008009861131083415), (1221, 0.0), (1222, 0.0), (1223, 0.008908870127398666), (1224, 0.009263860158883423), (1225, 0.009362136847808365), (1226, 0.005668806132420265), (1227, 0.0), (1228, 0.0), (1229, 0.009264979001276893), (1230, 0.005496464545753707), (1231, 0.0), (1232, 0.008943003216611848), (1233, 0.0), (1234, 0.020067827124079257), (1235, 0.0), (1236, 0.005207812745893744), (1237, 0.008055944613318862), (1238, 0.0), (1239, 0.0), (1240, 0.0), (1241, 0.015579193146555315), (1242, 0.014456654554847471), (1243, 0.0034336908382304227), (1244, 0.0), (1245, 0.0030515500626222417), (1246, 0.0), (1247, 0.0030406193443690646), (1248, 0.008526555330279571), (1249, 0.0), (1250, 0.0), (1251, 0.016769652428713776), (1252, 0.00879257121904574), (1253, 0.015582380942476798), (1254, 0.0032264233044506123), (1255, 0.008432174122277338), (1256, 0.0), (1257, 0.04201231069530156), (1258, 0.0), (1259, 0.0052339942993035096), (1260, 0.0), (1261, 0.003047973410749144), (1262, 0.005711196681322669), (1263, 0.0), (1264, 0.0037921035618910413), (1265, 0.0), (1266, 0.005842237591175464), (1267, 0.04564607871766005), (1268, 0.0), (1269, 0.0), (1270, 0.00524980476595292), (1271, 0.0), (1272, 0.005642272923215918), (1273, 0.002996088845847454), (1274, 0.0), (1275, 0.010239920269015029), (1276, 0.004271251415002784), (1277, 0.002354153380515949), (1278, 0.0), (1279, 0.0048213238313997335), (1280, 0.006097797912228586), (1281, 0.019650408054412944), (1282, 0.0), (1283, 0.0), (1284, 0.0030645071104674487), (1285, 0.0), (1286, 0.0030862233576976522), (1287, 0.0), (1288, 0.014378481385266269), (1289, 0.0), (1290, 0.0027889832858759064), (1291, 0.0), (1292, 0.00563125074101145), (1293, 0.015189336707466425), (1294, 0.003231729529598058), (1295, 0.0), (1296, 0.012988440435588916), (1297, 0.0), (1298, 0.0031306436176486542), (1299, 0.0), (1300, 0.004842143721020485), (1301, 0.002750321199399733), (1302, 0.005808003434190459), (1303, 0.007155174279007078), (1304, 0.0031491303593736693), (1305, 0.002602558387841779), (1306, 0.0022949069555818257), (1307, 0.0), (1308, 0.002888243316613262), (1309, 0.00490100402934006), (1310, 0.0), (1311, 0.037294061565847365), (1312, 0.0026566611043496212), (1313, 0.003102143554500094), (1314, 0.005633218376912515), (1315, 0.0), (1316, 0.0), (1317, 0.002550659947477268), (1318, 0.0028075899935554975), (1319, 0.003088583837057462), (1320, 0.0), (1321, 0.0), (1322, 0.0), (1323, 0.0), (1324, 0.02021513683263441), (1325, 0.009618953751983612), (1326, 0.0), (1327, 0.0), (1328, 0.0), (1329, 0.0), (1330, 0.0), (1331, 0.0), (1332, 0.0063802521159886175), (1333, 0.0), (1334, 0.0032316773533953244), (1335, 0.04305891799498736), (1336, 0.0), (1337, 0.009056526717025587), (1338, 0.0030962851478043792), (1339, 0.003346157593265951), (1340, 0.002673489729039437), (1341, 0.0), (1342, 0.0), (1343, 0.006807412098184875), (1344, 0.0), (1345, 0.0), (1346, 0.0), (1347, 0.005531185035669416), (1348, 0.004988025138482965), (1349, 0.003547086445574266), (1350, 0.003066508894959989), (1351, 0.0065447287360772335), (1352, 0.0026741022503758973), (1353, 0.0), (1354, 0.01457804233479304), (1355, 0.003223799086688727), (1356, 0.00751130966187682), (1357, 0.0029011081986838492), (1358, 0.0), (1359, 0.003382777664636121), (1360, 0.008076897980845207), (1361, 0.0), (1362, 0.0), (1363, 0.0), (1364, 0.003268836465166266), (1365, 0.002658376473354347), (1366, 0.0028397102294036103), (1367, 0.002628937942848596), (1368, 0.0), (1369, 0.007263551122417629), (1370, 0.0027144248085205817), (1371, 0.017554318154335082), (1372, 0.017777193222010785), (1373, 0.0), (1374, 0.0), (1375, 0.008434769157027682), (1376, 0.0), (1377, 0.0071588236120216555), (1378, 0.0031454106554696585), (1379, 0.0), (1380, 0.0060393140726225265), (1381, 0.024706218003199748), (1382, 0.0032494035291066874), (1383, 0.010017839064945135), (1384, 0.005096613363545668), (1385, 0.008885705898555234), (1386, 0.016066174926683417), (1387, 0.0028419093304676304), (1388, 0.0), (1389, 0.0), (1390, 0.0), (1391, 0.006388679810158648), (1392, 0.0027989597699683306), (1393, 0.0), (1394, 0.0027891351080203963), (1395, 0.004609479389187976), (1396, 0.005988610040883096), (1397, 0.0027223524587847037), (1398, 0.0036442760706676593), (1399, 0.0), (1400, 0.009354753121527573), (1401, 0.01668710489703493), (1402, 0.0033011147899222157), (1403, 0.040101585395509697), (1404, 0.0029757777533843317), (1405, 0.0), (1406, 0.0727177358109229), (1407, 0.0060855323230591995), (1408, 0.0030660119766640795), (1409, 0.003367891886181608), (1410, 0.003181727788474364), (1411, 0.0031108357716556883), (1412, 0.03758373115990882), (1413, 0.009006592710706309), (1414, 0.022015339372766403), (1415, 0.0025792519478723547), (1416, 0.003008350818795129), (1417, 0.006927423965699802), (1418, 0.0), (1419, 0.0678728549647468), (1420, 0.005703150723384996), (1421, 0.008555364213939098), (1422, 0.00306514523571828), (1423, 0.002793897108705064), (1424, 0.0), (1425, 0.0), (1426, 0.006066985294936262), (1427, 0.002580606838445771), (1428, 0.020408520588629773), (1429, 0.010668764684029313), (1430, 0.005324694353390333), (1431, 0.005863804357108472), (1432, 0.005964973262528383), (1433, 0.008256348942742386), (1434, 0.002874193359672329), (1435, 0.022010887231212157), (1436, 0.0060589920945915594), (1437, 0.0), (1438, 0.003117676116249343), (1439, 0.0032961690897123554), (1440, 0.003196683432452115), (1441, 0.0), (1442, 0.011902566404655427), (1443, 0.0059081317155106955), (1444, 0.0), (1445, 0.0), (1446, 0.00301680547666471), (1447, 0.0), (1448, 0.00820014246242533), (1449, 0.006028575313824912), (1450, 0.002712892133299258), (1451, 0.005378940777921591), (1452, 0.006052798666676505), (1453, 0.0), (1454, 0.0097475298434186), (1455, 0.021503217597229493), (1456, 0.002922015495786772), (1457, 0.0), (1458, 0.06297345543686697), (1459, 0.0), (1460, 0.0), (1461, 0.0), (1462, 0.008139916766091803), (1463, 0.0030352522257328855), (1464, 0.00257872937047741), (1465, 0.0027293254887303595), (1466, 0.0), (1467, 0.0), (1468, 0.0), (1469, 0.00592827438367387), (1470, 0.0), (1471, 0.018299840962110212), (1472, 0.008977721788406298), (1473, 0.0), (1474, 0.0035107805065469734), (1475, 0.03847586174353784), (1476, 0.0031894326803994155), (1477, 0.0029036641245415735), (1478, 0.008498232276535008), (1479, 0.0034527794545894915), (1480, 0.0053226287160758464), (1481, 0.008589342923216337), (1482, 0.0), (1483, 0.008805710793051093), (1484, 0.00938748972522593), (1485, 0.029992423109838087), (1486, 0.0), (1487, 0.0), (1488, 0.008896857592394933), (1489, 0.009972010449297717), (1490, 0.0), (1491, 0.0), (1492, 0.0), (1493, 0.0055208256824811), (1494, 0.003243127562713192), (1495, 0.08594862386263173), (1496, 0.0), (1497, 0.0035928119013646635), (1498, 0.009866275477945281), (1499, 0.0035240456168511482), (1500, 0.0031104686309259997), (1501, 0.0), (1502, 0.006047221307192676), (1503, 0.0028542660915614553), (1504, 0.0), (1505, 0.0), (1506, 0.006077403896662876), (1507, 0.0), (1508, 0.0), (1509, 0.006062635849088015), (1510, 0.008959176057604795), (1511, 0.0), (1512, 0.0), (1513, 0.01974131192558682), (1514, 0.002913450583171914), (1515, 0.0), (1516, 0.0032420926441259768), (1517, 0.0), (1518, 0.0033904911765073893), (1519, 0.008206559125509029), (1520, 0.0), (1521, 0.0), (1522, 0.0), (1523, 0.0), (1524, 0.0), (1525, 0.0), (1526, 0.01510138366423767), (1527, 0.003080942107997573), (1528, 0.002859348609997753), (1529, 0.0), (1530, 0.0046896473358300945), (1531, 0.006050545869954728), (1532, 0.0), (1533, 0.07285849848955395), (1534, 0.0), (1535, 0.0), (1536, 0.0), (1537, 0.009501361837665943), (1538, 0.002857484974216539), (1539, 0.002807109186718719), (1540, 0.0), (1541, 0.0), (1542, 0.005928889807467043), (1543, 0.002900375899345959), (1544, 0.0), (1545, 0.0), (1546, 0.0049263458096631225), (1547, 0.0036665465354161933), (1548, 0.0), (1549, 0.0), (1550, 0.0031042201767915315), (1551, 0.005628192034990095), (1552, 0.0), (1553, 0.002778371503340067), (1554, 0.0063048475741957965), (1555, 0.00826155182696073), (1556, 0.0), (1557, 0.0), (1558, 0.0029263925734132933), (1559, 0.004956021128579689), (1560, 0.0), (1561, 0.0), (1562, 0.005304155262865408), (1563, 0.0), (1564, 0.0), (1565, 0.0026908641030369117), (1566, 0.005731058368513431), (1567, 0.0), (1568, 0.005225732798292662), (1569, 0.0), (1570, 0.03827175684659751), (1571, 0.002602720187263962), (1572, 0.0033497015985299358), (1573, 0.0056414587880906225), (1574, 0.003176834896661942), (1575, 0.006131405256765343), (1576, 0.0045867452118501335), (1577, 0.0), (1578, 0.0), (1579, 0.0), (1580, 0.0034737913521412996), (1581, 0.0), (1582, 0.0030222920521178003), (1583, 0.0), (1584, 0.0), (1585, 0.0), (1586, 0.0), (1587, 0.0058290473271218985), (1588, 0.005983380429978781), (1589, 0.0), (1590, 0.00499275646606006), (1591, 0.024934216408802008), (1592, 0.0), (1593, 0.003815086556565502), (1594, 0.0035246690872362016), (1595, 0.008031198066268315), (1596, 0.0), (1597, 0.003032517265034629), (1598, 0.0031076148803235804), (1599, 0.0), (1600, 0.0), (1601, 0.0), (1602, 0.0), (1603, 0.0), (1604, 0.0), (1605, 0.0028440601530808868), (1606, 0.0), (1607, 0.0), (1608, 0.007833411383508954), (1609, 0.03547480501745896), (1610, 0.0), (1611, 0.0), (1612, 0.018871242248455145), (1613, 0.0), (1614, 0.0061260595259920525), (1615, 0.0), (1616, 0.002766507121027497), (1617, 0.0030733529596609866), (1618, 0.0), (1619, 0.003354870343963056), (1620, 0.002943638725889116), (1621, 0.008748721962572854), (1622, 0.005629114856553483), (1623, 0.005302712118118826), (1624, 0.0025617461065124605), (1625, 0.0028307965196272896), (1626, 0.0), (1627, 0.00758603075337961), (1628, 0.0028804820045473583), (1629, 0.00916072291865431), (1630, 0.005433549878995308), (1631, 0.005433005582616766), (1632, 0.005490455602917414), (1633, 0.005471736839212481), (1634, 0.0031201323694006943), (1635, 0.005616016884114205), (1636, 0.0), (1637, 0.0033768284016030855), (1638, 0.0), (1639, 0.013378183258589022), (1640, 0.0), (1641, 0.017573655503085525), (1642, 0.0029135958160657863), (1643, 0.009317001331280451), (1644, 0.0), (1645, 0.0030412362859814383), (1646, 0.0), (1647, 0.0), (1648, 0.002350952515318006), (1649, 0.0), (1650, 0.002919160139806531), (1651, 0.0), (1652, 0.0), (1653, 0.008654182962574803), (1654, 0.0), (1655, 0.0038293903938965827), (1656, 0.003609249081384561), (1657, 0.0), (1658, 0.003485353914591263), (1659, 0.006103741884642257), (1660, 0.0032892177982249745), (1661, 0.006166609699248442), (1662, 0.005337159296148782), (1663, 0.0029657245804583236), (1664, 0.0), (1665, 0.00830931392028381), (1666, 0.0031044547067032597), (1667, 0.008178846161681779), (1668, 0.0), (1669, 0.0), (1670, 0.0033133902088378566), (1671, 0.008592067428087841), (1672, 0.0028818830595165406), (1673, 0.0), (1674, 0.0), (1675, 0.008084683756169329), (1676, 0.0), (1677, 0.002476719707518609), (1678, 0.02453647308010685), (1679, 0.0), (1680, 0.008059830027034377), (1681, 0.006286929711530036), (1682, 0.0029542111424925616), (1683, 0.0033687362061592357), (1684, 0.0), (1685, 0.003330721747628106), (1686, 0.0), (1687, 0.009409391008539568), (1688, 0.003210135613236203), (1689, 0.0), (1690, 0.002836314674684841), (1691, 0.0026861294249234512), (1692, 0.0), (1693, 0.0029557831116599313), (1694, 0.005084311854690327), (1695, 0.0), (1696, 0.021111680780112514), (1697, 0.0), (1698, 0.0), (1699, 0.004954495745957775), (1700, 0.015060679502481102), (1701, 0.004521874352799848), (1702, 0.0), (1703, 0.0032571911098165586), (1704, 0.0), (1705, 0.0), (1706, 0.003176756383380704), (1707, 0.005379341993063693), (1708, 0.0033811989535225376), (1709, 0.0), (1710, 0.0029820509357212184), (1711, 0.02376498643487592), (1712, 0.0033649839952887054), (1713, 0.006502555946365638), (1714, 0.0), (1715, 0.0), (1716, 0.009952730728018765), (1717, 0.00324217968704443), (1718, 0.0), (1719, 0.0028411297544212333), (1720, 0.0), (1721, 0.0), (1722, 0.0031790090390280464), (1723, 0.005375755571648992), (1724, 0.006165835432621391), (1725, 0.0), (1726, 0.0), (1727, 0.0032731465028034666), (1728, 0.0), (1729, 0.0), (1730, 0.002870071149962912), (1731, 0.0), (1732, 0.006120388801947771), (1733, 0.0034517464891162274), (1734, 0.0), (1735, 0.0), (1736, 0.0032956015388240427), (1737, 0.0), (1738, 0.0), (1739, 0.007979540668689122), (1740, 0.009052935887290666), (1741, 0.0), (1742, 0.002976609655762613), (1743, 0.002679616995522663), (1744, 0.0030032100122466374), (1745, 0.0), (1746, 0.0), (1747, 0.0024499219189686055), (1748, 0.0036857592600082934), (1749, 0.005370928310757772), (1750, 0.0), (1751, 0.0), (1752, 0.0), (1753, 0.004922284071239021), (1754, 0.003467899823502756), (1755, 0.0), (1756, 0.0), (1757, 0.0), (1758, 0.0), (1759, 0.0029744971587483196), (1760, 0.00820508954634851), (1761, 0.005851970337766337), (1762, 0.002808413431113499), (1763, 0.0026958490712319354), (1764, 0.016426953089025823), (1765, 0.0032559491948061874), (1766, 0.0), (1767, 0.0), (1768, 0.0032366730686527807), (1769, 0.0), (1770, 0.0), (1771, 0.0), (1772, 0.004969215408853555), (1773, 0.005610560547128415), (1774, 0.006776093560609606), (1775, 0.0), (1776, 0.00277246016641011), (1777, 0.0), (1778, 0.0), (1779, 0.009448420507642082), (1780, 0.00205361185572706), (1781, 0.0048724403163107706), (1782, 0.017332799013241525), (1783, 0.0), (1784, 0.00519989491574688), (1785, 0.0), (1786, 0.0), (1787, 0.014967477751730126), (1788, 0.005384841047009993), (1789, 0.005287891161806542), (1790, 0.0), (1791, 0.006096362674499144), (1792, 0.0036995467876806878), (1793, 0.002950590475553165), (1794, 0.0), (1795, 0.0), (1796, 0.008097198055172365), (1797, 0.0), (1798, 0.0033795821275715396), (1799, 0.006271868135139573), (1800, 0.0), (1801, 0.015915255414157357), (1802, 0.0), (1803, 0.0), (1804, 0.0), (1805, 0.0034298958044748713), (1806, 0.0), (1807, 0.00308788571815123), (1808, 0.002823302444223012), (1809, 0.01945713952756494), (1810, 0.0), (1811, 0.024479013487924212), (1812, 0.006117239660384055), (1813, 0.0030563075853589166), (1814, 0.0028986070768314887), (1815, 0.00662888356450995), (1816, 0.0), (1817, 0.005139058365564656), (1818, 0.0), (1819, 0.008267876889742256), (1820, 0.0), (1821, 0.0033034968476514798), (1822, 0.0033231847466056513), (1823, 0.031235444719315695), (1824, 0.0), (1825, 0.0), (1826, 0.002846693412793529), (1827, 0.0028467553071345668), (1828, 0.0027163635047520837), (1829, 0.006233273699486689), (1830, 0.0027894033396577973), (1831, 0.003112668713379161), (1832, 0.005848494716608412), (1833, 0.0026956664786435118), (1834, 0.0), (1835, 0.0), (1836, 0.0), (1837, 0.0), (1838, 0.004934976768602335), (1839, 0.0), (1840, 0.019588593768462996), (1841, 0.0), (1842, 0.0325259713153721), (1843, 0.003570591034073457), (1844, 0.0), (1845, 0.007504723883864588), (1846, 0.005578452913387955), (1847, 0.0), (1848, 0.0033888829722053945), (1849, 0.0), (1850, 0.0), (1851, 0.003277422213123332), (1852, 0.005647037857226666), (1853, 0.009393585714709746), (1854, 0.0030056852039341327), (1855, 0.0), (1856, 0.0), (1857, 0.005637477764350477), (1858, 0.0035225554080684333), (1859, 0.006038294664521203), (1860, 0.0032375355843249683), (1861, 0.0023862197258370213), (1862, 0.0035257259639156586), (1863, 0.0), (1864, 0.008535707459391903), (1865, 0.008050923010088105), (1866, 0.009690319267266607), (1867, 0.0), (1868, 0.0), (1869, 0.0028502750519155567), (1870, 0.0), (1871, 0.0025056098094142724), (1872, 0.003184036708831396), (1873, 0.005732128129324129), (1874, 0.00340217231139156), (1875, 0.0028908819648117254), (1876, 0.008925526172011988), (1877, 0.00300403403985817), (1878, 0.0029890787045536537), (1879, 0.0), (1880, 0.0), (1881, 0.005989525834848067), (1882, 0.003084450227843056), (1883, 0.0), (1884, 0.002942416241889883), (1885, 0.0036886078228991694), (1886, 0.002502165591856497), (1887, 0.0035675276657659042), (1888, 0.0), (1889, 0.0), (1890, 0.003493147098025957), (1891, 0.003120769387238029), (1892, 0.008058492771630102), (1893, 0.0033203712897561075), (1894, 0.0), (1895, 0.0), (1896, 0.0033396611137046714), (1897, 0.026756390977558164), (1898, 0.0), (1899, 0.014732193652159994), (1900, 0.011026472760435332), (1901, 0.005868827506599114), (1902, 0.009328067151952137), (1903, 0.0), (1904, 0.006055988108024694), (1905, 0.0034321382274331647), (1906, 0.0), (1907, 0.0033885977977674226), (1908, 0.0), (1909, 0.003573189775517806), (1910, 0.004837713846041637), (1911, 0.0), (1912, 0.0), (1913, 0.0), (1914, 0.005381860945892146), (1915, 0.0), (1916, 0.0033174355271455465), (1917, 0.0), (1918, 0.009373999244098362), (1919, 0.013245604721209222), (1920, 0.09406069717205463), (1921, 0.0028134449006831973), (1922, 0.003177912692617825), (1923, 0.0034962449959778596), (1924, 0.010138657101617689), (1925, 0.004998980565779782), (1926, 0.0), (1927, 0.005641398185830278), (1928, 0.0), (1929, 0.0030011396783759577), (1930, 0.005788875200937359), (1931, 0.009067275856900042), (1932, 0.0), (1933, 0.0055819227139655035), (1934, 0.007924081153376974), (1935, 0.0), (1936, 0.0032174773219390976), (1937, 0.021147404397228613), (1938, 0.0), (1939, 0.007599668141070407), (1940, 0.006692850807219664), (1941, 0.006853880290702605), (1942, 0.0090289143046523), (1943, 0.0027401096121705644), (1944, 0.0), (1945, 0.0), (1946, 0.0032349401644147704), (1947, 0.0036545061954232987), (1948, 0.0), (1949, 0.005936738848585513), (1950, 0.0025714073546789723), (1951, 0.0033400430766174433), (1952, 0.042520002889899516), (1953, 0.0055640310690545135), (1954, 0.0027886578463018163), (1955, 0.0), (1956, 0.0), (1957, 0.0), (1958, 0.0058451195098190205), (1959, 0.0034053432859361657), (1960, 0.009825820111763658), (1961, 0.0), (1962, 0.00637939313087576), (1963, 0.0), (1964, 0.008022206745834023), (1965, 0.0), (1966, 0.0), (1967, 0.023973445256745808), (1968, 0.010421979074899543), (1969, 0.003038062160974308), (1970, 0.005834499430637891), (1971, 0.0026683104442113384), (1972, 0.0), (1973, 0.0), (1974, 0.0), (1975, 0.006031665748147841), (1976, 0.00639704794569932), (1977, 0.0028029021289654446), (1978, 0.0), (1979, 0.0), (1980, 0.0028236082558278056), (1981, 0.0), (1982, 0.0), (1983, 0.009242685070900834), (1984, 0.0), (1985, 0.008967473651253744), (1986, 0.0), (1987, 0.0), (1988, 0.0), (1989, 0.007127917094911418), (1990, 0.005217131715867693), (1991, 0.005809189413365257), (1992, 0.005349854383209686), (1993, 0.005467486462626227), (1994, 0.0), (1995, 0.003385079110314376), (1996, 0.005502290290102975), (1997, 0.00964188895178467), (1998, 0.005795556700408966), (1999, 0.0), (2000, 0.0025086715489945777), (2001, 0.0), (2002, 0.0), (2003, 0.0), (2004, 0.0029587947518617255), (2005, 0.0), (2006, 0.0), (2007, 0.0), (2008, 0.00863044457379272), (2009, 0.0), (2010, 0.0024860876791211067), (2011, 0.0028625598018669116), (2012, 0.006585552965564459), (2013, 0.004562533553621028), (2014, 0.0), (2015, 0.005979535978454589), (2016, 0.0032681066872979597), (2017, 0.035902086217754814), (2018, 0.0), (2019, 0.0), (2020, 0.0), (2021, 0.0), (2022, 0.0), (2023, 0.06763768904799596), (2024, 0.008498221623091141), (2025, 0.0), (2026, 0.0), (2027, 0.003036668548451518), (2028, 0.0), (2029, 0.0030734575226203467), (2030, 0.0), (2031, 0.00800822683294798), (2032, 0.0), (2033, 0.014374480353516364), (2034, 0.002593621941199438), (2035, 0.0026669124626151996), (2036, 0.014385513860093182), (2037, 0.009671448739156829), (2038, 0.0), (2039, 0.0026480638592444976), (2040, 0.009804279806241711), (2041, 0.0), (2042, 0.0), (2043, 0.0), (2044, 0.006082677239798199), (2045, 0.009019013213967404), (2046, 0.01578321868137767), (2047, 0.016746334159750458), (2048, 0.01950541665517283), (2049, 0.003470590234765753), (2050, 0.0), (2051, 0.0035767301944562035), (2052, 0.0), (2053, 0.009162257230790987), (2054, 0.0), (2055, 0.0028531907150016653), (2056, 0.0), (2057, 0.005553465221466227), (2058, 0.0), (2059, 0.0), (2060, 0.018758570601069224), (2061, 0.008988583689889924), (2062, 0.005544859883545479), (2063, 0.0), (2064, 0.0), (2065, 0.0028283035265552724), (2066, 0.024219496537406307), (2067, 0.057572360888655943), (2068, 0.002991416658686781), (2069, 0.00871938941294166), (2070, 0.007590807210489442), (2071, 0.0), (2072, 0.0032620753646537964), (2073, 0.01931422680870308), (2074, 0.005055400432887675), (2075, 0.011628316004496441), (2076, 0.002655091608750331), (2077, 0.0), (2078, 0.004554293545948376), (2079, 0.0), (2080, 0.003041615119224546), (2081, 0.0), (2082, 0.0), (2083, 0.07516642903839096), (2084, 0.006180070765248884), (2085, 0.0), (2086, 0.0), (2087, 0.018535414631402233), (2088, 0.009297918778876712), (2089, 0.010427983031697414), (2090, 0.0), (2091, 0.008998065639060226), (2092, 0.0), (2093, 0.005296138393720637), (2094, 0.005418938911944711), (2095, 0.0), (2096, 0.009459111941848765), (2097, 0.0034257422370158044), (2098, 0.0), (2099, 0.002942447659296322), (2100, 0.0), (2101, 0.0), (2102, 0.003077598990365185), (2103, 0.003065374373876883), (2104, 0.009477734991987286), (2105, 0.0033522445208579747), (2106, 0.0), (2107, 0.0), (2108, 0.055903048122196), (2109, 0.003173356426910788), (2110, 0.005254101172631171), (2111, 0.003083678477626794), (2112, 0.00979502059435685), (2113, 0.0), (2114, 0.013304169543721989), (2115, 0.0), (2116, 0.0033976730039242354), (2117, 0.003019684485951917), (2118, 0.0), (2119, 0.0053122340093520685), (2120, 0.0), (2121, 0.00844870352075785), (2122, 0.0031780704586938514), (2123, 0.0032584691072763275), (2124, 0.0), (2125, 0.0), (2126, 0.05194238617405568), (2127, 0.0026427974145015547), (2128, 0.0), (2129, 0.002917034533364779), (2130, 0.005788571598540971), (2131, 0.003024175060166648), (2132, 0.0026300107752804387), (2133, 0.0029776309445555807), (2134, 0.0035212615527240917), (2135, 0.0), (2136, 0.006206262363984211), (2137, 0.00446185789828293), (2138, 0.0), (2139, 0.005374485575526989), (2140, 0.0), (2141, 0.0030089880232615327), (2142, 0.0036715655460442358), (2143, 0.0030098634195059775), (2144, 0.003175442735389957), (2145, 0.0), (2146, 0.0026903345609951), (2147, 0.0), (2148, 0.0032629705586076636), (2149, 0.0029414030706414293), (2150, 0.0), (2151, 0.003356447596478027), (2152, 0.0), (2153, 0.0), (2154, 0.011367365530613318), (2155, 0.0032031154256559015), (2156, 0.0), (2157, 0.0026471044402173755), (2158, 0.0), (2159, 0.0034713868956500046), (2160, 0.0), (2161, 0.0), (2162, 0.0033806602710964562), (2163, 0.0028089884788326173), (2164, 0.0), (2165, 0.0), (2166, 0.0029648112479107136), (2167, 0.0), (2168, 0.0), (2169, 0.0031684336931112607), (2170, 0.0), (2171, 0.0), (2172, 0.0), (2173, 0.03608614593179772), (2174, 0.0087965883696496), (2175, 0.0), (2176, 0.0034752300306741648), (2177, 0.0), (2178, 0.0055700052038715996), (2179, 0.0), (2180, 0.0), (2181, 0.006499955032804201), (2182, 0.0), (2183, 0.0), (2184, 0.031227580309185266), (2185, 0.0), (2186, 0.0), (2187, 0.0036130265715759078), (2188, 0.01083066553239994), (2189, 0.004419077323096072), (2190, 0.0033933421618429606), (2191, 0.00795888523540078), (2192, 0.003170290911777054), (2193, 0.003176721319911114), (2194, 0.0), (2195, 0.01890103385659788), (2196, 0.009384799905456905), (2197, 0.004843337732684495), (2198, 0.0), (2199, 0.004097922130863271), (2200, 0.0), (2201, 0.0029284932786323714), (2202, 0.014887668713230693), (2203, 0.0), (2204, 0.013396235254810804), (2205, 0.05062142200891836), (2206, 0.0711182747178975), (2207, 0.0), (2208, 0.006069351602508584), (2209, 0.003504741673176185), (2210, 0.00902300574766371), (2211, 0.002637825496477858), (2212, 0.003141259753702609), (2213, 0.0028073394670304268), (2214, 0.009649091689739478), (2215, 0.0), (2216, 0.008697530265761661), (2217, 0.01654374154692905), (2218, 0.0), (2219, 0.0), (2220, 0.0), (2221, 0.002617126985159643), (2222, 0.0), (2223, 0.0035793962289794386), (2224, 0.008421120822179308), (2225, 0.0), (2226, 0.0030782719756439507), (2227, 0.0), (2228, 0.0), (2229, 0.009698393070802083), (2230, 0.003233036401843766), (2231, 0.006328114378954264), (2232, 0.03807215058370993), (2233, 0.0), (2234, 0.0), (2235, 0.005884305052504291), (2236, 0.0028566644009461887), (2237, 0.0027623941887840865), (2238, 0.0), (2239, 0.0), (2240, 0.002762601100710581), (2241, 0.0), (2242, 0.002992244718562059), (2243, 0.0), (2244, 0.0), (2245, 0.005531002122138267), (2246, 0.005715700143416716), (2247, 0.0), (2248, 0.0028301946724112997), (2249, 0.0), (2250, 0.003141288969267621), (2251, 0.004380148808783563), (2252, 0.006169945947271949), (2253, 0.0), (2254, 0.009523235813718209), (2255, 0.011449654580306555), (2256, 0.0), (2257, 0.004053103377820189), (2258, 0.0), (2259, 0.0), (2260, 0.0033676411657803398), (2261, 0.0), (2262, 0.0), (2263, 0.0), (2264, 0.002796791070720694), (2265, 0.0028578950788177475), (2266, 0.003876297337930905), (2267, 0.0), (2268, 0.0030403548470906653), (2269, 0.0036537111357722793), (2270, 0.0027200010774162207), (2271, 0.0), (2272, 0.0), (2273, 0.0067589195819505905), (2274, 0.0), (2275, 0.007754854804491102), (2276, 0.005882144521565837), (2277, 0.07280859325062229), (2278, 0.005809489811730928), (2279, 0.003067324776831037), (2280, 0.005672634079147286), (2281, 0.0), (2282, 0.0), (2283, 0.04152904167510375), (2284, 0.02481060975517787), (2285, 0.0028327129708215324), (2286, 0.004023121123950273), (2287, 0.0026264144181420974), (2288, 0.003329850326033711), (2289, 0.003126284513228308), (2290, 0.0), (2291, 0.04633244060643722), (2292, 0.003206301378397706), (2293, 0.0034314783949926067), (2294, 0.0), (2295, 0.00901564079230151), (2296, 0.0), (2297, 0.0), (2298, 0.0), (2299, 0.005034126794598988), (2300, 0.0), (2301, 0.002879697664656534), (2302, 0.003575670368198624), (2303, 0.0029690663477383904), (2304, 0.0), (2305, 0.0), (2306, 0.003982935302960653), (2307, 0.0), (2308, 0.0), (2309, 0.0030072216619977912), (2310, 0.004209071117617504), (2311, 0.0), (2312, 0.0), (2313, 0.0031961589006926465), (2314, 0.0062994970049448755), (2315, 0.0), (2316, 0.0), (2317, 0.0029128257191238533), (2318, 0.004728175108883273), (2319, 0.003270367684314857), (2320, 0.0036597194923118424), (2321, 0.07854704665555264), (2322, 0.0), (2323, 0.0028409058228243706), (2324, 0.008123514739612345), (2325, 0.0), (2326, 0.004496587057109796), (2327, 0.014733761836586912), (2328, 0.007028469781176623), (2329, 0.0), (2330, 0.006054573298407198), (2331, 0.0), (2332, 0.0), (2333, 0.0), (2334, 0.009134324480151845), (2335, 0.0), (2336, 0.00569431854316766), (2337, 0.0), (2338, 0.0028442381188887107), (2339, 0.0), (2340, 0.003155883008132432), (2341, 0.0), (2342, 0.0), (2343, 0.0), (2344, 0.008892991146626616), (2345, 0.0), (2346, 0.003579343442166956), (2347, 0.017421065519799748), (2348, 0.008359095521845744), (2349, 0.004358804206982991), (2350, 0.004045272865595654), (2351, 0.0), (2352, 0.0), (2353, 0.0), (2354, 0.003151222930855651), (2355, 0.007398667897382273), (2356, 0.0035192072847159686), (2357, 0.01794033356804818), (2358, 0.0), (2359, 0.002627564935764358), (2360, 0.0), (2361, 0.0033391739737957697), (2362, 0.002885739710975835), (2363, 0.0), (2364, 0.012705857268183915), (2365, 0.0), (2366, 0.0), (2367, 0.003013431978177993), (2368, 0.0), (2369, 0.0), (2370, 0.0032797637102870226), (2371, 0.0), (2372, 0.0), (2373, 0.0), (2374, 0.00899402152119319), (2375, 0.020819525918110426), (2376, 0.0), (2377, 0.0), (2378, 0.0037048199609189627), (2379, 0.004543277766490356), (2380, 0.01652970387960033), (2381, 0.0), (2382, 0.0026967202856934716), (2383, 0.006367215163712864), (2384, 0.0), (2385, 0.0033157238712220307), (2386, 0.03553180283164018), (2387, 0.003141238489207713), (2388, 0.0077298727350564814), (2389, 0.0), (2390, 0.003451092839156232), (2391, 0.003362322752195351), (2392, 0.04751544451131075), (2393, 0.0033595625361290903), (2394, 0.019968732113765198), (2395, 0.0), (2396, 0.0031766961414044477), (2397, 0.0192737554031041), (2398, 0.0), (2399, 0.0029059276169584804), (2400, 0.0035606502825517084), (2401, 0.003059517331163783), (2402, 0.0028509750682314807), (2403, 0.0036283429482989378), (2404, 0.004281839666667456), (2405, 0.01971021961705103), (2406, 0.06803491320041241), (2407, 0.00435162493155222), (2408, 0.0), (2409, 0.0), (2410, 0.003453542835283322), (2411, 0.00356469352706629), (2412, 0.007705801948638362), (2413, 0.006006735701613922), (2414, 0.0), (2415, 0.0038199796575297687), (2416, 0.00310267568877118), (2417, 0.003685939847753087), (2418, 0.0033369485711021566), (2419, 0.0033073844260566782), (2420, 0.0), (2421, 0.005834582889178459), (2422, 0.003055851070725187), (2423, 0.003967365417020605), (2424, 0.0), (2425, 0.004080031661358646), (2426, 0.0), (2427, 0.01030840377437928), (2428, 0.00979381989938037), (2429, 0.005308276076169162), (2430, 0.003193975093323119), (2431, 0.0), (2432, 0.005519716614252672), (2433, 0.0), (2434, 0.003763476660355529), (2435, 0.0), (2436, 0.003518509204847264), (2437, 0.003573228443709228), (2438, 0.0038993672021401), (2439, 0.0), (2440, 0.006394176354435575), (2441, 0.002549240534331071), (2442, 0.005325732692838201), (2443, 0.0058283011119755375), (2444, 0.0), (2445, 0.014544928529349944), (2446, 0.0029239267534564672), (2447, 0.007611466581966974), (2448, 0.0041113085955104935), (2449, 0.0), (2450, 0.0), (2451, 0.01697258427766834), (2452, 0.0), (2453, 0.0028933655756047186), (2454, 0.0038014038957045956), (2455, 0.020058062615025022), (2456, 0.0), (2457, 0.0028318322477246423), (2458, 0.0), (2459, 0.030036502886693003), (2460, 0.0), (2461, 0.0030523353621487665), (2462, 0.0), (2463, 0.003094433328392266), (2464, 0.003452608251126339), (2465, 0.0), (2466, 0.003233036444812403), (2467, 0.0030372771359190817), (2468, 0.006690837447582289), (2469, 0.002464758258656846), (2470, 0.0), (2471, 0.0), (2472, 0.0), (2473, 0.002998136995787383), (2474, 0.002415263766205854), (2475, 0.0033854862765337664), (2476, 0.04431146677273602), (2477, 0.00958826603384358), (2478, 0.0036139077865205366), (2479, 0.0), (2480, 0.00567724244401884), (2481, 0.0026216172233038417), (2482, 0.002901753627525115), (2483, 0.02084080310288462), (2484, 0.004209203871129173), (2485, 0.0), (2486, 0.006538102779353592), (2487, 0.016015528236369623), (2488, 0.0038473052482322703), (2489, 0.0032082058050423978), (2490, 0.004537378318966321), (2491, 0.0), (2492, 0.003167787192206983), (2493, 0.0), (2494, 0.02043183056554424), (2495, 0.003147806022580591), (2496, 0.00829925167891989), (2497, 0.0), (2498, 0.0), (2499, 0.0), (2500, 0.0), (2501, 0.005754002640340497), (2502, 0.002777525365850284), (2503, 0.0), (2504, 0.0), (2505, 0.0034961650294904217), (2506, 0.005745054420084549), (2507, 0.0034197604361437344), (2508, 0.0), (2509, 0.002587022592948394), (2510, 0.0), (2511, 0.0), (2512, 0.0031254947087536933), (2513, 0.0), (2514, 0.0), (2515, 0.0), (2516, 0.0), (2517, 0.0), (2518, 0.01783995869163056), (2519, 0.01630063773799459), (2520, 0.002729017345176431), (2521, 0.08941168487152888), (2522, 0.0094582459099167), (2523, 0.0), (2524, 0.004614355171164021), (2525, 0.002964373910258443), (2526, 0.0025757373634378612), (2527, 0.002707592439296586), (2528, 0.0029234786676323224), (2529, 0.004569791627136463), (2530, 0.004001189446573077), (2531, 0.0032808698725521534), (2532, 0.0), (2533, 0.0031662605151362116), (2534, 0.0014043286821290302), (2535, 0.0034891727743245403), (2536, 0.0), (2537, 0.004318557365584166), (2538, 0.0018835953812658772), (2539, 0.0), (2540, 0.008458127429433134), (2541, 0.004859489526013631), (2542, 0.0), (2543, 0.0), (2544, 0.0036629582571454477), (2545, 0.003279815876090268), (2546, 0.0032772061813273953), (2547, 0.0), (2548, 0.0), (2549, 0.0), (2550, 0.014171172805972524), (2551, 0.06860466942678868), (2552, 0.017717983464511162), (2553, 0.018475498933389484), (2554, 0.0031758121163188912), (2555, 0.013671691374293742), (2556, 0.0029190902445014287), (2557, 0.003904342405043832), (2558, 0.00887571334723879), (2559, 0.004138369530715967), (2560, 0.0036131051546971016), (2561, 0.0032843244049716863), (2562, 0.0), (2563, 0.002603613469140637), (2564, 0.0), (2565, 0.00333951005027819), (2566, 0.0), (2567, 0.006795411909018882), (2568, 0.0038502124933160763), (2569, 0.0031106834920622845), (2570, 0.003705197381755919), (2571, 0.003041508947717694), (2572, 0.0029820942176569097), (2573, 0.0046940357065287045), (2574, 0.0), (2575, 0.0), (2576, 0.006478346403584794), (2577, 0.0), (2578, 0.0), (2579, 0.0035286858970713), (2580, 0.007925273298527703), (2581, 0.0), (2582, 0.0), (2583, 0.0), (2584, 0.030652259740830346), (2585, 0.0035044994899799133), (2586, 0.0), (2587, 0.00279369733357647), (2588, 0.016926842988128403), (2589, 0.0), (2590, 0.0), (2591, 0.00282431563507784), (2592, 0.0034851320068875766), (2593, 0.002904484590191281), (2594, 0.0), (2595, 0.0034145056133027224), (2596, 0.0), (2597, 0.0), (2598, 0.008396287946976704), (2599, 0.023269233136636366), (2600, 0.0), (2601, 0.019763956425015806), (2602, 0.00736364928701309), (2603, 0.0026440080517388036), (2604, 0.01719783787309718), (2605, 0.0), (2606, 0.008935835517047715), (2607, 0.00795465719873734), (2608, 0.013841205757330185), (2609, 0.0033578150835388313), (2610, 0.0033269564121579734), (2611, 0.002700773761590572), (2612, 0.003040383370597708), (2613, 0.0037087065605391073), (2614, 0.023995571738322303), (2615, 0.0), (2616, 0.0), (2617, 0.021757052033917285), (2618, 0.0054538666629343445), (2619, 0.0037910789681317616), (2620, 0.015079610238726605), (2621, 0.007720989309094293), (2622, 0.004858403648009025), (2623, 0.08654916780009488), (2624, 0.003444684401023535), (2625, 0.04210329116774111), (2626, 0.006284809883081419), (2627, 0.0), (2628, 0.024808459758258218), (2629, 0.04131014163739316), (2630, 0.0060990350126101135), (2631, 0.015007258965737957), (2632, 0.008665943814866461), (2633, 0.0033049743424261487), (2634, 0.002941517004143752), (2635, 0.0), (2636, 0.014227718142741784), (2637, 0.0), (2638, 0.010083284679311272), (2639, 0.0), (2640, 0.003293874116728096), (2641, 0.0), (2642, 0.035559210834322535), (2643, 0.004071429437807975), (2644, 0.0), (2645, 0.011421117001196022), (2646, 0.0), (2647, 0.008988390638797703), (2648, 0.0), (2649, 0.02676904810489262), (2650, 0.00327077344697581), (2651, 0.0029784596496597302), (2652, 0.0031826020855839753), (2653, 0.00303785902125862), (2654, 0.0), (2655, 0.011760756898786182), (2656, 0.0), (2657, 0.0), (2658, 0.0), (2659, 0.0), (2660, 0.0), (2661, 0.0033794761837133416), (2662, 0.0), (2663, 0.0), (2664, 0.003356177756536172), (2665, 0.0), (2666, 0.0), (2667, 0.04529860622178865), (2668, 0.009131248966913974), (2669, 0.0), (2670, 0.0), (2671, 0.0), (2672, 0.0), (2673, 0.004187808202338858), (2674, 0.0028978907712913274), (2675, 0.0), (2676, 0.0), (2677, 0.015397158490979635), (2678, 0.005126995534838867), (2679, 0.002978931172214626), (2680, 0.005489141158553101), (2681, 0.0), (2682, 0.0053427265274071595), (2683, 0.00641426449709215), (2684, 0.0), (2685, 0.0), (2686, 0.0), (2687, 0.003097217322869679), (2688, 0.0), (2689, 0.006070361661475606), (2690, 0.0), (2691, 0.0), (2692, 0.007706345424758964), (2693, 0.0), (2694, 0.004193422689859921), (2695, 0.00888549215626876), (2696, 0.003659525415343584), (2697, 0.0072652312901700464), (2698, 0.0030671891552867215), (2699, 0.0), (2700, 0.006433091169452049), (2701, 0.0), (2702, 0.0035980369932039407), (2703, 0.0), (2704, 0.0), (2705, 0.0034086847918792565), (2706, 0.0029928735193913507), (2707, 0.0036947743861591303), (2708, 0.0), (2709, 0.0), (2710, 0.0), (2711, 0.005448831793712378), (2712, 0.00336357048539608), (2713, 0.0), (2714, 0.00939224702067633), (2715, 0.0), (2716, 0.008548141804646518), (2717, 0.0), (2718, 0.0), (2719, 0.0), (2720, 0.0036896284876722515), (2721, 0.0027354169229934287), (2722, 0.004419371457389047), (2723, 0.003376250107190235), (2724, 0.04984412499742283), (2725, 0.0033667684067955027), (2726, 0.0), (2727, 0.006887598754999143), (2728, 0.002865470895186421), (2729, 0.0), (2730, 0.0), (2731, 0.00422570204340216), (2732, 0.0), (2733, 0.006361141784200248), (2734, 0.0), (2735, 0.002906623966780767), (2736, 0.005452631540059991), (2737, 0.0), (2738, 0.00371507117270118), (2739, 0.0034547449257298288), (2740, 0.0035445398202512057), (2741, 0.002834499442890642), (2742, 0.005316756734168062), (2743, 0.002699051496638178), (2744, 0.0032626540161798116), (2745, 0.003177552454645335), (2746, 0.003200870389687264), (2747, 0.0027277858169637314), (2748, 0.0034232776484988416), (2749, 0.0), (2750, 0.0), (2751, 0.005430383681651392), (2752, 0.003010988729555275), (2753, 0.0027733445647017043), (2754, 0.0), (2755, 0.003328824100292269), (2756, 0.0), (2757, 0.004818378279035788), (2758, 0.0026736410984088666), (2759, 0.005579950915171932), (2760, 0.0024162806315278554), (2761, 0.00270905550498843), (2762, 0.0), (2763, 0.0), (2764, 0.004485046522592576), (2765, 0.002992379220058113), (2766, 0.0024979387488273416), (2767, 0.0024560491965228796), (2768, 0.012615093719678009), (2769, 0.0037157712519511046), (2770, 0.0), (2771, 0.007530311919309518), (2772, 0.0037291440642658663), (2773, 0.0), (2774, 0.0), (2775, 0.004273718697913994), (2776, 0.003390559380846281), (2777, 0.002912903140840537), (2778, 0.01073087300074321), (2779, 0.0030052132843368293), (2780, 0.005929295475686855), (2781, 0.0), (2782, 0.00350433542626698), (2783, 0.0031681417607823813), (2784, 0.009070802914248022), (2785, 0.0), (2786, 0.0033712464492022887), (2787, 0.005445193643072877), (2788, 0.005829893200955296), (2789, 0.004759926382719479), (2790, 0.00602090591724921), (2791, 0.00525176397573366), (2792, 0.0033352254187701815), (2793, 0.015849600350465474), (2794, 0.0), (2795, 0.011207394899315163), (2796, 0.0036026877019741926), (2797, 0.003853221055979728), (2798, 0.0031967821258876853), (2799, 0.0), (2800, 0.002974251531706906), (2801, 0.004912301674637014), (2802, 0.0030782686268875166), (2803, 0.02245750612049008), (2804, 0.0), (2805, 0.0), (2806, 0.0), (2807, 0.0), (2808, 0.008599269883255642), (2809, 0.006627248615168868), (2810, 0.0), (2811, 0.0), (2812, 0.002966821059258788), (2813, 0.0), (2814, 0.0), (2815, 0.06908266071263076), (2816, 0.0), (2817, 0.0), (2818, 0.0), (2819, 0.006066273040764045), (2820, 0.0050087430060751), (2821, 0.0033420308839675677), (2822, 0.0), (2823, 0.0), (2824, 0.0), (2825, 0.0), (2826, 0.003164894130420248), (2827, 0.0), (2828, 0.0), (2829, 0.0), (2830, 0.0035036256436795426), (2831, 0.0031517011827741233), (2832, 0.004131389533448772), (2833, 0.0), (2834, 0.0039056101921189548), (2835, 0.0), (2836, 0.0), (2837, 0.0), (2838, 0.004023179957542973), (2839, 0.0), (2840, 0.009897929868153695), (2841, 0.010585211048402644), (2842, 0.0), (2843, 0.0), (2844, 0.0026000339916497713), (2845, 0.002897533453084351), (2846, 0.1190343414486153), (2847, 0.02125627716029377), (2848, 0.0038426363530752313), (2849, 0.0033281279180105016), (2850, 0.0), (2851, 0.0), (2852, 0.0), (2853, 0.003132311512522869), (2854, 0.0098560359470284), (2855, 0.0), (2856, 0.0), (2857, 0.0038859545573238768), (2858, 0.004462106982250042), (2859, 0.002984608833664401), (2860, 0.0), (2861, 0.0041727191062471275), (2862, 0.017661335409844783), (2863, 0.003245916831093431), (2864, 0.0), (2865, 0.0), (2866, 0.0), (2867, 0.0), (2868, 0.0029125608816452982), (2869, 0.0), (2870, 0.025690382439053035), (2871, 0.005091778492135381), (2872, 0.0036237436060309017), (2873, 0.0), (2874, 0.0), (2875, 0.0), (2876, 0.002629230180351482), (2877, 0.0), (2878, 0.019976876649884952), (2879, 0.010807817070265766), (2880, 0.0), (2881, 0.010050996163098258), (2882, 0.0034209038294106655), (2883, 0.004260114867717518), (2884, 0.0036340942044329554), (2885, 0.0), (2886, 0.0030034482847134266), (2887, 0.003189831520932045), (2888, 0.0034101155392186142), (2889, 0.004333663291698188), (2890, 0.003473767821925916), (2891, 0.0), (2892, 0.0029882941549308063), (2893, 0.0035699937275658206), (2894, 0.00323056217360939), (2895, 0.0037681643373392018), (2896, 0.0), (2897, 0.0), (2898, 0.017221219289205367), (2899, 0.00834243070753992), (2900, 0.0031380734244871892), (2901, 0.00404185570350282), (2902, 0.0023153308203909626), (2903, 0.009952198475825732), (2904, 0.003274351085155577), (2905, 0.0), (2906, 0.0), (2907, 0.002919647197640879), (2908, 0.0071316295565224345), (2909, 0.0030702723901877903), (2910, 0.024144875245596404), (2911, 0.003276363268662571), (2912, 0.0030482663279142465), (2913, 0.0), (2914, 0.0035602739921167903), (2915, 0.003423451900758206), (2916, 0.0035262042259257987), (2917, 0.006990100164332769), (2918, 0.03804199490054801), (2919, 0.009167870321925162), (2920, 0.0028803789620164204), (2921, 0.0), (2922, 0.0), (2923, 0.0042416249046797645), (2924, 0.0036509630934950864), (2925, 0.007125337032762289), (2926, 0.00329231348963982), (2927, 0.019150240660813486), (2928, 0.0), (2929, 0.005107298504008757), (2930, 0.0), (2931, 0.0028476991173706626), (2932, 0.011733576448976313), (2933, 0.0026734591029140523), (2934, 0.0031710204022304964), (2935, 0.0), (2936, 0.0035636564297852544), (2937, 0.0045205187413342755), (2938, 0.0), (2939, 0.0071321567713382005), (2940, 0.07676995391582019), (2941, 0.0), (2942, 0.002724107533496023), (2943, 0.0031367700354479043), (2944, 0.0059272668911959136), (2945, 0.003081574849426399), (2946, 0.0030981199063719153), (2947, 0.07507359443223537), (2948, 0.0), (2949, 0.00948224983564589), (2950, 0.0), (2951, 0.0), (2952, 0.0), (2953, 0.003332176504457241), (2954, 0.002874468235451879), (2955, 0.0), (2956, 0.03537591985555922), (2957, 0.0038513583003608404), (2958, 0.0), (2959, 0.04156819214346602), (2960, 0.005840583733042702), (2961, 0.05521341319160462), (2962, 0.0), (2963, 0.006114284511422839), (2964, 0.0033640337746725633), (2965, 0.0029904504608543295), (2966, 0.003826970481398845), (2967, 0.0), (2968, 0.0), (2969, 0.0026109851903409306), (2970, 0.0033555174115253005), (2971, 0.0), (2972, 0.0029673778692785994), (2973, 0.0), (2974, 0.003534451211979305), (2975, 0.0027657143773385925), (2976, 0.0028200704132818077), (2977, 0.003223342438562281), (2978, 0.006226650276930426), (2979, 0.0), (2980, 0.03569062281490602), (2981, 0.007581038632117478), (2982, 0.0), (2983, 0.0), (2984, 0.005257422866191874), (2985, 0.002625853694924343), (2986, 0.0037236936217632266), (2987, 0.021878194512006538), (2988, 0.025451978475407755), (2989, 0.004386581907399765), (2990, 0.0), (2991, 0.005802718679229077), (2992, 0.00533939557647688), (2993, 0.0037970882703169295), (2994, 0.0), (2995, 0.0029835983685094973), (2996, 0.009766397191901203), (2997, 0.0029755215842620967), (2998, 0.00472609500340714), (2999, 0.0031302332234742908), (3000, 0.003223224217483474), (3001, 0.0), (3002, 0.0), (3003, 0.0034971202409961153), (3004, 0.003877474496844885), (3005, 0.005787844864698712), (3006, 0.0), (3007, 0.0033631298989684204), (3008, 0.0), (3009, 0.0), (3010, 0.003035698303987439), (3011, 0.00552972384213425), (3012, 0.009949704785076475), (3013, 0.021378256217383335), (3014, 0.0029718795580702126), (3015, 0.003989227542161139), (3016, 0.0032317976001457276), (3017, 0.0), (3018, 0.0), (3019, 0.01033108164880556), (3020, 0.0038217435015590042), (3021, 0.0), (3022, 0.006661970341863267), (3023, 0.01495144690617783), (3024, 0.0026041913262300318), (3025, 0.0), (3026, 0.0034781181922195433), (3027, 0.002832834740443288), (3028, 0.003042143216366935), (3029, 0.0), (3030, 0.00426470726000109), (3031, 0.0038455524514585237), (3032, 0.009933504649959218), (3033, 0.0), (3034, 0.0), (3035, 0.00844849673116442), (3036, 0.002993016256639343), (3037, 0.0033229787890873075), (3038, 0.0), (3039, 0.0), (3040, 0.004396357867255177), (3041, 0.0), (3042, 0.004265456226316935), (3043, 0.010046346984635551), (3044, 0.003431553620790408), (3045, 0.004728955601257429), (3046, 0.0030876315803806914), (3047, 0.0), (3048, 0.0), (3049, 0.007110170009286553), (3050, 0.0028842360550824587), (3051, 0.004490542513376773), (3052, 0.004299955874546325), (3053, 0.0), (3054, 0.0), (3055, 0.004283740862196726), (3056, 0.0026079511460991626), (3057, 0.002953225912941199), (3058, 0.0), (3059, 0.0), (3060, 0.0), (3061, 0.0), (3062, 0.0034901587922471903), (3063, 0.0), (3064, 0.003425494009358439), (3065, 0.007537994412981768), (3066, 0.0), (3067, 0.0031099659933257824), (3068, 0.0), (3069, 0.00307426198761238), (3070, 0.005115309700140857), (3071, 0.002948666409117331), (3072, 0.0036589156898986525), (3073, 0.0), (3074, 0.003862358694927012), (3075, 0.0030574342034808653), (3076, 0.00411996368379985), (3077, 0.0), (3078, 0.0), (3079, 0.005277529757691544), (3080, 0.0), (3081, 0.003704865428168751), (3082, 0.0), (3083, 0.0), (3084, 0.0033388908426908726), (3085, 0.005470562599085918), (3086, 0.00958687980186916), (3087, 0.039874064759579074), (3088, 0.0), (3089, 0.0), (3090, 0.0), (3091, 0.0026349919680857714), (3092, 0.0), (3093, 0.0030981562415103073), (3094, 0.0036835180988840557), (3095, 0.00952768051692199), (3096, 0.0027365351404980078), (3097, 0.0034713171401895993), (3098, 0.0), (3099, 0.0050935447912253615), (3100, 0.005349123584832876), (3101, 0.0034780062541548105), (3102, 0.0), (3103, 0.0), (3104, 0.0), (3105, 0.08078243597085592), (3106, 0.0), (3107, 0.0), (3108, 0.007965106118406014), (3109, 0.0), (3110, 0.006441932408159848), (3111, 0.002817594521386859), (3112, 0.009542894172357118), (3113, 0.003210884420665751), (3114, 0.014609092446883258), (3115, 0.0), (3116, 0.039989692887415905), (3117, 0.006564764129082717), (3118, 0.005314100374685685), (3119, 0.004315846602723543), (3120, 0.07078099711851339), (3121, 0.014758326661497739), (3122, 0.008466047389785845), (3123, 0.010824765775910444), (3124, 0.005945337453152861), (3125, 0.008918379602096934), (3126, 0.005484045076816175), (3127, 0.0), (3128, 0.0039683482712566925), (3129, 0.004919923326027091), (3130, 0.0), (3131, 0.00612655760744561), (3132, 0.0), (3133, 0.005382507514919991), (3134, 0.005976781718147), (3135, 0.0053634866828330624), (3136, 0.0053409208694724436), (3137, 0.005843699314774658), (3138, 0.0), (3139, 0.004457094653400799), (3140, 0.023849769569847593), (3141, 0.0), (3142, 0.0), (3143, 0.005318420762362457), (3144, 0.0), (3145, 0.0), (3146, 0.0035212869866318606), (3147, 0.0029306986918385173), (3148, 0.003564308048861813), (3149, 0.0), (3150, 0.003293745958403761), (3151, 0.002998773558123195), (3152, 0.0024566093986970274), (3153, 0.009138461163370913), (3154, 0.010861952207713344), (3155, 0.06565980169099525), (3156, 0.02073603668596309), (3157, 0.0035039848168518773), (3158, 0.0064182493347185844), (3159, 0.003896227351100436), (3160, 0.005030075568370867), (3161, 0.02123909462257203), (3162, 0.0), (3163, 0.006232879629511385), (3164, 0.0), (3165, 0.003615815665481036), (3166, 0.004366766022856221), (3167, 0.002819274836900757), (3168, 0.006448186020976804), (3169, 0.0), (3170, 0.0029948970044758575), (3171, 0.0029945913707177035), (3172, 0.0), (3173, 0.0031002796270988412), (3174, 0.0031396797677677754), (3175, 0.0), (3176, 0.0), (3177, 0.0), (3178, 0.0049772892328294235), (3179, 0.0058801243852685805), (3180, 0.006370906478868896), (3181, 0.0), (3182, 0.003206891598990091), (3183, 0.0034473005034895247), (3184, 0.0033812651159050014), (3185, 0.008689098075666582), (3186, 0.0035695018953922487), (3187, 0.003312820977271776), (3188, 0.0), (3189, 0.0), (3190, 0.0), (3191, 0.022164489822860553), (3192, 0.0), (3193, 0.0), (3194, 0.0029713831194616816), (3195, 0.008733394934475813), (3196, 0.047808129164516405), (3197, 0.0), (3198, 0.0032520943188138677), (3199, 0.0024378539599281706), (3200, 0.0026748274486136296), (3201, 0.0), (3202, 0.017181854822951054), (3203, 0.0), (3204, 0.0), (3205, 0.0), (3206, 0.02292878557259805), (3207, 0.0), (3208, 0.0), (3209, 0.01616198595149171), (3210, 0.008951653739633882), (3211, 0.002725671649999648), (3212, 0.0), (3213, 0.004800206695517735), (3214, 0.0030054466493623622), (3215, 0.0047891221403411266), (3216, 0.003132728428506933), (3217, 0.0), (3218, 0.003356178524243986), (3219, 0.004114068706852498), (3220, 0.0030767334153147456), (3221, 0.0), (3222, 0.013175944065930778), (3223, 0.0), (3224, 0.003277543925476939), (3225, 0.0032259914544683042), (3226, 0.005790783023606082), (3227, 0.008948089195021786), (3228, 0.010769913525227525), (3229, 0.016412480089377086), (3230, 0.0036344268726902457), (3231, 0.0), (3232, 0.08180703683381087), (3233, 0.009129769498655953), (3234, 0.0034410326550118283), (3235, 0.0033559768822326035), (3236, 0.0), (3237, 0.0031093868367008987), (3238, 0.002709186965490047), (3239, 0.023892821894258967), (3240, 0.006084235495603629), (3241, 0.0032842657553267493), (3242, 0.0033051579594034148), (3243, 0.002948482501573509), (3244, 0.0), (3245, 0.01596677484115902), (3246, 0.0030179556165017157), (3247, 0.00517913237476298), (3248, 0.003510924679799777), (3249, 0.00393734886139961), (3250, 0.0), (3251, 0.0), (3252, 0.0026231578800795397), (3253, 0.0), (3254, 0.002574014405874507), (3255, 0.0), (3256, 0.018421450439314275), (3257, 0.0037932851206729785), (3258, 0.0034232061679311207), (3259, 0.0), (3260, 0.0030886962650158683), (3261, 0.0), (3262, 0.004050665092974172), (3263, 0.04245410949290236), (3264, 0.0033240792865329234), (3265, 0.0), (3266, 0.06531847081771083), (3267, 0.002856491847048852), (3268, 0.003004635115484852), (3269, 0.003405314927828656), (3270, 0.0), (3271, 0.0034015022819898775), (3272, 0.0), (3273, 0.0035047655693673887), (3274, 0.041290283461199624), (3275, 0.01037254013267276), (3276, 0.004752159516724891), (3277, 0.0), (3278, 0.0028625027037642386), (3279, 0.004906931110847912), (3280, 0.0), (3281, 0.0), (3282, 0.004082611404814545), (3283, 0.0032065568130845417), (3284, 0.008127892459453737), (3285, 0.002366650461712147), (3286, 0.0), (3287, 0.0), (3288, 0.0), (3289, 0.0032262411037183147), (3290, 0.0032397169707250287), (3291, 0.004230480422995563), (3292, 0.0041095664437800754), (3293, 0.002979647157861279), (3294, 0.014575538554183332), (3295, 0.0), (3296, 0.003580527011457721), (3297, 0.003345068244595884), (3298, 0.0030409725245483647), (3299, 0.0031281903786180647), (3300, 0.002958403676861003), (3301, 0.002465213243538992), (3302, 0.0038356503716683358), (3303, 0.009031071899383448), (3304, 0.0028505498980305227), (3305, 0.0), (3306, 0.002886105492879862), (3307, 0.003656811361708778), (3308, 0.02243579477962132), (3309, 0.04508904878194661), (3310, 0.016485791383299673), (3311, 0.00284770487964508), (3312, 0.006651164261789564), (3313, 0.002570174061695548), (3314, 0.0033387787125675524), (3315, 0.003007308005321576), (3316, 0.002421602381339951), (3317, 0.08533180508478856), (3318, 0.02224097379944292), (3319, 0.0), (3320, 0.0), (3321, 0.0), (3322, 0.004051624088808634), (3323, 0.0), (3324, 0.0), (3325, 0.015855735951584057), (3326, 0.003334238259924429), (3327, 0.002823722476641496), (3328, 0.0020691924276584114), (3329, 0.002877997887090654), (3330, 0.008844321909129836), (3331, 0.007397738077231637), (3332, 0.0), (3333, 0.0), (3334, 0.006025032067961616), (3335, 0.003180751511417043), (3336, 0.0028335230911726), (3337, 0.0036324023013225974), (3338, 0.04932628153084422), (3339, 0.004928089283140559), (3340, 0.0), (3341, 0.0031569000501559855), (3342, 0.00824075147209204), (3343, 0.0), (3344, 0.007536818020949233), (3345, 0.0), (3346, 0.003139715818238186), (3347, 0.0026422308761964467), (3348, 0.018340014126464278), (3349, 0.009207171539068793), (3350, 0.0), (3351, 0.0032855989934577985), (3352, 0.0030273763829483545), (3353, 0.003272858575411673), (3354, 0.003963477823195964), (3355, 0.0036217663037051303), (3356, 0.0), (3357, 0.003913099758762308), (3358, 0.0038218936022293374), (3359, 0.0036636467470119007), (3360, 0.0027963584410335466), (3361, 0.036889562799346354), (3362, 0.002492824796937555), (3363, 0.003926162935509129), (3364, 0.0036341804486326595), (3365, 0.0022200409005625), (3366, 0.0), (3367, 0.005735467636615838), (3368, 0.05279951881631785), (3369, 0.0029038007483391166), (3370, 0.00861424160374398), (3371, 0.0), (3372, 0.0033062339121242377), (3373, 0.003543234455638911), (3374, 0.008807287080787141), (3375, 0.0), (3376, 0.0026882372814955756), (3377, 0.025193065576015868), (3378, 0.0), (3379, 0.003086408075936825), (3380, 0.002794546008871906), (3381, 0.003110493811390554), (3382, 0.0032849150584070065), (3383, 0.0), (3384, 0.006713524504291893), (3385, 0.006418088438510666), (3386, 0.0031897783203459146), (3387, 0.006323642259822195), (3388, 0.0033168535492641717), (3389, 0.017429385158113098), (3390, 0.002999458677236318), (3391, 0.007018434986752147), (3392, 0.0020917452348272907), (3393, 0.0027075231490806787), (3394, 0.0), (3395, 0.0), (3396, 0.0036311527669910383), (3397, 0.0), (3398, 0.005905950966428444), (3399, 0.0029411411841749773), (3400, 0.0), (3401, 0.0), (3402, 0.0030677426324981403), (3403, 0.0077750964045355895), (3404, 0.005826238334032922), (3405, 0.00486712712607998), (3406, 0.0033223446065772494), (3407, 0.0029554063621125854), (3408, 0.0036405218226522942), (3409, 0.0026858229584762715), (3410, 0.015250031825841875), (3411, 0.0), (3412, 0.003070280050660173), (3413, 0.003781225645521242), (3414, 0.0035239462824560273), (3415, 0.016538824995289976), (3416, 0.07433422374730243), (3417, 0.0034672486793286762), (3418, 0.031539639289640785), (3419, 0.003632989275745975), (3420, 0.0), (3421, 0.002177950988830397), (3422, 0.0), (3423, 0.003602114638130902), (3424, 0.0), (3425, 0.0036476690385634294), (3426, 0.005326984924560618), (3427, 0.0), (3428, 0.0), (3429, 0.02684684316037018), (3430, 0.002620365008381972), (3431, 0.0025280049687447406), (3432, 0.00568451220198953), (3433, 0.008356206894279782), (3434, 0.0033491418149603227), (3435, 0.00878828795080785), (3436, 0.008931603158294091), (3437, 0.009290479666392217), (3438, 0.006113345526664944), (3439, 0.0), (3440, 0.006653441394728295), (3441, 0.003122227822445931), (3442, 0.0), (3443, 0.005648265603622131), (3444, 0.0), (3445, 0.0032240421181065283), (3446, 0.005881032737736321), (3447, 0.00307618036111877), (3448, 0.006946732732378402), (3449, 0.0034018061033552404), (3450, 0.010306878850903155), (3451, 0.006137824305289559), (3452, 0.008275331746647175), (3453, 0.0), (3454, 0.0), (3455, 0.0028905553155058983), (3456, 0.003910995988053838), (3457, 0.0), (3458, 0.002156767864789072), (3459, 0.0), (3460, 0.06523317823836218), (3461, 0.07320562280978897), (3462, 0.0), (3463, 0.0), (3464, 0.0), (3465, 0.005439220726484597), (3466, 0.005390934964680387), (3467, 0.0), (3468, 0.00617167267244377), (3469, 0.03780681552109259), (3470, 0.006427655594524692), (3471, 0.007056183306017473), (3472, 0.0), (3473, 0.0), (3474, 0.008064008643396924), (3475, 0.0), (3476, 0.0), (3477, 0.0031216295516058494), (3478, 0.0031480916546381163), (3479, 0.004204188585462415), (3480, 0.0), (3481, 0.0), (3482, 0.0), (3483, 0.009396258951143318), (3484, 0.0047622841047639235), (3485, 0.0), (3486, 0.005846877968126406), (3487, 0.008532582719563087), (3488, 0.005969988250167439), (3489, 0.0), (3490, 0.0), (3491, 0.003160443331043125), (3492, 0.003144210644860437), (3493, 0.0032949677062994605), (3494, 0.015904349240774922), (3495, 0.005092050346111128), (3496, 0.003379167509448991), (3497, 0.1111504513053982), (3498, 0.008479260688163934), (3499, 0.024242833220494264), (3500, 0.002920665694479815), (3501, 0.009020904697199048), (3502, 0.006931232865667232), (3503, 0.0030187029200232497), (3504, 0.00850023797284722), (3505, 0.0), (3506, 0.0036308257874349383), (3507, 0.02231833608361152), (3508, 0.0), (3509, 0.0), (3510, 0.0), (3511, 0.003313788933169363), (3512, 0.004827313203122941), (3513, 0.0059997619855055705), (3514, 0.00926472373283877), (3515, 0.0), (3516, 0.009651686633658892), (3517, 0.019622013914721348), (3518, 0.0), (3519, 0.0), (3520, 0.021794734356410758), (3521, 0.010933018944364797), (3522, 0.0), (3523, 0.004512852470220583), (3524, 0.00370389476461828), (3525, 0.0), (3526, 0.037242534572922426), (3527, 0.003254153236785658), (3528, 0.0), (3529, 0.0), (3530, 0.0), (3531, 0.0), (3532, 0.0), (3533, 0.0), (3534, 0.005198915840704916), (3535, 0.006780884205553797), (3536, 0.0032664269960488526), (3537, 0.0039047188552215617), (3538, 0.0025101779485086104), (3539, 0.0), (3540, 0.0036717434163276857), (3541, 0.003166704014290145), (3542, 0.003220959921785785), (3543, 0.0), (3544, 0.00383202527146997), (3545, 0.0), (3546, 0.0023487122564239587), (3547, 0.0), (3548, 0.002588821365573256), (3549, 0.01634334902811499), (3550, 0.0), (3551, 0.0031773091175269544), (3552, 0.005120036435306588), (3553, 0.008795484184648537), (3554, 0.07513189971493364), (3555, 0.005550063897622813), (3556, 0.007935005388327004), (3557, 0.0030870950758715553), (3558, 0.0029063524428038644), (3559, 0.0), (3560, 0.0035371641591994364), (3561, 0.004267549342565252), (3562, 0.0), (3563, 0.0028691938441943515), (3564, 0.019024528346501986), (3565, 0.0031155722164476823), (3566, 0.0), (3567, 0.0), (3568, 0.0), (3569, 0.0026990858200811756), (3570, 0.0), (3571, 0.00907474181919204), (3572, 0.0), (3573, 0.0), (3574, 0.0), (3575, 0.002543268515109889), (3576, 0.005816038745860972), (3577, 0.003890511332472563), (3578, 0.01994627727160804), (3579, 0.002687141180056869), (3580, 0.09658460257724419), (3581, 0.0), (3582, 0.005516585482011623), (3583, 0.005560333210500918), (3584, 0.0061500048387722345), (3585, 0.015402339857170341), (3586, 0.0), (3587, 0.0035462230041293547), (3588, 0.007035778893668453), (3589, 0.0), (3590, 0.003344052389437282), (3591, 0.0), (3592, 0.0), (3593, 0.003514209244835772), (3594, 0.0), (3595, 0.0), (3596, 0.003115557095891012), (3597, 0.0), (3598, 0.0), (3599, 0.0032869876012323286), (3600, 0.0), (3601, 0.0033573817652728997), (3602, 0.038825341034175634), (3603, 0.0), (3604, 0.04336998497584413), (3605, 0.020581554166923758), (3606, 0.019322482990852714), (3607, 0.0), (3608, 0.002050503570806126), (3609, 0.0), (3610, 0.0), (3611, 0.003576930546364955), (3612, 0.003149288011497305), (3613, 0.0038829532674383997), (3614, 0.0920795563872056), (3615, 0.0029645197911359216), (3616, 0.003914769331423095), (3617, 0.0), (3618, 0.009406900408823223), (3619, 0.0050241470195368), (3620, 0.0038333991340296727), (3621, 0.0037043764078792396), (3622, 0.0), (3623, 0.04544509624718875), (3624, 0.008792309237637332), (3625, 0.0), (3626, 0.0024152345569528927), (3627, 0.002912779334705371), (3628, 0.0), (3629, 0.002703617748237114), (3630, 0.0), (3631, 0.0), (3632, 0.0), (3633, 0.0), (3634, 0.0026616888618493373), (3635, 0.011998456830813792), (3636, 0.0032442291384098348), (3637, 0.007760948734151667), (3638, 0.011064542419496825), (3639, 0.0036028892478220434), (3640, 0.009897173020553604), (3641, 0.0030403538438289594), (3642, 0.009623463136433785), (3643, 0.003198129075715716), (3644, 0.0), (3645, 0.0023728481670557268), (3646, 0.002976720375138866), (3647, 0.00309731015984718), (3648, 0.0), (3649, 0.0), (3650, 0.0), (3651, 0.003601283449971529), (3652, 0.006327418396580602), (3653, 0.04293346034899939), (3654, 0.003310835013884215), (3655, 0.002739692771957842), (3656, 0.002901262353118347), (3657, 0.002656621148378839), (3658, 0.0), (3659, 0.006241185134379423), (3660, 0.04086155224776286), (3661, 0.010121378844166432), (3662, 0.0), (3663, 0.0), (3664, 0.005504347919773148), (3665, 0.03630472430796646), (3666, 0.009214549396257515), (3667, 0.004813680870659112), (3668, 0.0026646043216302408), (3669, 0.002667855168712582), (3670, 0.008950414211982151), (3671, 0.0), (3672, 0.0044733601822274675), (3673, 0.003135334755109371), (3674, 0.0048338525201498655), (3675, 0.010578839971683565), (3676, 0.0), (3677, 0.0034555965864399825), (3678, 0.0033490617168581466), (3679, 0.012034900892325485), (3680, 0.010035376627042712), (3681, 0.0), (3682, 0.0), (3683, 0.0), (3684, 0.004969760117821928), (3685, 0.0), (3686, 0.0), (3687, 0.003931989124659907), (3688, 0.0), (3689, 0.003256210705831919), (3690, 0.0), (3691, 0.018032758418107715), (3692, 0.009555273009679508), (3693, 0.0), (3694, 0.009604297665808758), (3695, 0.0), (3696, 0.04111562290755518), (3697, 0.0), (3698, 0.0), (3699, 0.009064419677076004), (3700, 0.0), (3701, 0.003227372627700878), (3702, 0.0), (3703, 0.0), (3704, 0.009590305004179017), (3705, 0.008030433070530607), (3706, 0.0030723073561218007), (3707, 0.03900841431036477), (3708, 0.0066117942767277855), (3709, 0.0), (3710, 0.006087887777803794), (3711, 0.005276083419584691), (3712, 0.0), (3713, 0.0047744209983388046), (3714, 0.0034409603753586416), (3715, 0.02778120610370692), (3716, 0.0), (3717, 0.0), (3718, 0.0), (3719, 0.035768869540810044), (3720, 0.005526176913589021), (3721, 0.007596632408957294), (3722, 0.0), (3723, 0.07021771002852374), (3724, 0.01675627662352456), (3725, 0.0029312371883222126), (3726, 0.0), (3727, 0.00879903170557253), (3728, 0.0033663655386206386), (3729, 0.00364834898578675), (3730, 0.0), (3731, 0.0), (3732, 0.0), (3733, 0.002998253835017353), (3734, 0.008370240425134725), (3735, 0.0), (3736, 0.0), (3737, 0.003515224736371828), (3738, 0.0), (3739, 0.003182694027395165), (3740, 0.0), (3741, 0.006651826935763225), (3742, 0.002875530317320584), (3743, 0.0), (3744, 0.006969192155464213), (3745, 0.003703223772960247), (3746, 0.0), (3747, 0.0060482054910517115), (3748, 0.0), (3749, 0.003432458493614837), (3750, 0.0), (3751, 0.0025874873012667215), (3752, 0.0), (3753, 0.0), (3754, 0.003650868007632218), (3755, 0.0027822571376339643), (3756, 0.007259206336855473), (3757, 0.0033958799123419304), (3758, 0.0), (3759, 0.0), (3760, 0.0), (3761, 0.0), (3762, 0.004101300173670524), (3763, 0.0037101071995968987), (3764, 0.0), (3765, 0.003057996699925155), (3766, 0.010583174634843028), (3767, 0.0028918373552729395), (3768, 0.006153385992110788), (3769, 0.005987454889126989), (3770, 0.003292009217470371), (3771, 0.00961224098208593), (3772, 0.0035825102862997046), (3773, 0.0), (3774, 0.006131998191102966), (3775, 0.005314149848638039), (3776, 0.03337519846110262), (3777, 0.00937655254218778), (3778, 0.0032699782056018942), (3779, 0.00380141697431018), (3780, 0.009475555254521711), (3781, 0.003373028092138005), (3782, 0.006133889894758415), (3783, 0.0), (3784, 0.018038199059096503), (3785, 0.0), (3786, 0.0), (3787, 0.006269259738518646), (3788, 0.00535287367607366), (3789, 0.0), (3790, 0.0), (3791, 0.0), (3792, 0.003201446843060555), (3793, 0.005629613477056042), (3794, 0.036910473716005275), (3795, 0.01695220276875862), (3796, 0.0), (3797, 0.009820527195509816), (3798, 0.0), (3799, 0.00298413292721322), (3800, 0.0), (3801, 0.007950975659639602), (3802, 0.006270363402415883), (3803, 0.0), (3804, 0.003511721637394466), (3805, 0.0), (3806, 0.0048309806751515765), (3807, 0.008828013185103767), (3808, 0.0), (3809, 0.0032254304371397476), (3810, 0.005835170942253987), (3811, 0.0029677399137207705), (3812, 0.0), (3813, 0.003434884769341709), (3814, 0.005632531313758355), (3815, 0.005838295346246848), (3816, 0.01730602286789331), (3817, 0.0), (3818, 0.0), (3819, 0.04000789430798146), (3820, 0.0), (3821, 0.00264012511237453), (3822, 0.0035347449219388463), (3823, 0.005384170693646646), (3824, 0.005465561970720859), (3825, 0.0), (3826, 0.003026488958331667), (3827, 0.0030866232086380414), (3828, 0.011223620982512766), (3829, 0.0029263318811259546), (3830, 0.0), (3831, 0.0), (3832, 0.0038431525053891184), (3833, 0.005815462445869002), (3834, 0.0), (3835, 0.0018960016947666169), (3836, 0.0), (3837, 0.0), (3838, 0.0), (3839, 0.0029036926548998677), (3840, 0.0), (3841, 0.007958550387231462), (3842, 0.0), (3843, 0.0), (3844, 0.007175939127831748), (3845, 0.0032836053679968368), (3846, 0.0), (3847, 0.0), (3848, 0.003993940400574862), (3849, 0.00594775592876487), (3850, 0.006119775903834974), (3851, 0.0), (3852, 0.0049896058359899685), (3853, 0.005407096469416313), (3854, 0.008206712595390159), (3855, 0.002671188881888887), (3856, 0.0), (3857, 0.003496562245664935), (3858, 0.0), (3859, 0.0), (3860, 0.00519202109049138), (3861, 0.0), (3862, 0.00926853244524815), (3863, 0.0028288638284669266), (3864, 0.0), (3865, 0.0), (3866, 0.003628771036003063), (3867, 0.003576238652732411), (3868, 0.0030121822699139566), (3869, 0.0), (3870, 0.0), (3871, 0.0), (3872, 0.0), (3873, 0.003366190537874854), (3874, 0.0038495940064814634), (3875, 0.0025587777229835722), (3876, 0.008146250746660777), (3877, 0.00350505492899721), (3878, 0.004137554416052558), (3879, 0.0), (3880, 0.0027465206030160665), (3881, 0.005460962718758049), (3882, 0.0033132280091445958), (3883, 0.010115951467131627), (3884, 0.003662739236756794), (3885, 0.0), (3886, 0.005499513200933064), (3887, 0.0), (3888, 0.003114866942758914), (3889, 0.0034141471179231745), (3890, 0.003045644059057525), (3891, 0.0), (3892, 0.004092399329969569), (3893, 0.020472754875603693), (3894, 0.0027609380414881676), (3895, 0.002755811089031859), (3896, 0.0), (3897, 0.006071461388697688), (3898, 0.0682717028153073), (3899, 0.00956293854681803), (3900, 0.0030271721842332266), (3901, 0.01070270465978672), (3902, 0.0032755020842413444), (3903, 0.0036058706194291583), (3904, 0.0033672082195524687), (3905, 0.0), (3906, 0.003097324318281467), (3907, 0.005941172798629931), (3908, 0.005801808917695792), (3909, 0.0), (3910, 0.036976721601402945), (3911, 0.0037616974660028553), (3912, 0.0), (3913, 0.0029063083512220486), (3914, 0.0), (3915, 0.003419357226773719), (3916, 0.0), (3917, 0.0030282990026904134), (3918, 0.0), (3919, 0.0032908861883453474), (3920, 0.0032607962258371396), (3921, 0.0), (3922, 0.003886227667444552), (3923, 0.0), (3924, 0.0034605615703660864), (3925, 0.004685839657904622), (3926, 0.015828311599702948), (3927, 0.002620304092222071), (3928, 0.0026296361984221093), (3929, 0.0), (3930, 0.0), (3931, 0.0), (3932, 0.005807153073971064), (3933, 0.0), (3934, 0.0), (3935, 0.003709545707145668), (3936, 0.0), (3937, 0.0), (3938, 0.006208924890658378), (3939, 0.004192887261373204), (3940, 0.0), (3941, 0.0029500818418568735), (3942, 0.006985327304485576), (3943, 0.0), (3944, 0.004616045815541105), (3945, 0.0091668995722492), (3946, 0.004440810822104438), (3947, 0.006617527848387999), (3948, 0.0), (3949, 0.0), (3950, 0.0), (3951, 0.00367327104777827), (3952, 0.0036101735052972987), (3953, 0.002864312761199949), (3954, 0.002971097568960224), (3955, 0.0), (3956, 0.002805880450314133), (3957, 0.02034037065508698), (3958, 0.0), (3959, 0.015122789494124147), (3960, 0.04833416291601592), (3961, 0.009795320145611486), (3962, 0.003535620842176816), (3963, 0.0), (3964, 0.0), (3965, 0.0), (3966, 0.005340711265374084), (3967, 0.0034800783630228867), (3968, 0.0), (3969, 0.0), (3970, 0.00547692640978022), (3971, 0.0), (3972, 0.0), (3973, 0.038745648830569315), (3974, 0.007987611042211337), (3975, 0.007464093232871969), (3976, 0.0), (3977, 0.0), (3978, 0.00846472517997274), (3979, 0.0), (3980, 0.0), (3981, 0.0), (3982, 0.01579895638680447), (3983, 0.002358438265850028), (3984, 0.003310755786236353), (3985, 0.0), (3986, 0.0028325145301960923), (3987, 0.05364393828270953), (3988, 0.0), (3989, 0.004613260720582913), (3990, 0.004345262818756687), (3991, 0.0), (3992, 0.003558522421932158), (3993, 0.005290844862717896), (3994, 0.0), (3995, 0.005937007484230518), (3996, 0.0), (3997, 0.006096348212423991), (3998, 0.0), (3999, 0.0038762854678143317), (4000, 0.008802616097702182), (4001, 0.0), (4002, 0.0036559900544371996), (4003, 0.0), (4004, 0.009000008350087092), (4005, 0.026368618623715267), (4006, 0.0), (4007, 0.0), (4008, 0.016400442257362344), (4009, 0.0), (4010, 0.0), (4011, 0.002956528281597261), (4012, 0.0), (4013, 0.08947015256875611), (4014, 0.0031852304414104198), (4015, 0.002596867139392141), (4016, 0.003139417130179407), (4017, 0.004271990048406363), (4018, 0.0), (4019, 0.00408093952258808), (4020, 0.0030884136360279637), (4021, 0.0), (4022, 0.0), (4023, 0.022380117406037275), (4024, 0.0033996108668382934), (4025, 0.0032659646744937335), (4026, 0.0), (4027, 0.0), (4028, 0.0), (4029, 0.0), (4030, 0.003684720561614489), (4031, 0.018473348535303805), (4032, 0.0036733706718915567), (4033, 0.003321135544071621), (4034, 0.0), (4035, 0.0), (4036, 0.00307596177602591), (4037, 0.0), (4038, 0.009487634506316182), (4039, 0.005582213559080314), (4040, 0.0), (4041, 0.0), (4042, 0.0034770043984659856), (4043, 0.006382801180679659), (4044, 0.005195852078953542), (4045, 0.0), (4046, 0.009728900406638905), (4047, 0.007237908141087667), (4048, 0.0034463289777221877), (4049, 0.003194965441758881), (4050, 0.04304828427114705), (4051, 0.003512155514434827), (4052, 0.0033271480161836727), (4053, 0.002856548505095997), (4054, 0.0033380720563436555), (4055, 0.0), (4056, 0.0031310732769025567), (4057, 0.0), (4058, 0.0), (4059, 0.0029439833289966115), (4060, 0.0031276767788284278), (4061, 0.0), (4062, 0.003812980487067487), (4063, 0.0), (4064, 0.0), (4065, 0.0), (4066, 0.0027646199657030044), (4067, 0.0), (4068, 0.07878710760185004), (4069, 0.0030407122050254824), (4070, 0.0), (4071, 0.005418241451278011), (4072, 0.0), (4073, 0.0), (4074, 0.03274964013250279), (4075, 0.0036733019985578305), (4076, 0.006169162644916911), (4077, 0.0), (4078, 0.0), (4079, 0.0032634426013310883), (4080, 0.002822660096239209), (4081, 0.0031655083637909098), (4082, 0.00444722166832738), (4083, 0.0032866366147818785), (4084, 0.0), (4085, 0.0029962664808806895), (4086, 0.0), (4087, 0.0034221983328114824), (4088, 0.005868465305711114), (4089, 0.00924037485247412), (4090, 0.006170628957203954), (4091, 0.0062921178891654), (4092, 0.010042981165645183), (4093, 0.0), (4094, 0.016936025775781446), (4095, 0.020942705219677553), (4096, 0.004961084641946502), (4097, 0.0), (4098, 0.043702153006813835), (4099, 0.0), (4100, 0.0), (4101, 0.003435972165554579), (4102, 0.06395016446327412), (4103, 0.0396999906211223), (4104, 0.002790426713743527), (4105, 0.0), (4106, 0.005126827534218164), (4107, 0.003887219498895994), (4108, 0.0), (4109, 0.042724563753133216), (4110, 0.0), (4111, 0.0033700850720322583), (4112, 0.0), (4113, 0.021049047175077405), (4114, 0.0), (4115, 0.0), (4116, 0.009675269783151074), (4117, 0.039672351883538605), (4118, 0.0), (4119, 0.006364650501394694), (4120, 0.0063830969533166925), (4121, 0.04491044698662388), (4122, 0.019626087276924182), (4123, 0.026056221406026484), (4124, 0.008397294031830423), (4125, 0.0), (4126, 0.003663240441702054), (4127, 0.0), (4128, 0.0), (4129, 0.003047124947971612), (4130, 0.020713326546126242), (4131, 0.0), (4132, 0.00338856024697861), (4133, 0.00967670405203623), (4134, 0.007858696101204645), (4135, 0.0031927366534149288), (4136, 0.00327946579771737), (4137, 0.003176980243797123), (4138, 0.0034894264449612583), (4139, 0.0030399665534965397), (4140, 0.00343964969276823), (4141, 0.0028068532309987585), (4142, 0.004024837230204105), (4143, 0.0028297904748831627), (4144, 0.0), (4145, 0.0036979752138311898), (4146, 0.0), (4147, 0.0038332007072813374), (4148, 0.00570405279195979), (4149, 0.033608880679444036), (4150, 0.0), (4151, 0.0054088411132008065), (4152, 0.0030035274349705043), (4153, 0.0), (4154, 0.02229887312307544), (4155, 0.0030074997642753646), (4156, 0.0027595417143731625), (4157, 0.0), (4158, 0.004916907274095527), (4159, 0.0), (4160, 0.0035295969352250206), (4161, 0.07727001232044729), (4162, 0.06093902536473221), (4163, 0.010288997137579092), (4164, 0.005229679875143804), (4165, 0.005280845958718404), (4166, 0.0), (4167, 0.0), (4168, 0.0), (4169, 0.02018686555497961), (4170, 0.0), (4171, 0.0022248763412442097), (4172, 0.004161818258914822), (4173, 0.0), (4174, 0.0028975565616104117), (4175, 0.003352126202701966), (4176, 0.008160263143605063), (4177, 0.0), (4178, 0.009318445976214547), (4179, 0.0), (4180, 0.0), (4181, 0.0), (4182, 0.002388399039236388), (4183, 0.003053336847835708), (4184, 0.0), (4185, 0.017721282519586587), (4186, 0.0), (4187, 0.00357201324680502), (4188, 0.0), (4189, 0.009077667133825788), (4190, 0.018847223708521658), (4191, 0.0), (4192, 0.01835135559984253), (4193, 0.035671589497568545), (4194, 0.0), (4195, 0.0), (4196, 0.0), (4197, 0.003209298406129844), (4198, 0.0), (4199, 0.0), (4200, 0.02873415736968245), (4201, 0.0), (4202, 0.004401920911842385), (4203, 0.003649090237211889), (4204, 0.0), (4205, 0.04498740915862564), (4206, 0.0029903164869354943), (4207, 0.0), (4208, 0.007165390776911099), (4209, 0.003857602344666074), (4210, 0.0), (4211, 0.005621241110848268), (4212, 0.0), (4213, 0.0029934866638381126), (4214, 0.01600699970250874), (4215, 0.0), (4216, 0.005534064217803375), (4217, 0.0), (4218, 0.0), (4219, 0.007361665997981146), (4220, 0.0027771641892368323), (4221, 0.004208986284272138), (4222, 0.004222032532031753), (4223, 0.0), (4224, 0.0), (4225, 0.003304635563603361), (4226, 0.0), (4227, 0.006321564989490532), (4228, 0.00311013831834698), (4229, 0.0), (4230, 0.004033660979048503), (4231, 0.009466770856073357), (4232, 0.0027368197402751425), (4233, 0.0), (4234, 0.0), (4235, 0.005246893310733967), (4236, 0.0), (4237, 0.014069010977015572), (4238, 0.0), (4239, 0.0), (4240, 0.006251332464120581), (4241, 0.0), (4242, 0.011025084369190565), (4243, 0.0035838474276344177), (4244, 0.07212220212809102), (4245, 0.003382337175463997), (4246, 0.0029807017020317067), (4247, 0.002766925697633875), (4248, 0.005692548950134119), (4249, 0.009156678907716907), (4250, 0.0), (4251, 0.005870987274345601), (4252, 0.0), (4253, 0.0), (4254, 0.0029559042683235713), (4255, 0.00899632205053474), (4256, 0.0), (4257, 0.0029655855514007907), (4258, 0.0), (4259, 0.0034967954925122966), (4260, 0.0), (4261, 0.0), (4262, 0.0032683215729016144), (4263, 0.0034673304766374316), (4264, 0.005643117751296131), (4265, 0.0787425240700073), (4266, 0.0031766349603147), (4267, 0.003614852220029891), (4268, 0.003135370105739309), (4269, 0.003376742804148482), (4270, 0.0), (4271, 0.0), (4272, 0.0), (4273, 0.0032214799166776667), (4274, 0.005250850029546307), (4275, 0.005937457625982562), (4276, 0.0), (4277, 0.0028835044323645255), (4278, 0.0), (4279, 0.0), (4280, 0.0037309075758976667), (4281, 0.0066184629292911305), (4282, 0.008169087100119576), (4283, 0.009046214658859787), (4284, 0.008707580248676267), (4285, 0.006720112810095782), (4286, 0.0033283783427005107), (4287, 0.00325236357033455), (4288, 0.018057841612034945), (4289, 0.0), (4290, 0.0051684302820023615), (4291, 0.0), (4292, 0.005395352977690627), (4293, 0.003512878114291238), (4294, 0.0), (4295, 0.003594278908489145), (4296, 0.0027421154030535665), (4297, 0.0), (4298, 0.0038621151128294144), (4299, 0.008663429977980424), (4300, 0.01592644294082129), (4301, 0.002335632186082372), (4302, 0.0), (4303, 0.0), (4304, 0.0028254309785571896), (4305, 0.0), (4306, 0.0038920447378136243), (4307, 0.006429236836914459), (4308, 0.0034523204917455046), (4309, 0.008661818644588754), (4310, 0.005732261865665691), (4311, 0.002557648588897713), (4312, 0.07993842493090918), (4313, 0.0), (4314, 0.0), (4315, 0.0), (4316, 0.0), (4317, 0.0), (4318, 0.0033265435439192763), (4319, 0.0), (4320, 0.003140089519556784), (4321, 0.0029971143513916484), (4322, 0.005243195861639326), (4323, 0.0), (4324, 0.0), (4325, 0.005311484801748076), (4326, 0.0028862303431141777), (4327, 0.0), (4328, 0.005349597062736977), (4329, 0.0), (4330, 0.0031498399092934107), (4331, 0.006596268892738902), (4332, 0.0), (4333, 0.003542378934974966), (4334, 0.03761235486150376), (4335, 0.0), (4336, 0.0030407786786566357), (4337, 0.00635835949141374), (4338, 0.0), (4339, 0.005230923621972805), (4340, 0.0032559222155014284), (4341, 0.0), (4342, 0.0), (4343, 0.06804425276460696), (4344, 0.021094665652381512), (4345, 0.0029860978296632978), (4346, 0.0), (4347, 0.01691066046704874), (4348, 0.002895050002169255), (4349, 0.0030955472743747466), (4350, 0.0028375047697687824), (4351, 0.0), (4352, 0.0), (4353, 0.02931800363088946), (4354, 0.003293231953385274), (4355, 0.0033537704139874657), (4356, 0.002927746223532578), (4357, 0.0033557321252131356), (4358, 0.0), (4359, 0.002874106890780257), (4360, 0.005757010216197748), (4361, 0.003275255105485418), (4362, 0.008689546054006014), (4363, 0.0032971598085736378), (4364, 0.0), (4365, 0.005043893700810018), (4366, 0.005148934757691988), (4367, 0.0), (4368, 0.003543010087025864), (4369, 0.003621805112847208), (4370, 0.0), (4371, 0.0033758586406593357), (4372, 0.0), (4373, 0.0), (4374, 0.008424059907318418), (4375, 0.0058144231194757305), (4376, 0.005871048668843464), (4377, 0.005876786919071892), (4378, 0.0), (4379, 0.009194872577953818), (4380, 0.005827691490140132), (4381, 0.0030519447017854735), (4382, 0.003044086506562502), (4383, 0.005746461137072235), (4384, 0.006065289991783371), (4385, 0.0), (4386, 0.0027150868397380233), (4387, 0.00865333981396815), (4388, 0.0), (4389, 0.0064881725086495395), (4390, 0.0), (4391, 0.0031814472930090094), (4392, 0.006029951789035196), (4393, 0.0), (4394, 0.10094773956679774), (4395, 0.003062596480628356), (4396, 0.003522101518955323), (4397, 0.0035035875741772455), (4398, 0.003637683668511881), (4399, 0.002975166744695202), (4400, 0.024158268303099507), (4401, 0.003517256276709562), (4402, 0.00820601506492463), (4403, 0.01131128633050315), (4404, 0.0), (4405, 0.0), (4406, 0.0), (4407, 0.004117775069471761), (4408, 0.018973308245196323), (4409, 0.0031294612774045213), (4410, 0.0), (4411, 0.031176510372948878), (4412, 0.010395787984503507), (4413, 0.0), (4414, 0.0), (4415, 0.0), (4416, 0.0037056033397058455), (4417, 0.0), (4418, 0.00413456003843966), (4419, 0.0032818816318973295), (4420, 0.003319503000606967), (4421, 0.0), (4422, 0.0032532225238612977), (4423, 0.00408219927718664), (4424, 0.0), (4425, 0.0), (4426, 0.018576472483641426), (4427, 0.0031445510393279265), (4428, 0.0029892688048674004), (4429, 0.0027333529495378616), (4430, 0.009291577789637347), (4431, 0.009490788929028948), (4432, 0.007767652083069111), (4433, 0.0), (4434, 0.0), (4435, 0.019041412168993174), (4436, 0.04257870864948811), (4437, 0.0), (4438, 0.0054900742399484875), (4439, 0.0), (4440, 0.0), (4441, 0.005439751121942519), (4442, 0.0030535124963591057), (4443, 0.010871513201407824), (4444, 0.011625165150382259), (4445, 0.0023632970777139667), (4446, 0.003453397754083193), (4447, 0.0), (4448, 0.0032876560871387735), (4449, 0.0), (4450, 0.005076244911511316), (4451, 0.0), (4452, 0.0), (4453, 0.0), (4454, 0.0), (4455, 0.0), (4456, 0.03423532958516221), (4457, 0.0), (4458, 0.003754579377218282), (4459, 0.0), (4460, 0.0), (4461, 0.003030623824016345), (4462, 0.006471326072793847), (4463, 0.0), (4464, 0.007281183973035849), (4465, 0.003607940219382853), (4466, 0.005962908358696655), (4467, 0.0), (4468, 0.004999876853540621), (4469, 0.003933329280339099), (4470, 0.05783131900856634), (4471, 0.0033383339370873484), (4472, 0.003043103016029669), (4473, 0.002741775875829472), (4474, 0.009344181015893141), (4475, 0.007980421089375292), (4476, 0.002693821339729966), (4477, 0.003677862759666204), (4478, 0.0), (4479, 0.002899427160664089), (4480, 0.0), (4481, 0.005471325785301356), (4482, 0.0), (4483, 0.0), (4484, 0.07630150950945043), (4485, 0.03365006709051321), (4486, 0.0), (4487, 0.00310152884795165), (4488, 0.004964630344634361), (4489, 0.003338837443975015), (4490, 0.010524533333257006), (4491, 0.0), (4492, 0.0), (4493, 0.0), (4494, 0.010025643190586514), (4495, 0.00337195057106715), (4496, 0.0), (4497, 0.00329589448544048), (4498, 0.0), (4499, 0.0), (4500, 0.04393307828227105), (4501, 0.0031805437637191375), (4502, 0.002875233687019815), (4503, 0.042998028404762224), (4504, 0.003038374282881254), (4505, 0.0033322383471704833), (4506, 0.0), (4507, 0.0036159280405736616), (4508, 0.0), (4509, 0.0), (4510, 0.00607806617006184), (4511, 0.003131119767837508), (4512, 0.006416380462201451), (4513, 0.08285654430626863), (4514, 0.006926555701274699), (4515, 0.006372215855052001), (4516, 0.0036099085028682564), (4517, 0.00892822531467117), (4518, 0.006951588536748842), (4519, 0.0), (4520, 0.0031164010177862906), (4521, 0.003929393411321752), (4522, 0.009671255980325037), (4523, 0.023606647161547742), (4524, 0.006833571174598327), (4525, 0.0), (4526, 0.0), (4527, 0.006584427976234435), (4528, 0.0397979403191102), (4529, 0.004220938038536712), (4530, 0.0030788045943438416), (4531, 0.009835092742401729), (4532, 0.013833203071174334), (4533, 0.009082610495174582), (4534, 0.005569510724444763), (4535, 0.0035235555925126885), (4536, 0.003007657606032586), (4537, 0.007454194762297479), (4538, 0.0), (4539, 0.0), (4540, 0.0033826151115243785), (4541, 0.0), (4542, 0.0), (4543, 0.005515739933672097), (4544, 0.003927182551554136), (4545, 0.0034067190796613044), (4546, 0.011471272645609858), (4547, 0.0), (4548, 0.005368008757720789), (4549, 0.0), (4550, 0.035526406353613156), (4551, 0.003483963370226769), (4552, 0.00593564428953303), (4553, 0.005007213090184263), (4554, 0.01054916113976933), (4555, 0.004744619674579056), (4556, 0.0), (4557, 0.0), (4558, 0.0), (4559, 0.0), (4560, 0.0), (4561, 0.0), (4562, 0.019631818653058013), (4563, 0.0032281321908754672), (4564, 0.0), (4565, 0.0), (4566, 0.0033186016360951406), (4567, 0.0030087512897740564), (4568, 0.0), (4569, 0.0), (4570, 0.0), (4571, 0.03011357620328822), (4572, 0.0038636219352431336), (4573, 0.003051803345133413), (4574, 0.0033707211775307225), (4575, 0.0033308916123217813), (4576, 0.04140997754455178), (4577, 0.0), (4578, 0.0), (4579, 1.0), (4580, 0.0), (4581, 0.0), (4582, 0.005107934876210169), (4583, 0.0), (4584, 0.003701031308854729), (4585, 0.005358343225322328), (4586, 0.005962902476359208), (4587, 0.0054577568345267665), (4588, 0.0), (4589, 0.003684702196577902), (4590, 0.007946642584230446), (4591, 0.008253808376100378), (4592, 0.0), (4593, 0.009868215260408951), (4594, 0.0037080258115502742), (4595, 0.04244347233286436), (4596, 0.0), (4597, 0.03911552811148053), (4598, 0.002469764090274462), (4599, 0.0), (4600, 0.10215571243638373), (4601, 0.009713584221643777), (4602, 0.003453963323927291), (4603, 0.002936530982636352), (4604, 0.019053366651921394), (4605, 0.0034968366186271466), (4606, 0.003985466745695644), (4607, 0.004571371651456221), (4608, 0.002793623490823925), (4609, 0.0), (4610, 0.002642084676077425), (4611, 0.00419612845802535), (4612, 0.01104796993743225), (4613, 0.01672914674649801), (4614, 0.008476767714296873), (4615, 0.0), (4616, 0.00290805729067324), (4617, 0.004305589453490205), (4618, 0.0), (4619, 0.00347339028977991), (4620, 0.0028763588645743777), (4621, 0.005983970550168848), (4622, 0.0), (4623, 0.10393147637971027), (4624, 0.009305984072730844), (4625, 0.0032686975070988847), (4626, 0.002545200306372276), (4627, 0.0027012617141518465), (4628, 0.0163110588742737), (4629, 0.05851571552342027), (4630, 0.006421825510264627), (4631, 0.0), (4632, 0.0037114145847846063), (4633, 0.003699691953463065), (4634, 0.002937510289087836), (4635, 0.0), (4636, 0.002654777148693198), (4637, 0.12750757959189843), (4638, 0.0028716873326411797), (4639, 0.005992096228095155), (4640, 0.00315390635987351), (4641, 0.003075299975158137), (4642, 0.006757949887234514), (4643, 0.0032382192629413376), (4644, 0.0), (4645, 0.0), (4646, 0.007301237554061757), (4647, 0.0), (4648, 0.0), (4649, 0.00289107598631227), (4650, 0.003627972806278397), (4651, 0.0), (4652, 0.0024062475574022925), (4653, 0.026322534570843), (4654, 0.0), (4655, 0.0), (4656, 0.0), (4657, 0.0033857726977636554), (4658, 0.00853183154367549), (4659, 0.0), (4660, 0.010943395168933206), (4661, 0.007866528512103236), (4662, 0.0), (4663, 0.0), (4664, 0.010570773813384445), (4665, 0.0056795589757242596), (4666, 0.02914713835889914), (4667, 0.0), (4668, 0.0031019201180983165), (4669, 0.009665567489441612), (4670, 0.008500950970004143), (4671, 0.0), (4672, 0.0), (4673, 0.00859541118336431), (4674, 0.007127758187230665), (4675, 0.0), (4676, 0.0), (4677, 0.00896977480536022), (4678, 0.0058528050901076635), (4679, 0.007802131333304685), (4680, 0.0033659145615878567), (4681, 0.0), (4682, 0.0), (4683, 0.0), (4684, 0.005843776307614884), (4685, 0.0030907152590179702), (4686, 0.0031672769005807212), (4687, 0.0030781875266186393), (4688, 0.0), (4689, 0.005225293234863806), (4690, 0.0), (4691, 0.007756552853688506), (4692, 0.003929666079250504), (4693, 0.0030579595260539767), (4694, 0.003698908023950981), (4695, 0.04106960414768822), (4696, 0.004124248972468287), (4697, 0.005322960723449659), (4698, 0.00690897407024241), (4699, 0.01001298905562816), (4700, 0.0), (4701, 0.01057699748586063), (4702, 0.0), (4703, 0.0061375567731253204), (4704, 0.00430066907597357), (4705, 0.004500944456209877), (4706, 0.0034974888859819813), (4707, 0.0), (4708, 0.0056827211659749655), (4709, 0.007783704594116996), (4710, 0.011217631539376553), (4711, 0.0), (4712, 0.0028359155052471194), (4713, 0.0036442685780349224), (4714, 0.0), (4715, 0.008897439819665882), (4716, 0.0), (4717, 0.003717205395478687), (4718, 0.003530677698847601), (4719, 0.0060971408844177725), (4720, 0.0), (4721, 0.026795333846865554), (4722, 0.003412856667778837), (4723, 0.003849060047612683), (4724, 0.010939705785706882), (4725, 0.0), (4726, 0.0), (4727, 0.0), (4728, 0.0), (4729, 0.0030239014538727864), (4730, 0.0), (4731, 0.010047854808126894), (4732, 0.0034336369064246943), (4733, 0.007404808117984914), (4734, 0.0034021081763727836), (4735, 0.010501530492321422), (4736, 0.0), (4737, 0.0), (4738, 0.0), (4739, 0.006419602620452671), (4740, 0.020515939533445517), (4741, 0.0), (4742, 0.0), (4743, 0.0030716492104727396), (4744, 0.0025520078621797115), (4745, 0.0), (4746, 0.00649504933100817), (4747, 0.006590412480601934), (4748, 0.002726452672201153), (4749, 0.004224841315273913), (4750, 0.0), (4751, 0.0), (4752, 0.002254993920911275), (4753, 0.02160938973471127), (4754, 0.0), (4755, 0.015898792183826883), (4756, 0.0032675934550497913), (4757, 0.009319569155574692), (4758, 0.0), (4759, 0.0)]\n"
          ]
        }
      ]
    },
    {
      "cell_type": "code",
      "source": [
        "len(Recommendation_Score)"
      ],
      "metadata": {
        "colab": {
          "base_uri": "https://localhost:8080/"
        },
        "id": "2qQvp8PR0Mql",
        "outputId": "bda1c35a-437f-4926-e310-97d39b7d49d5"
      },
      "execution_count": null,
      "outputs": [
        {
          "output_type": "execute_result",
          "data": {
            "text/plain": [
              "4760"
            ]
          },
          "metadata": {},
          "execution_count": 28
        }
      ]
    },
    {
      "cell_type": "markdown",
      "source": [
        "**Getting all Movies Sort based on Recommmendation Score wrt Favorite Movie**"
      ],
      "metadata": {
        "id": "qIaQiJgb0TUy"
      }
    },
    {
      "cell_type": "code",
      "source": [
        "from re import S\n",
        "# Sorting movie based on their similarity score\n",
        "Sorted_Similar_Movies = sorted(Recommendation_Score, key = lambda x:x[1], reverse = True)\n",
        "print(Sorted_Similar_Movies)"
      ],
      "metadata": {
        "colab": {
          "base_uri": "https://localhost:8080/"
        },
        "id": "azb0wlGf0h70",
        "outputId": "e6c82cae-3b3b-4a02-881f-b69a066f4d5c"
      },
      "execution_count": null,
      "outputs": [
        {
          "output_type": "stream",
          "name": "stdout",
          "text": [
            "[(4579, 1.0), (4637, 0.12750757959189843), (2846, 0.1190343414486153), (3497, 0.1111504513053982), (220, 0.11027697501575928), (1124, 0.10546804230002736), (947, 0.10461217544386185), (4623, 0.10393147637971027), (4600, 0.10215571243638373), (4394, 0.10094773956679774), (3580, 0.09658460257724419), (1920, 0.09406069717205463), (3614, 0.0920795563872056), (1121, 0.08998605011932223), (4013, 0.08947015256875611), (2521, 0.08941168487152888), (2623, 0.08654916780009488), (1495, 0.08594862386263173), (3317, 0.08533180508478856), (4513, 0.08285654430626863), (3232, 0.08180703683381087), (3105, 0.08078243597085592), (584, 0.08024469974287311), (4312, 0.07993842493090918), (4068, 0.07878710760185004), (4265, 0.0787425240700073), (2321, 0.07854704665555264), (192, 0.07768423632856922), (4161, 0.07727001232044729), (2940, 0.07676995391582019), (4484, 0.07630150950945043), (564, 0.07524789237878768), (2083, 0.07516642903839096), (3554, 0.07513189971493364), (2947, 0.07507359443223537), (451, 0.07472524354915779), (560, 0.07462887143831934), (3416, 0.07433422374730243), (3461, 0.07320562280978897), (1533, 0.07285849848955395), (2277, 0.07280859325062229), (1406, 0.0727177358109229), (4244, 0.07212220212809102), (1099, 0.07188500641949744), (590, 0.07147680085004018), (2206, 0.0711182747178975), (3120, 0.07078099711851339), (3723, 0.07021771002852374), (661, 0.0697975340474585), (2815, 0.06908266071263076), (1068, 0.06880865626739527), (2551, 0.06860466942678868), (984, 0.0683208156893705), (3898, 0.0682717028153073), (4343, 0.06804425276460696), (2406, 0.06803491320041241), (1419, 0.0678728549647468), (2023, 0.06763768904799596), (1128, 0.06729460928828078), (355, 0.06622992523887453), (333, 0.06618078391406422), (953, 0.06616634629058632), (3155, 0.06565980169099525), (3266, 0.06531847081771083), (3460, 0.06523317823836218), (4102, 0.06395016446327412), (1458, 0.06297345543686697), (494, 0.062350522961773396), (4162, 0.06093902536473221), (693, 0.059029162284190584), (4629, 0.05851571552342027), (4470, 0.05783131900856634), (2067, 0.057572360888655943), (757, 0.05737312274974184), (922, 0.05650803407722113), (2108, 0.055903048122196), (2961, 0.05521341319160462), (898, 0.05387622933666649), (3987, 0.05364393828270953), (3368, 0.05279951881631785), (2126, 0.05194238617405568), (604, 0.05158824671188656), (2205, 0.05062142200891836), (940, 0.050267538107419074), (2724, 0.04984412499742283), (3338, 0.04932628153084422), (3960, 0.04833416291601592), (3196, 0.047808129164516405), (2392, 0.04751544451131075), (371, 0.046914459245303526), (2291, 0.04633244060643722), (1267, 0.04564607871766005), (3623, 0.04544509624718875), (2667, 0.04529860622178865), (3309, 0.04508904878194661), (484, 0.04500506526515373), (4205, 0.04498740915862564), (4121, 0.04491044698662388), (424, 0.04483409361572825), (425, 0.044795195053029174), (2476, 0.04431146677273602), (4500, 0.04393307828227105), (4098, 0.043702153006813835), (3604, 0.04336998497584413), (1138, 0.043127675499835885), (1335, 0.04305891799498736), (4050, 0.04304828427114705), (4503, 0.042998028404762224), (3653, 0.04293346034899939), (4109, 0.042724563753133216), (4436, 0.04257870864948811), (1952, 0.042520002889899516), (3263, 0.04245410949290236), (4595, 0.04244347233286436), (2625, 0.04210329116774111), (1257, 0.04201231069530156), (2959, 0.04156819214346602), (2283, 0.04152904167510375), (4576, 0.04140997754455178), (2629, 0.04131014163739316), (3274, 0.041290283461199624), (3696, 0.04111562290755518), (4695, 0.04106960414768822), (793, 0.04100795255506934), (3660, 0.04086155224776286), (1403, 0.040101585395509697), (3819, 0.04000789430798146), (3116, 0.039989692887415905), (3087, 0.039874064759579074), (900, 0.03986251512290071), (4528, 0.0397979403191102), (4103, 0.0396999906211223), (4117, 0.039672351883538605), (868, 0.03958438243221471), (794, 0.039328047718411724), (246, 0.03925064559194839), (4597, 0.03911552811148053), (3707, 0.03900841431036477), (3602, 0.038825341034175634), (3973, 0.038745648830569315), (500, 0.0385014987381063), (1475, 0.03847586174353784), (233, 0.0384617362264704), (1570, 0.03827175684659751), (2232, 0.03807215058370993), (2918, 0.03804199490054801), (3469, 0.03780681552109259), (969, 0.03767128905257543), (4334, 0.03761235486150376), (1412, 0.03758373115990882), (1311, 0.037294061565847365), (3526, 0.037242534572922426), (3910, 0.036976721601402945), (426, 0.03693308900083908), (3794, 0.036910473716005275), (3361, 0.036889562799346354), (3665, 0.03630472430796646), (2173, 0.03608614593179772), (2017, 0.035902086217754814), (3719, 0.035768869540810044), (2980, 0.03569062281490602), (4193, 0.035671589497568545), (2642, 0.035559210834322535), (2386, 0.03553180283164018), (4550, 0.035526406353613156), (1609, 0.03547480501745896), (2956, 0.03537591985555922), (755, 0.03536610836566695), (517, 0.034546518658197876), (719, 0.03425156816627413), (4456, 0.03423532958516221), (554, 0.0341250873599767), (312, 0.03399345224663707), (529, 0.0339685160697401), (4485, 0.03365006709051321), (4149, 0.033608880679444036), (3776, 0.03337519846110262), (4074, 0.03274964013250279), (640, 0.03262366158220705), (1842, 0.0325259713153721), (49, 0.03222233290711626), (3418, 0.031539639289640785), (1823, 0.031235444719315695), (2184, 0.031227580309185266), (4411, 0.031176510372948878), (1004, 0.031150575918758982), (2584, 0.030652259740830346), (4571, 0.03011357620328822), (2459, 0.030036502886693003), (1485, 0.029992423109838087), (954, 0.029710871475921392), (1095, 0.029708563250880848), (4353, 0.02931800363088946), (4666, 0.02914713835889914), (4200, 0.02873415736968245), (2, 0.02852426265280855), (3715, 0.02778120610370692), (729, 0.02751815323570815), (3429, 0.02684684316037018), (4721, 0.026795333846865554), (2649, 0.02676904810489262), (1897, 0.026756390977558164), (728, 0.0266162634280046), (4005, 0.026368618623715267), (4653, 0.026322534570843), (493, 0.026201072125367927), (4123, 0.026056221406026484), (2870, 0.025690382439053035), (2988, 0.025451978475407755), (3377, 0.025193065576015868), (1591, 0.024934216408802008), (2284, 0.02481060975517787), (2628, 0.024808459758258218), (1381, 0.024706218003199748), (761, 0.024681128231002616), (1678, 0.02453647308010685), (988, 0.024511074674234502), (1811, 0.024479013487924212), (3499, 0.024242833220494264), (2066, 0.024219496537406307), (4400, 0.024158268303099507), (2910, 0.024144875245596404), (250, 0.02409119765003136), (2614, 0.023995571738322303), (1967, 0.023973445256745808), (3239, 0.023892821894258967), (1030, 0.02388756196008489), (3140, 0.023849769569847593), (87, 0.023822329588040408), (1711, 0.02376498643487592), (4523, 0.023606647161547742), (102, 0.023521128615314805), (303, 0.023362360189077433), (2599, 0.023269233136636366), (3206, 0.02292878557259805), (829, 0.022669427145181678), (1049, 0.02247153757946476), (2803, 0.02245750612049008), (3308, 0.02243579477962132), (4023, 0.022380117406037275), (3507, 0.02231833608361152), (4154, 0.02229887312307544), (3318, 0.02224097379944292), (1000, 0.02219588821565747), (800, 0.022180910479660542), (3191, 0.022164489822860553), (1414, 0.022015339372766403), (1435, 0.022010887231212157), (2987, 0.021878194512006538), (3520, 0.021794734356410758), (2617, 0.021757052033917285), (4753, 0.02160938973471127), (1455, 0.021503217597229493), (3013, 0.021378256217383335), (2847, 0.02125627716029377), (3161, 0.02123909462257203), (1937, 0.021147404397228613), (1215, 0.021123005064673923), (927, 0.021118042762000536), (1696, 0.021111680780112514), (4344, 0.021094665652381512), (244, 0.021061510446796793), (4113, 0.021049047175077405), (4095, 0.020942705219677553), (2483, 0.02084080310288462), (2375, 0.020819525918110426), (3156, 0.02073603668596309), (4130, 0.020713326546126242), (318, 0.020710272344183035), (342, 0.02064447284620084), (3605, 0.020581554166923758), (4740, 0.020515939533445517), (3893, 0.020472754875603693), (2494, 0.02043183056554424), (1428, 0.020408520588629773), (3957, 0.02034037065508698), (1324, 0.02021513683263441), (826, 0.02021107874798987), (4169, 0.02018686555497961), (1234, 0.020067827124079257), (2455, 0.020058062615025022), (193, 0.020036720040503525), (2878, 0.019976876649884952), (2394, 0.019968732113765198), (3578, 0.01994627727160804), (890, 0.019764654917748082), (2601, 0.019763956425015806), (1513, 0.01974131192558682), (2405, 0.01971021961705103), (1281, 0.019650408054412944), (4562, 0.019631818653058013), (4122, 0.019626087276924182), (3517, 0.019622013914721348), (1840, 0.019588593768462996), (377, 0.019526015246826112), (2048, 0.01950541665517283), (1809, 0.01945713952756494), (3606, 0.019322482990852714), (2073, 0.01931422680870308), (2397, 0.0192737554031041), (1087, 0.01926657661307266), (2927, 0.019150240660813486), (4604, 0.019053366651921394), (4435, 0.019041412168993174), (3564, 0.019024528346501986), (4408, 0.018973308245196323), (2195, 0.01890103385659788), (79, 0.018891910586470433), (1612, 0.018871242248455145), (4190, 0.018847223708521658), (346, 0.01883094922932479), (400, 0.018777005206668588), (2060, 0.018758570601069224), (973, 0.01867080580580341), (282, 0.018669704427307313), (4426, 0.018576472483641426), (2087, 0.018535414631402233), (234, 0.018529237829374733), (2553, 0.018475498933389484), (4031, 0.018473348535303805), (3256, 0.018421450439314275), (4192, 0.01835135559984253), (3348, 0.018340014126464278), (541, 0.018330394206633363), (1471, 0.018299840962110212), (1027, 0.018121561572522416), (854, 0.018085952622308277), (38, 0.01805969333167157), (4288, 0.018057841612034945), (3784, 0.018038199059096503), (3691, 0.018032758418107715), (2357, 0.01794033356804818), (2518, 0.01783995869163056), (154, 0.017788534017313496), (1372, 0.017777193222010785), (40, 0.017726964981943007), (4185, 0.017721282519586587), (2552, 0.017717983464511162), (1206, 0.017715664537446177), (471, 0.0176975008116297), (2862, 0.017661335409844783), (895, 0.017655872375099156), (410, 0.01763090429334324), (1641, 0.017573655503085525), (1371, 0.017554318154335082), (3389, 0.017429385158113098), (907, 0.017427553656617356), (2347, 0.017421065519799748), (121, 0.017417571971555166), (982, 0.017383863420122325), (1782, 0.017332799013241525), (3816, 0.01730602286789331), (759, 0.017254326560968786), (2898, 0.017221219289205367), (2604, 0.01719783787309718), (3202, 0.017181854822951054), (146, 0.01704612514941377), (2451, 0.01697258427766834), (917, 0.016962901605550675), (3795, 0.01695220276875862), (4094, 0.016936025775781446), (2588, 0.016926842988128403), (4347, 0.01691066046704874), (132, 0.016801400706573558), (1251, 0.016769652428713776), (3724, 0.01675627662352456), (2047, 0.016746334159750458), (4613, 0.01672914674649801), (1401, 0.01668710489703493), (605, 0.016675328647049972), (2217, 0.01654374154692905), (3415, 0.016538824995289976), (2380, 0.01652970387960033), (3310, 0.016485791383299673), (516, 0.016472377880340304), (1764, 0.016426953089025823), (3229, 0.016412480089377086), (4008, 0.016400442257362344), (3549, 0.01634334902811499), (4628, 0.0163110588742737), (2519, 0.01630063773799459), (3209, 0.01616198595149171), (432, 0.01612194638619966), (1386, 0.016066174926683417), (2487, 0.016015528236369623), (4214, 0.01600699970250874), (547, 0.01597776785962933), (3245, 0.01596677484115902), (4300, 0.01592644294082129), (1801, 0.015915255414157357), (3494, 0.015904349240774922), (4755, 0.015898792183826883), (3325, 0.015855735951584057), (2793, 0.015849600350465474), (3926, 0.015828311599702948), (3982, 0.01579895638680447), (2046, 0.01578321868137767), (1253, 0.015582380942476798), (1241, 0.015579193146555315), (1097, 0.015498052290529647), (1130, 0.015485166944906134), (3585, 0.015402339857170341), (2677, 0.015397158490979635), (3410, 0.015250031825841875), (390, 0.015209881404122228), (1293, 0.015189336707466425), (1118, 0.01518389003290149), (3959, 0.015122789494124147), (1526, 0.01510138366423767), (2620, 0.015079610238726605), (1700, 0.015060679502481102), (713, 0.015045249929707804), (2631, 0.015007258965737957), (171, 0.015000682512706618), (819, 0.014978323012557372), (1787, 0.014967477751730126), (3023, 0.01495144690617783), (2202, 0.014887668713230693), (3121, 0.014758326661497739), (2327, 0.014733761836586912), (1899, 0.014732193652159994), (3114, 0.014609092446883258), (35, 0.014581773610089893), (1354, 0.01457804233479304), (3294, 0.014575538554183332), (409, 0.014549149717341456), (2445, 0.014544928529349944), (689, 0.01452092214345619), (1242, 0.014456654554847471), (2036, 0.014385513860093182), (1288, 0.014378481385266269), (2033, 0.014374480353516364), (2636, 0.014227718142741784), (2550, 0.014171172805972524), (4237, 0.014069010977015572), (2608, 0.013841205757330185), (4532, 0.013833203071174334), (2555, 0.013671691374293742), (394, 0.01350520822333358), (2204, 0.013396235254810804), (1639, 0.013378183258589022), (2114, 0.013304169543721989), (1919, 0.013245604721209222), (3222, 0.013175944065930778), (538, 0.01303573478767553), (1296, 0.012988440435588916), (319, 0.012948406265482751), (2364, 0.012705857268183915), (2768, 0.012615093719678009), (3679, 0.012034900892325485), (3635, 0.011998456830813792), (1442, 0.011902566404655427), (2655, 0.011760756898786182), (2932, 0.011733576448976313), (2075, 0.011628316004496441), (4444, 0.011625165150382259), (4546, 0.011471272645609858), (2255, 0.011449654580306555), (2645, 0.011421117001196022), (2154, 0.011367365530613318), (4403, 0.01131128633050315), (3828, 0.011223620982512766), (4710, 0.011217631539376553), (2795, 0.011207394899315163), (3638, 0.011064542419496825), (4612, 0.01104796993743225), (1900, 0.011026472760435332), (4242, 0.011025084369190565), (4660, 0.010943395168933206), (4724, 0.010939705785706882), (670, 0.010936869158495555), (3521, 0.010933018944364797), (4443, 0.010871513201407824), (3154, 0.010861952207713344), (2188, 0.01083066553239994), (3123, 0.010824765775910444), (2879, 0.010807817070265766), (3228, 0.010769913525227525), (1064, 0.01075181285734491), (2778, 0.01073087300074321), (3901, 0.01070270465978672), (1429, 0.010668764684029313), (2841, 0.010585211048402644), (3766, 0.010583174634843028), (3675, 0.010578839971683565), (4701, 0.01057699748586063), (4664, 0.010570773813384445), (4554, 0.01054916113976933), (4490, 0.010524533333257006), (4735, 0.010501530492321422), (2089, 0.010427983031697414), (1968, 0.010421979074899543), (4412, 0.010395787984503507), (3275, 0.01037254013267276), (937, 0.010368358366334467), (3019, 0.01033108164880556), (2427, 0.01030840377437928), (3450, 0.010306878850903155), (4163, 0.010288997137579092), (860, 0.010282395095414232), (443, 0.010264608460625298), (1275, 0.010239920269015029), (1924, 0.010138657101617689), (876, 0.01012952550036538), (1184, 0.01012434424071414), (3661, 0.010121378844166432), (3883, 0.010115951467131627), (2638, 0.010083284679311272), (107, 0.010065188128100507), (2881, 0.010050996163098258), (4731, 0.010047854808126894), (3043, 0.010046346984635551), (4092, 0.010042981165645183), (3680, 0.010035376627042712), (4494, 0.010025643190586514), (1148, 0.010019948119057565), (1383, 0.010017839064945135), (4699, 0.01001298905562816), (533, 0.009981631843907367), (1489, 0.009972010449297717), (1716, 0.009952730728018765), (2903, 0.009952198475825732), (3012, 0.009949704785076475), (3032, 0.009933504649959218), (436, 0.009929092462270344), (701, 0.009906446999356128), (458, 0.009902268071560484), (2840, 0.009897929868153695), (3640, 0.009897173020553604), (4593, 0.009868215260408951), (1498, 0.009866275477945281), (2854, 0.0098560359470284), (888, 0.00983567287702507), (4531, 0.009835092742401729), (688, 0.009830956449944089), (1960, 0.009825820111763658), (3797, 0.009820527195509816), (2040, 0.009804279806241711), (967, 0.009797993482684479), (3961, 0.009795320145611486), (2112, 0.00979502059435685), (2428, 0.00979381989938037), (48, 0.009778418904197783), (2996, 0.009766397191901203), (1454, 0.0097475298434186), (450, 0.009737934624110153), (4046, 0.009728900406638905), (4601, 0.009713584221643777), (2229, 0.009698393070802083), (896, 0.009694791885590463), (1866, 0.009690319267266607), (673, 0.009684450402116403), (675, 0.009678010887715478), (4133, 0.00967670405203623), (4116, 0.009675269783151074), (2037, 0.009671448739156829), (4522, 0.009671255980325037), (4669, 0.009665567489441612), (350, 0.009661365481113921), (3516, 0.009651686633658892), (481, 0.009651133804308747), (2214, 0.009649091689739478), (1997, 0.00964188895178467), (3642, 0.009623463136433785), (1325, 0.009618953751983612), (3771, 0.00961224098208593), (3694, 0.009604297665808758), (952, 0.009593279295512638), (1015, 0.00959313570254012), (3704, 0.009590305004179017), (2477, 0.00958826603384358), (3086, 0.00958687980186916), (210, 0.009564530342126934), (3899, 0.00956293854681803), (3692, 0.009555273009679508), (3112, 0.009542894172357118), (3095, 0.00952768051692199), (991, 0.009526171992591152), (2254, 0.009523235813718209), (1140, 0.009502192175761788), (1537, 0.009501361837665943), (4431, 0.009490788929028948), (21, 0.009490310816757594), (4038, 0.009487634506316182), (1141, 0.009483978548583457), (2949, 0.00948224983564589), (2104, 0.009477734991987286), (3780, 0.009475555254521711), (1119, 0.009475053767841341), (1071, 0.009470505853761784), (4231, 0.009466770856073357), (2096, 0.009459111941848765), (2522, 0.0094582459099167), (1779, 0.009448420507642082), (622, 0.009429958228908988), (208, 0.009421775524013064), (930, 0.009419549857398452), (68, 0.009411910337167434), (1687, 0.009409391008539568), (3618, 0.009406900408823223), (3483, 0.009396258951143318), (1853, 0.009393585714709746), (2714, 0.00939224702067633), (1484, 0.00938748972522593), (2196, 0.009384799905456905), (3777, 0.00937655254218778), (1918, 0.009373999244098362), (1225, 0.009362136847808365), (470, 0.00935984062711032), (1400, 0.009354753121527573), (4474, 0.009344181015893141), (51, 0.00933706285441229), (1902, 0.009328067151952137), (4757, 0.009319569155574692), (4178, 0.009318445976214547), (1643, 0.009317001331280451), (1188, 0.009314739080882775), (716, 0.00930617472011066), (4624, 0.009305984072730844), (429, 0.009300761789017281), (1192, 0.009298092901767068), (2088, 0.009297918778876712), (255, 0.009293120710596433), (4430, 0.009291577789637347), (845, 0.00929082774164121), (502, 0.009290660614879641), (3437, 0.009290479666392217), (580, 0.009273541127672974), (660, 0.009270171471897307), (3862, 0.00926853244524815), (1229, 0.009264979001276893), (3514, 0.00926472373283877), (1224, 0.009263860158883423), (482, 0.009262990699630904), (879, 0.009258671417019786), (543, 0.009242956417650158), (1983, 0.009242685070900834), (4089, 0.00924037485247412), (34, 0.009234575769500274), (1083, 0.009233594524392659), (447, 0.009215067719762089), (3666, 0.009214549396257515), (3349, 0.009207171539068793), (4379, 0.009194872577953818), (637, 0.009189980287251695), (980, 0.009172071879636687), (2919, 0.009167870321925162), (3945, 0.0091668995722492), (606, 0.009164063302781002), (2053, 0.009162257230790987), (1629, 0.00916072291865431), (4249, 0.009156678907716907), (3153, 0.009138461163370913), (2334, 0.009134324480151845), (2668, 0.009131248966913974), (3233, 0.009129769498655953), (743, 0.009119406229262756), (509, 0.009101021119520384), (4533, 0.009082610495174582), (4189, 0.009077667133825788), (652, 0.00907729699117769), (3571, 0.00907474181919204), (1174, 0.00907245072194755), (2784, 0.009070802914248022), (1931, 0.009067275856900042), (3699, 0.009064419677076004), (1337, 0.009056526717025587), (406, 0.00905439898588727), (1740, 0.009052935887290666), (238, 0.009051408873629688), (4283, 0.009046214658859787), (750, 0.009041167711398533), (3303, 0.009031071899383448), (1942, 0.0090289143046523), (832, 0.009023490904612397), (2210, 0.00902300574766371), (3501, 0.009020904697199048), (2045, 0.009019013213967404), (2295, 0.00901564079230151), (1413, 0.009006592710706309), (4004, 0.009000008350087092), (2091, 0.008998065639060226), (4255, 0.00899632205053474), (2374, 0.00899402152119319), (2061, 0.008988583689889924), (2647, 0.008988390638797703), (1472, 0.008977721788406298), (4677, 0.00896977480536022), (1985, 0.008967473651253744), (636, 0.008962584037729949), (1510, 0.008959176057604795), (3210, 0.008951653739633882), (3670, 0.008950414211982151), (3227, 0.008948089195021786), (628, 0.008947515184168073), (1232, 0.008943003216611848), (2606, 0.008935835517047715), (696, 0.008932724825903257), (3436, 0.008931603158294091), (4517, 0.00892822531467117), (1876, 0.008925526172011988), (3125, 0.008918379602096934), (1191, 0.00890954465491589), (1223, 0.008908870127398666), (4715, 0.008897439819665882), (1488, 0.008896857592394933), (2344, 0.008892991146626616), (1385, 0.008885705898555234), (2695, 0.00888549215626876), (2558, 0.00887571334723879), (1179, 0.008873314003315255), (986, 0.00886777042563942), (370, 0.008860169484047832), (3330, 0.008844321909129836), (3807, 0.008828013185103767), (3374, 0.008807287080787141), (1483, 0.008805710793051093), (4000, 0.008802616097702182), (3727, 0.00879903170557253), (2174, 0.0087965883696496), (3553, 0.008795484184648537), (1252, 0.00879257121904574), (3624, 0.008792309237637332), (3435, 0.00878828795080785), (534, 0.008765062310656269), (769, 0.008758367920760096), (1621, 0.008748721962572854), (880, 0.008747108260572652), (3195, 0.008733394934475813), (989, 0.008728782253445928), (2069, 0.00871938941294166), (727, 0.008719071262997292), (4284, 0.008707580248676267), (2216, 0.008697530265761661), (4362, 0.008689546054006014), (3185, 0.008689098075666582), (870, 0.00867769401992732), (2632, 0.008665943814866461), (4299, 0.008663429977980424), (4309, 0.008661818644588754), (1653, 0.008654182962574803), (4387, 0.00865333981396815), (799, 0.008651327870554934), (2008, 0.00863044457379272), (1017, 0.008625881819691365), (1035, 0.008621400345602053), (3370, 0.00861424160374398), (329, 0.008608997658505348), (676, 0.008603664076471541), (643, 0.008599671636317186), (2808, 0.008599269883255642), (1044, 0.008596959868022013), (4673, 0.00859541118336431), (1671, 0.008592067428087841), (1481, 0.008589342923216337), (1421, 0.008555364213939098), (2716, 0.008548141804646518), (923, 0.008546384373636385), (112, 0.008543828266746725), (1864, 0.008535707459391903), (3487, 0.008532582719563087), (4658, 0.00853183154367549), (1248, 0.008526555330279571), (18, 0.00850969369765031), (4670, 0.008500950970004143), (3504, 0.00850023797284722), (1478, 0.008498232276535008), (2024, 0.008498221623091141), (52, 0.008485349285285423), (3498, 0.008479260688163934), (4614, 0.008476767714296873), (3122, 0.008466047389785845), (356, 0.008465038431138005), (3978, 0.00846472517997274), (2540, 0.008458127429433134), (1001, 0.008458123173517204), (2121, 0.00844870352075785), (3035, 0.00844849673116442), (1375, 0.008434769157027682), (1123, 0.008434283256168032), (1132, 0.00843405539990615), (1255, 0.008432174122277338), (644, 0.008430437690603811), (4374, 0.008424059907318418), (2224, 0.008421120822179308), (911, 0.008407598457824171), (4124, 0.008397294031830423), (2598, 0.008396287946976704), (878, 0.008382121813917802), (116, 0.008375830273295267), (3734, 0.008370240425134725), (276, 0.008367708708346149), (1177, 0.00835984681497505), (2348, 0.008359095521845744), (3433, 0.008356206894279782), (31, 0.008346252941102746), (694, 0.00834537468546801), (2899, 0.00834243070753992), (742, 0.008342050282621182), (236, 0.008335999312004426), (1041, 0.008330311456651224), (1665, 0.00830931392028381), (2496, 0.00829925167891989), (963, 0.008295535929128807), (3452, 0.008275331746647175), (1819, 0.008267876889742256), (1555, 0.00826155182696073), (1107, 0.008256945077975274), (1433, 0.008256348942742386), (4591, 0.008253808376100378), (866, 0.008250154122011402), (3342, 0.00824075147209204), (1183, 0.008237345958099093), (463, 0.008224671069811966), (744, 0.00820705199295673), (3854, 0.008206712595390159), (1519, 0.008206559125509029), (4402, 0.00820601506492463), (1760, 0.00820508954634851), (1448, 0.00820014246242533), (1667, 0.008178846161681779), (4282, 0.008169087100119576), (669, 0.008165580262620313), (4176, 0.008160263143605063), (3876, 0.008146250746660777), (1462, 0.008139916766091803), (3284, 0.008127892459453737), (910, 0.008123735223043868), (2324, 0.008123514739612345), (863, 0.008112071941524988), (1065, 0.008111293583948742), (124, 0.008103461276492568), (1796, 0.008097198055172365), (199, 0.008091945864537417), (1675, 0.008084683756169329), (996, 0.008080576018113121), (1360, 0.008076897980845207), (3474, 0.008064008643396924), (1680, 0.008059830027034377), (1892, 0.008058492771630102), (1237, 0.008055944613318862), (1865, 0.008050923010088105), (608, 0.008044525784482982), (968, 0.008039021287755533), (1595, 0.008031198066268315), (3705, 0.008030433070530607), (1964, 0.008022206745834023), (1220, 0.008009861131083415), (2031, 0.00800822683294798), (563, 0.00800236352053213), (581, 0.007997385810889032), (981, 0.00798954838075137), (3974, 0.007987611042211337), (936, 0.007985038778236952), (804, 0.00798196050293069), (4475, 0.007980421089375292), (1739, 0.007979540668689122), (3108, 0.007965106118406014), (2191, 0.00795888523540078), (3841, 0.007958550387231462), (2607, 0.00795465719873734), (3801, 0.007950975659639602), (4590, 0.007946642584230446), (3556, 0.007935005388327004), (2580, 0.007925273298527703), (1934, 0.007924081153376974), (732, 0.007922304837247164), (1009, 0.007872841624153214), (4661, 0.007866528512103236), (4134, 0.007858696101204645), (200, 0.007841603058819278), (166, 0.007837599425994952), (519, 0.00783575316237078), (1608, 0.007833411383508954), (808, 0.007823640170903859), (222, 0.0078110219528335165), (4679, 0.007802131333304685), (4709, 0.007783704594116996), (3403, 0.0077750964045355895), (4432, 0.007767652083069111), (3637, 0.007760948734151667), (4691, 0.007756552853688506), (2275, 0.007754854804491102), (2388, 0.0077298727350564814), (653, 0.0077213280865105535), (2621, 0.007720989309094293), (2692, 0.007706345424758964), (2412, 0.007705801948638362), (733, 0.007678496882630089), (147, 0.007677918790971152), (642, 0.007665510625676348), (861, 0.0076420940081744085), (2447, 0.007611466581966974), (1939, 0.007599668141070407), (3721, 0.007596632408957294), (2070, 0.007590807210489442), (1627, 0.00758603075337961), (2981, 0.007581038632117478), (190, 0.007573194582600591), (3065, 0.007537994412981768), (3344, 0.007536818020949233), (2771, 0.007530311919309518), (1202, 0.007527589432711111), (1356, 0.00751130966187682), (1845, 0.007504723883864588), (617, 0.007492691871843456), (3975, 0.007464093232871969), (4537, 0.007454194762297479), (4733, 0.007404808117984914), (2355, 0.007398667897382273), (3331, 0.007397738077231637), (16, 0.007396822577650056), (44, 0.007387421120280513), (2602, 0.00736364928701309), (4219, 0.007361665997981146), (442, 0.007358532468577841), (149, 0.007328476958132938), (4646, 0.007301237554061757), (4464, 0.007281183973035849), (2697, 0.0072652312901700464), (1369, 0.007263551122417629), (433, 0.007259323555933003), (3756, 0.007259206336855473), (4047, 0.007237908141087667), (942, 0.007214707740984934), (3844, 0.007175939127831748), (4208, 0.007165390776911099), (1377, 0.0071588236120216555), (1303, 0.007155174279007078), (2939, 0.0071321567713382005), (2908, 0.0071316295565224345), (1989, 0.007127917094911418), (4674, 0.007127758187230665), (2925, 0.007125337032762289), (3049, 0.007110170009286553), (3471, 0.007056183306017473), (3588, 0.007035778893668453), (2328, 0.007028469781176623), (1058, 0.007018881085461852), (3391, 0.007018434986752147), (842, 0.007002029273653118), (2917, 0.006990100164332769), (3942, 0.006985327304485576), (3744, 0.006969192155464213), (4518, 0.006951588536748842), (3448, 0.006946732732378402), (3502, 0.006931232865667232), (1417, 0.006927423965699802), (4514, 0.006926555701274699), (4698, 0.00690897407024241), (2727, 0.006887598754999143), (853, 0.006861594026737975), (1941, 0.006853880290702605), (571, 0.006842412008961348), (4524, 0.006833571174598327), (266, 0.00682836140282443), (1343, 0.006807412098184875), (512, 0.006806216203891986), (271, 0.006801268249773342), (2567, 0.006795411909018882), (844, 0.006786348817344948), (3535, 0.006780884205553797), (1774, 0.006776093560609606), (2273, 0.0067589195819505905), (4642, 0.006757949887234514), (904, 0.006740907570565156), (562, 0.0067326731021630755), (4285, 0.006720112810095782), (3384, 0.006713524504291893), (1940, 0.006692850807219664), (2468, 0.006690837447582289), (3022, 0.006661970341863267), (3440, 0.006653441394728295), (3741, 0.006651826935763225), (296, 0.006651281829962959), (3312, 0.006651164261789564), (753, 0.006638127799446563), (1815, 0.00662888356450995), (2809, 0.006627248615168868), (905, 0.006624282879705651), (4281, 0.0066184629292911305), (3947, 0.006617527848387999), (3708, 0.0066117942767277855), (4331, 0.006596268892738902), (4747, 0.006590412480601934), (2012, 0.006585552965564459), (4527, 0.006584427976234435), (380, 0.006578583669119271), (760, 0.006569282113871367), (3117, 0.006564764129082717), (125, 0.006555717003822987), (1351, 0.0065447287360772335), (855, 0.006538571784254145), (2486, 0.006538102779353592), (537, 0.0065183564493129275), (1713, 0.006502555946365638), (2181, 0.006499955032804201), (4746, 0.00649504933100817), (4389, 0.0064881725086495395), (2576, 0.006478346403584794), (4462, 0.006471326072793847), (207, 0.006468128329743026), (89, 0.006456691950343749), (3168, 0.006448186020976804), (666, 0.006443881290014354), (3110, 0.006441932408159848), (682, 0.006440388184900895), (2700, 0.006433091169452049), (4307, 0.006429236836914459), (3470, 0.006427655594524692), (4630, 0.006421825510264627), (4739, 0.006419602620452671), (3158, 0.0064182493347185844), (3385, 0.006418088438510666), (4512, 0.006416380462201451), (2683, 0.00641426449709215), (1158, 0.006397845432308399), (1976, 0.00639704794569932), (2440, 0.006394176354435575), (1391, 0.006388679810158648), (4120, 0.0063830969533166925), (4043, 0.006382801180679659), (1332, 0.0063802521159886175), (1962, 0.00637939313087576), (4515, 0.006372215855052001), (3180, 0.006370906478868896), (2383, 0.006367215163712864), (4119, 0.006364650501394694), (2733, 0.006361141784200248), (4337, 0.00635835949141374), (687, 0.006353300650072551), (128, 0.006352763865368542), (2231, 0.006328114378954264), (3652, 0.006327418396580602), (550, 0.006325153382777922), (3387, 0.006323642259822195), (4227, 0.006321564989490532), (1554, 0.0063048475741957965), (2314, 0.0062994970049448755), (595, 0.006297911824723978), (4091, 0.0062921178891654), (69, 0.006287669076608081), (1681, 0.006286929711530036), (875, 0.006285059246990669), (2626, 0.006284809883081419), (1167, 0.006273683284827203), (1799, 0.006271868135139573), (3802, 0.006270363402415883), (3787, 0.006269259738518646), (802, 0.006265814624784137), (831, 0.00626505114985184), (70, 0.006263347601231632), (635, 0.006252022627031285), (4240, 0.006251332464120581), (243, 0.006247950065296688), (1162, 0.0062474963736475), (678, 0.006242801764030976), (3659, 0.006241185134379423), (1829, 0.006233273699486689), (3163, 0.006232879629511385), (2978, 0.006226650276930426), (513, 0.006225001327931946), (542, 0.006223240738772636), (514, 0.0062101015669748065), (3938, 0.006208924890658378), (2136, 0.006206262363984211), (2084, 0.006180070765248884), (1150, 0.006176490902508309), (3468, 0.00617167267244377), (4090, 0.006170628957203954), (2252, 0.006169945947271949), (4076, 0.006169162644916911), (1661, 0.006166609699248442), (341, 0.0061658755579012325), (1724, 0.006165835432621391), (6, 0.006161246616018257), (420, 0.006157677739976679), (3768, 0.006153385992110788), (3584, 0.0061500048387722345), (3451, 0.006137824305289559), (4703, 0.0061375567731253204), (3782, 0.006133889894758415), (3774, 0.006131998191102966), (1575, 0.006131405256765343), (3131, 0.00612655760744561), (992, 0.00612628810831201), (1614, 0.0061260595259920525), (1732, 0.006120388801947771), (3850, 0.006119775903834974), (1812, 0.006117239660384055), (2963, 0.006114284511422839), (3438, 0.006113345526664944), (1659, 0.006103741884642257), (2630, 0.0060990350126101135), (1280, 0.006097797912228586), (4719, 0.0060971408844177725), (1791, 0.006096362674499144), (3997, 0.006096348212423991), (3710, 0.006087887777803794), (1407, 0.0060855323230591995), (3240, 0.006084235495603629), (2044, 0.006082677239798199), (4510, 0.00607806617006184), (1506, 0.006077403896662876), (239, 0.006074041567628368), (3897, 0.006071461388697688), (2689, 0.006070361661475606), (2208, 0.006069351602508584), (1426, 0.006066985294936262), (2819, 0.006066273040764045), (4384, 0.006065289991783371), (1509, 0.006062635849088015), (1436, 0.0060589920945915594), (418, 0.006057182868079356), (1904, 0.006055988108024694), (2330, 0.006054573298407198), (1452, 0.006052798666676505), (765, 0.006052075686594616), (1531, 0.006050545869954728), (3747, 0.0060482054910517115), (1502, 0.006047221307192676), (1380, 0.0060393140726225265), (1859, 0.006038294664521203), (976, 0.0060356857302638345), (654, 0.006035504838464486), (1185, 0.006033098916237366), (891, 0.00603207833197091), (1975, 0.006031665748147841), (4392, 0.006029951789035196), (1449, 0.006028575313824912), (1104, 0.00602736720942239), (3334, 0.006025032067961616), (2790, 0.00602090591724921), (667, 0.006020543715043206), (523, 0.006019657195130139), (2413, 0.006006735701613922), (320, 0.006003360353796291), (3513, 0.0059997619855055705), (4639, 0.005992096228095155), (1881, 0.005989525834848067), (1396, 0.005988610040883096), (3769, 0.005987454889126989), (4621, 0.005983970550168848), (1588, 0.005983380429978781), (2015, 0.005979535978454589), (3134, 0.005976781718147), (928, 0.005975859972171307), (1019, 0.005974654194591829), (201, 0.005974595067412107), (3488, 0.005969988250167439), (1047, 0.005966313060415938), (1432, 0.005964973262528383), (1024, 0.005964292474511116), (4466, 0.005962908358696655), (4586, 0.005962902476359208), (27, 0.005948498795427093), (3849, 0.00594775592876487), (3124, 0.005945337453152861), (3907, 0.005941172798629931), (4275, 0.005937457625982562), (3995, 0.005937007484230518), (1949, 0.005936738848585513), (4552, 0.00593564428953303), (313, 0.005934618158694482), (189, 0.005929985816162938), (2780, 0.005929295475686855), (1542, 0.005928889807467043), (1469, 0.00592827438367387), (2944, 0.0059272668911959136), (918, 0.00592615460800693), (1443, 0.0059081317155106955), (3398, 0.005905950966428444), (137, 0.005895701454081787), (95, 0.00589057983933793), (2235, 0.005884305052504291), (685, 0.005882549736329567), (2276, 0.005882144521565837), (3446, 0.005881032737736321), (3179, 0.0058801243852685805), (809, 0.0058789669604047), (4377, 0.005876786919071892), (118, 0.005875718903701381), (902, 0.0058742204659674), (4376, 0.005871048668843464), (4251, 0.005870987274345601), (1901, 0.005868827506599114), (4088, 0.005868465305711114), (1431, 0.005863804357108472), (1003, 0.005853275557038167), (4678, 0.0058528050901076635), (1761, 0.005851970337766337), (1832, 0.005848494716608412), (3486, 0.005846877968126406), (1958, 0.0058451195098190205), (4684, 0.005843776307614884), (3137, 0.005843699314774658), (1266, 0.005842237591175464), (2960, 0.005840583733042702), (3815, 0.005838295346246848), (145, 0.005837719539122109), (3810, 0.005835170942253987), (2421, 0.005834582889178459), (1970, 0.005834499430637891), (2788, 0.005829893200955296), (1587, 0.0058290473271218985), (2443, 0.0058283011119755375), (4380, 0.005827691490140132), (3404, 0.005826238334032922), (919, 0.00581941234690675), (3576, 0.005816038745860972), (3833, 0.005815462445869002), (4375, 0.0058144231194757305), (2278, 0.005809489811730928), (1991, 0.005809189413365257), (1302, 0.005808003434190459), (3932, 0.005807153073971064), (811, 0.005805634849467188), (83, 0.005802930087531026), (2991, 0.005802718679229077), (3908, 0.005801808917695792), (1998, 0.005795556700408966), (3226, 0.005790783023606082), (1930, 0.005788875200937359), (2130, 0.005788571598540971), (3005, 0.005787844864698712), (788, 0.005780913722770323), (30, 0.005770458208698029), (4360, 0.005757010216197748), (2501, 0.005754002640340497), (39, 0.005749965099921983), (4383, 0.005746461137072235), (347, 0.00574585044699092), (2506, 0.005745054420084549), (315, 0.005744072596005355), (1074, 0.005744049995052172), (3367, 0.005735467636615838), (4310, 0.005732261865665691), (1873, 0.005732128129324129), (1566, 0.005731058368513431), (1129, 0.005728622385842484), (849, 0.005722683156175363), (931, 0.005722506931898567), (135, 0.005721535363205437), (305, 0.005720902844669813), (2246, 0.005715700143416716), (241, 0.005712392622894173), (1262, 0.005711196681322669), (4148, 0.00570405279195979), (1420, 0.005703150723384996), (389, 0.005701017296830232), (619, 0.005699920210755998), (460, 0.0056998428306511565), (2336, 0.00569431854316766), (4248, 0.005692548950134119), (3432, 0.00568451220198953), (4708, 0.0056827211659749655), (4665, 0.0056795589757242596), (2480, 0.00567724244401884), (1012, 0.005672826602816929), (2280, 0.005672634079147286), (1226, 0.005668806132420265), (375, 0.005659341563938844), (3443, 0.005648265603622131), (1852, 0.005647037857226666), (467, 0.005644894606960562), (4264, 0.005643117751296131), (1272, 0.005642272923215918), (1573, 0.0056414587880906225), (1927, 0.005641398185830278), (322, 0.005638919025738503), (1857, 0.005637477764350477), (530, 0.005637001385343442), (1127, 0.005636247509641334), (1314, 0.005633218376912515), (3814, 0.005632531313758355), (1292, 0.00563125074101145), (3793, 0.005629613477056042), (1622, 0.005629114856553483), (1551, 0.005628192034990095), (634, 0.005625455035321373), (1082, 0.005624096421829283), (4211, 0.005621241110848268), (1635, 0.005616016884114205), (1773, 0.005610560547128415), (633, 0.0056100028157407495), (84, 0.005606897888822235), (90, 0.0055997373626267884), (4039, 0.005582213559080314), (1933, 0.0055819227139655035), (2759, 0.005579950915171932), (1846, 0.005578452913387955), (2178, 0.0055700052038715996), (4534, 0.005569510724444763), (1953, 0.0055640310690545135), (152, 0.005561088647592592), (3583, 0.005560333210500918), (321, 0.005558145867268075), (273, 0.005557008519795908), (825, 0.0055539027168590785), (72, 0.005553697307681352), (2057, 0.005553465221466227), (790, 0.005550269495980461), (3555, 0.005550063897622813), (2062, 0.005544859883545479), (1146, 0.005536922198717557), (4216, 0.005534064217803375), (1063, 0.005532909452598704), (1347, 0.005531185035669416), (2245, 0.005531002122138267), (3011, 0.00552972384213425), (3720, 0.005526176913589021), (261, 0.005524937537557407), (1493, 0.0055208256824811), (2432, 0.005519716614252672), (3582, 0.005516585482011623), (4543, 0.005515739933672097), (915, 0.005510318050394362), (3664, 0.005504347919773148), (1996, 0.005502290290102975), (310, 0.00550187802121051), (3886, 0.005499513200933064), (138, 0.0054983971351251), (1230, 0.005496464545753707), (1632, 0.005490455602917414), (4438, 0.0054900742399484875), (2680, 0.005489141158553101), (93, 0.005484743703956648), (3126, 0.005484045076816175), (3970, 0.00547692640978022), (1633, 0.005471736839212481), (4481, 0.005471325785301356), (1207, 0.005470746299170809), (3085, 0.005470562599085918), (1993, 0.005467486462626227), (3824, 0.005465561970720859), (284, 0.005461208368776408), (3881, 0.005460962718758049), (4587, 0.0054577568345267665), (2618, 0.0054538666629343445), (2736, 0.005452631540059991), (2711, 0.005448831793712378), (2787, 0.005445193643072877), (144, 0.005441941625564495), (4441, 0.005439751121942519), (3465, 0.005439220726484597), (360, 0.005433686497752381), (1630, 0.005433549878995308), (1631, 0.005433005582616766), (827, 0.005432533728067588), (260, 0.005431496465106337), (2751, 0.005430383681651392), (1211, 0.005426132432898706), (2094, 0.005418938911944711), (4071, 0.005418241451278011), (4151, 0.0054088411132008065), (1054, 0.005407299809369579), (3853, 0.005407096469416313), (4292, 0.005395352977690627), (1181, 0.005391391243357064), (3466, 0.005390934964680387), (1788, 0.005384841047009993), (3823, 0.005384170693646646), (3133, 0.005382507514919991), (1914, 0.005381860945892146), (1707, 0.005379341993063693), (1451, 0.005378940777921591), (1723, 0.005375755571648992), (2139, 0.005374485575526989), (1749, 0.005370928310757772), (4548, 0.005368008757720789), (3135, 0.0053634866828330624), (974, 0.005360696649380786), (468, 0.005358613353673567), (4585, 0.005358343225322328), (3788, 0.00535287367607366), (810, 0.005350175034770127), (1992, 0.005349854383209686), (4328, 0.005349597062736977), (3100, 0.005349123584832876), (2682, 0.0053427265274071595), (3136, 0.0053409208694724436), (3966, 0.005340711265374084), (2992, 0.00533939557647688), (1662, 0.005337159296148782), (690, 0.005327935470874463), (3426, 0.005326984924560618), (2442, 0.005325732692838201), (1430, 0.005324694353390333), (4697, 0.005322960723449659), (1480, 0.0053226287160758464), (46, 0.005322439175389134), (417, 0.005319139652249573), (3143, 0.005318420762362457), (532, 0.005317492997793572), (2742, 0.005316756734168062), (3775, 0.005314149848638039), (3118, 0.005314100374685685), (2119, 0.0053122340093520685), (4325, 0.005311484801748076), (2429, 0.005308276076169162), (316, 0.00530725669254222), (916, 0.00530612181569168), (1562, 0.005304155262865408), (1623, 0.005302712118118826), (240, 0.005300423109796073), (2093, 0.005296138393720637), (3993, 0.005290844862717896), (1789, 0.005287891161806542), (540, 0.005285145006152198), (4165, 0.005280845958718404), (304, 0.005279490134843882), (3079, 0.005277529757691544), (306, 0.005276112102151072), (3711, 0.005276083419584691), (695, 0.0052744386976500204), (1197, 0.005265145283839021), (94, 0.005258744670494785), (2984, 0.005257422866191874), (2110, 0.005254101172631171), (2791, 0.00525176397573366), (4274, 0.005250850029546307), (1270, 0.00524980476595292), (160, 0.005248846161653629), (80, 0.005246982215123412), (4235, 0.005246893310733967), (801, 0.005245559014960061), (4322, 0.005243195861639326), (354, 0.005240453950924797), (397, 0.005235836231674217), (1259, 0.0052339942993035096), (4339, 0.005230923621972805), (4164, 0.005229679875143804), (1568, 0.005225732798292662), (4689, 0.005225293234863806), (291, 0.005219714765925688), (1990, 0.005217131715867693), (511, 0.005215304865123474), (1236, 0.005207812745893744), (1784, 0.00519989491574688), (3534, 0.005198915840704916), (148, 0.005196557818709101), (4044, 0.005195852078953542), (67, 0.00519271025113892), (3860, 0.00519202109049138), (170, 0.005188509153608568), (1173, 0.0051822405286203015), (3247, 0.00517913237476298), (4290, 0.0051684302820023615), (893, 0.005163695450426459), (1134, 0.005161790130072847), (1061, 0.005155347907255694), (334, 0.005152803250898751), (997, 0.005150184687523205), (4366, 0.005148934757691988), (501, 0.005142214285038412), (1817, 0.005139058365564656), (327, 0.005136963379443321), (2678, 0.005126995534838867), (4106, 0.005126827534218164), (323, 0.005122349289452163), (3552, 0.005120036435306588), (932, 0.005119034719377812), (803, 0.005118149891538444), (3070, 0.005115309700140857), (191, 0.005109285841438767), (4582, 0.005107934876210169), (2929, 0.005107298504008757), (1154, 0.0051041654139416855), (559, 0.005101725597612487), (1384, 0.005096613363545668), (3099, 0.0050935447912253615), (3495, 0.005092050346111128), (2871, 0.005091778492135381), (1694, 0.005084311854690327), (47, 0.005082851804005655), (4450, 0.005076244911511316), (979, 0.005063671404123385), (611, 0.005057851753721425), (2074, 0.005055400432887675), (4365, 0.005043893700810018), (2299, 0.005034126794598988), (3160, 0.005030075568370867), (756, 0.005028486284819878), (3619, 0.0050241470195368), (187, 0.005022951597901844), (2820, 0.0050087430060751), (4553, 0.005007213090184263), (4468, 0.004999876853540621), (1925, 0.004998980565779782), (1018, 0.0049936261436616825), (1590, 0.00499275646606006), (3852, 0.0049896058359899685), (1348, 0.004988025138482965), (3178, 0.0049772892328294235), (3684, 0.004969760117821928), (1772, 0.004969215408853555), (4488, 0.004964630344634361), (762, 0.0049635754543010625), (4096, 0.004961084641946502), (1559, 0.004956021128579689), (1699, 0.004954495745957775), (99, 0.004952515309945355), (692, 0.004949350505420231), (629, 0.004944880279453908), (1838, 0.004934976768602335), (3339, 0.004928089283140559), (625, 0.004927953817071432), (1546, 0.0049263458096631225), (1753, 0.004922284071239021), (3129, 0.004919923326027091), (4158, 0.004916907274095527), (2801, 0.004912301674637014), (3279, 0.004906931110847912), (1309, 0.00490100402934006), (779, 0.00489502711262279), (1120, 0.004882189279635423), (1781, 0.0048724403163107706), (3405, 0.00486712712607998), (288, 0.004863134385692886), (2541, 0.004859489526013631), (2622, 0.004858403648009025), (723, 0.004847717851668579), (621, 0.004845083242443339), (2197, 0.004843337732684495), (1300, 0.004842143721020485), (970, 0.004838219870655703), (1910, 0.004837713846041637), (639, 0.004835526404475529), (3674, 0.0048338525201498655), (3806, 0.0048309806751515765), (3512, 0.004827313203122941), (1279, 0.0048213238313997335), (2757, 0.004818378279035788), (3667, 0.004813680870659112), (78, 0.004813577365784501), (314, 0.004800334801234652), (3213, 0.004800206695517735), (3215, 0.0047891221403411266), (3713, 0.0047744209983388046), (1092, 0.004773023486711251), (3484, 0.0047622841047639235), (2789, 0.004759926382719479), (3276, 0.004752159516724891), (4555, 0.004744619674579056), (469, 0.0047324243578310225), (3045, 0.004728955601257429), (2318, 0.004728175108883273), (2998, 0.00472609500340714), (88, 0.004723139374238844), (738, 0.004717451246536601), (1137, 0.0047016059422873135), (2573, 0.0046940357065287045), (1530, 0.0046896473358300945), (3925, 0.004685839657904622), (438, 0.004681426226341988), (290, 0.0046728860723979195), (76, 0.004672482150035938), (295, 0.004670004643019966), (1164, 0.0046563270461935135), (435, 0.00464342703864858), (3944, 0.004616045815541105), (2524, 0.004614355171164021), (3989, 0.004613260720582913), (1395, 0.004609479389187976), (1115, 0.0046013249018544665), (289, 0.004596056064671378), (1576, 0.0045867452118501335), (877, 0.004579469215275352), (4607, 0.004571371651456221), (2529, 0.004569791627136463), (2013, 0.004562533553621028), (294, 0.004559533878241821), (2078, 0.004554293545948376), (2379, 0.004543277766490356), (2490, 0.004537378318966321), (668, 0.0045304228720797046), (1701, 0.004521874352799848), (2937, 0.0045205187413342755), (3523, 0.004512852470220583), (4705, 0.004500944456209877), (2326, 0.004496587057109796), (3051, 0.004490542513376773), (2764, 0.004485046522592576), (3672, 0.0044733601822274675), (2858, 0.004462106982250042), (2137, 0.00446185789828293), (3139, 0.004457094653400799), (4082, 0.00444722166832738), (3946, 0.004440810822104438), (2722, 0.004419371457389047), (2189, 0.004419077323096072), (4202, 0.004401920911842385), (3040, 0.004396357867255177), (2989, 0.004386581907399765), (775, 0.004380941188216282), (2251, 0.004380148808783563), (3166, 0.004366766022856221), (2349, 0.004358804206982991), (1145, 0.004353199610247083), (2407, 0.00435162493155222), (3990, 0.004345262818756687), (2889, 0.004333663291698188), (2537, 0.004318557365584166), (77, 0.004315870101741829), (3119, 0.004315846602723543), (4617, 0.004305589453490205), (4704, 0.00430066907597357), (3052, 0.004299955874546325), (735, 0.004298714221685816), (332, 0.004287782863823382), (3055, 0.004283740862196726), (2404, 0.004281839666667456), (2775, 0.004273718697913994), (4017, 0.004271990048406363), (1276, 0.004271251415002784), (3561, 0.004267549342565252), (3042, 0.004265456226316935), (3030, 0.00426470726000109), (627, 0.004262767490926215), (2883, 0.004260114867717518), (2923, 0.0042416249046797645), (3291, 0.004230480422995563), (2731, 0.00422570204340216), (4749, 0.004224841315273913), (4222, 0.004222032532031753), (4529, 0.004220938038536712), (2484, 0.004209203871129173), (2310, 0.004209071117617504), (4221, 0.004208986284272138), (3479, 0.004204188585462415), (4611, 0.00419612845802535), (2694, 0.004193422689859921), (3939, 0.004192887261373204), (2673, 0.004187808202338858), (2861, 0.0041727191062471275), (1210, 0.004164046756091025), (4172, 0.004161818258914822), (2559, 0.004138369530715967), (3878, 0.004137554416052558), (4418, 0.00413456003843966), (2832, 0.004131389533448772), (4696, 0.004124248972468287), (3076, 0.00411996368379985), (4407, 0.004117775069471761), (3219, 0.004114068706852498), (2448, 0.0041113085955104935), (3292, 0.0041095664437800754), (3762, 0.004101300173670524), (2199, 0.004097922130863271), (3892, 0.004092399329969569), (3282, 0.004082611404814545), (4423, 0.00408219927718664), (4019, 0.00408093952258808), (2425, 0.004080031661358646), (2643, 0.004071429437807975), (2257, 0.004053103377820189), (3322, 0.004051624088808634), (889, 0.004051481285896228), (3262, 0.004050665092974172), (2350, 0.004045272865595654), (2901, 0.00404185570350282), (4230, 0.004033660979048503), (4142, 0.004024837230204105), (2838, 0.004023179957542973), (2286, 0.004023121123950273), (1153, 0.0040150453988111404), (1208, 0.004013523764011313), (2530, 0.004001189446573077), (3848, 0.003993940400574862), (3015, 0.003989227542161139), (4606, 0.003985466745695644), (2306, 0.003982935302960653), (3128, 0.0039683482712566925), (2423, 0.003967365417020605), (3354, 0.003963477823195964), (526, 0.003958663899137161), (3249, 0.00393734886139961), (4469, 0.003933329280339099), (3687, 0.003931989124659907), (4692, 0.003929666079250504), (4521, 0.003929393411321752), (4544, 0.003927182551554136), (3363, 0.003926162935509129), (3616, 0.003914769331423095), (3357, 0.003913099758762308), (3456, 0.003910995988053838), (2834, 0.0039056101921189548), (3537, 0.0039047188552215617), (2557, 0.003904342405043832), (2438, 0.0038993672021401), (3159, 0.003896227351100436), (4306, 0.0038920447378136243), (3577, 0.003890511332472563), (4107, 0.003887219498895994), (3922, 0.003886227667444552), (2857, 0.0038859545573238768), (3613, 0.0038829532674383997), (3004, 0.003877474496844885), (2266, 0.003876297337930905), (3999, 0.0038762854678143317), (4572, 0.0038636219352431336), (3074, 0.003862358694927012), (4298, 0.0038621151128294144), (4209, 0.003857602344666074), (326, 0.0038553068851225453), (2797, 0.003853221055979728), (2957, 0.0038513583003608404), (2568, 0.0038502124933160763), (3874, 0.0038495940064814634), (4723, 0.003849060047612683), (2488, 0.0038473052482322703), (3031, 0.0038455524514585237), (3832, 0.0038431525053891184), (2848, 0.0038426363530752313), (402, 0.003837704992214619), (3302, 0.0038356503716683358), (3620, 0.0038333991340296727), (4147, 0.0038332007072813374), (3544, 0.00383202527146997), (1655, 0.0038293903938965827), (2966, 0.003826970481398845), (3358, 0.0038218936022293374), (3020, 0.0038217435015590042), (2415, 0.0038199796575297687), (1593, 0.003815086556565502), (4062, 0.003812980487067487), (3779, 0.00380141697431018), (2454, 0.0038014038957045956), (2993, 0.0037970882703169295), (3257, 0.0037932851206729785), (1264, 0.0037921035618910413), (2619, 0.0037910789681317616), (777, 0.003783645623604965), (3413, 0.003781225645521242), (1168, 0.003780311109094561), (2895, 0.0037681643373392018), (489, 0.0037658968510608723), (2434, 0.003763476660355529), (3911, 0.0037616974660028553), (4458, 0.003754579377218282), (949, 0.003744522376986604), (4280, 0.0037309075758976667), (2772, 0.0037291440642658663), (2986, 0.0037236936217632266), (4717, 0.003717205395478687), (2769, 0.0037157712519511046), (2738, 0.00371507117270118), (431, 0.003712613184842073), (4632, 0.0037114145847846063), (3763, 0.0037101071995968987), (3935, 0.003709545707145668), (2613, 0.0037087065605391073), (4594, 0.0037080258115502742), (4416, 0.0037056033397058455), (2570, 0.003705197381755919), (3081, 0.003704865428168751), (2378, 0.0037048199609189627), (3621, 0.0037043764078792396), (3524, 0.00370389476461828), (3745, 0.003703223772960247), (1053, 0.003702759144276118), (4584, 0.003701031308854729), (4633, 0.003699691953463065), (1792, 0.0036995467876806878), (4694, 0.003698908023950981), (1187, 0.003698698299324692), (4145, 0.0036979752138311898), (2707, 0.0036947743861591303), (518, 0.0036905922528312632), (2720, 0.0036896284876722515), (1885, 0.0036886078228991694), (2417, 0.003685939847753087), (1748, 0.0036857592600082934), (4030, 0.003684720561614489), (4589, 0.003684702196577902), (1169, 0.003684396123984387), (3094, 0.0036835180988840557), (4477, 0.003677862759666204), (4032, 0.0036733706718915567), (4075, 0.0036733019985578305), (3951, 0.00367327104777827), (3540, 0.0036717434163276857), (2142, 0.0036715655460442358), (1547, 0.0036665465354161933), (3359, 0.0036636467470119007), (4126, 0.003663240441702054), (2544, 0.0036629582571454477), (3884, 0.003662739236756794), (2320, 0.0036597194923118424), (2696, 0.003659525415343584), (3072, 0.0036589156898986525), (3307, 0.003656811361708778), (4002, 0.0036559900544371996), (1947, 0.0036545061954232987), (2269, 0.0036537111357722793), (2924, 0.0036509630934950864), (3754, 0.003650868007632218), (4203, 0.003649090237211889), (3729, 0.00364834898578675), (3425, 0.0036476690385634294), (1398, 0.0036442760706676593), (4713, 0.0036442685780349224), (3408, 0.0036405218226522942), (4398, 0.003637683668511881), (3230, 0.0036344268726902457), (3364, 0.0036341804486326595), (2884, 0.0036340942044329554), (448, 0.0036336662387851724), (3419, 0.003632989275745975), (3337, 0.0036324023013225974), (3396, 0.0036311527669910383), (3506, 0.0036308257874349383), (3866, 0.003628771036003063), (823, 0.0036286437998629714), (2403, 0.0036283429482989378), (4650, 0.003627972806278397), (2872, 0.0036237436060309017), (4369, 0.003621805112847208), (3355, 0.0036217663037051303), (925, 0.0036197693216904335), (508, 0.0036197593884153213), (4507, 0.0036159280405736616), (3165, 0.003615815665481036), (4267, 0.003614852220029891), (274, 0.0036146361058961413), (2478, 0.0036139077865205366), (2560, 0.0036131051546971016), (2187, 0.0036130265715759078), (614, 0.0036119673662203984), (3952, 0.0036101735052972987), (847, 0.0036100106790962006), (4516, 0.0036099085028682564), (1656, 0.003609249081384561), (4465, 0.003607940219382853), (721, 0.003607036364847129), (3903, 0.0036058706194291583), (3639, 0.0036028892478220434), (2796, 0.0036026877019741926), (3423, 0.003602114638130902), (3651, 0.003601283449971529), (985, 0.003601175170527644), (2702, 0.0035980369932039407), (4295, 0.003594278908489145), (1497, 0.0035928119013646635), (739, 0.003592248973124054), (4243, 0.0035838474276344177), (3772, 0.0035825102862997046), (3296, 0.003580527011457721), (2223, 0.0035793962289794386), (2346, 0.003579343442166956), (3611, 0.003576930546364955), (2051, 0.0035767301944562035), (3867, 0.003576238652732411), (2302, 0.003575670368198624), (2437, 0.003573228443709228), (1909, 0.003573189775517806), (4187, 0.00357201324680502), (1843, 0.003570591034073457), (2893, 0.0035699937275658206), (3186, 0.0035695018953922487), (998, 0.0035687695610410785), (1887, 0.0035675276657659042), (999, 0.003565848771884873), (2411, 0.00356469352706629), (3148, 0.003564308048861813), (2936, 0.0035636564297852544), (478, 0.0035628269143535064), (2400, 0.0035606502825517084), (2914, 0.0035602739921167903), (3992, 0.003558522421932158), (683, 0.003553955960047009), (281, 0.0035538668826556796), (235, 0.0035532625743822975), (737, 0.0035507041695158606), (576, 0.003548788236054071), (1349, 0.003547086445574266), (3587, 0.0035462230041293547), (419, 0.003545571554336611), (2740, 0.0035445398202512057), (3373, 0.003543234455638911), (4368, 0.003543010087025864), (4333, 0.003542378934974966), (1023, 0.0035386629813937503), (3560, 0.0035371641591994364), (813, 0.003535746494962522), (3962, 0.003535620842176816), (3822, 0.0035347449219388463), (2974, 0.003534451211979305), (4718, 0.003530677698847601), (4160, 0.0035295969352250206), (2579, 0.0035286858970713), (596, 0.0035272750317420433), (2916, 0.0035262042259257987), (1862, 0.0035257259639156586), (1594, 0.0035246690872362016), (1499, 0.0035240456168511482), (3414, 0.0035239462824560273), (4535, 0.0035235555925126885), (1858, 0.0035225554080684333), (4396, 0.003522101518955323), (3146, 0.0035212869866318606), (2134, 0.0035212615527240917), (308, 0.003520289074969329), (2356, 0.0035192072847159686), (2436, 0.003518509204847264), (4401, 0.003517256276709562), (3737, 0.003515224736371828), (3593, 0.003514209244835772), (4293, 0.003512878114291238), (4051, 0.003512155514434827), (3804, 0.003511721637394466), (3248, 0.003510924679799777), (1474, 0.0035107805065469734), (444, 0.003507652140187531), (3877, 0.00350505492899721), (3273, 0.0035047655693673887), (2209, 0.003504741673176185), (2585, 0.0035044994899799133), (2782, 0.00350433542626698), (3157, 0.0035039848168518773), (2830, 0.0035036256436795426), (4397, 0.0035035875741772455), (41, 0.0035029383905479956), (4706, 0.0034974888859819813), (3003, 0.0034971202409961153), (4605, 0.0034968366186271466), (4259, 0.0034967954925122966), (3857, 0.003496562245664935), (1923, 0.0034962449959778596), (2505, 0.0034961650294904217), (1890, 0.003493147098025957), (1109, 0.0034907645023665164), (3062, 0.0034901587922471903), (4138, 0.0034894264449612583), (2535, 0.0034891727743245403), (1658, 0.003485353914591263), (2592, 0.0034851320068875766), (4551, 0.003483963370226769), (3967, 0.0034800783630228867), (3026, 0.0034781181922195433), (3101, 0.0034780062541548105), (4042, 0.0034770043984659856), (857, 0.0034763711623138766), (62, 0.003475658635070324), (2176, 0.0034752300306741648), (715, 0.0034738855068983786), (1580, 0.0034737913521412996), (2890, 0.003473767821925916), (4619, 0.00347339028977991), (2159, 0.0034713868956500046), (3097, 0.0034713171401895993), (2049, 0.003470590234765753), (254, 0.0034698346285957685), (1754, 0.003467899823502756), (4263, 0.0034673304766374316), (3417, 0.0034672486793286762), (587, 0.003462206092036258), (3924, 0.0034605615703660864), (476, 0.0034556729653107228), (3677, 0.0034555965864399825), (2739, 0.0034547449257298288), (4602, 0.003453963323927291), (2410, 0.003453542835283322), (4446, 0.003453397754083193), (1479, 0.0034527794545894915), (2464, 0.003452608251126339), (4308, 0.0034523204917455046), (1733, 0.0034517464891162274), (2390, 0.003451092839156232), (3183, 0.0034473005034895247), (4048, 0.0034463289777221877), (2624, 0.003444684401023535), (123, 0.0034442459774690487), (253, 0.0034418687462286395), (3234, 0.0034410326550118283), (3714, 0.0034409603753586416), (1043, 0.0034402058684345938), (4140, 0.00343964969276823), (4101, 0.003435972165554579), (3813, 0.003434884769341709), (1243, 0.0034336908382304227), (4732, 0.0034336369064246943), (3749, 0.003432458493614837), (1905, 0.0034321382274331647), (3044, 0.003431553620790408), (2293, 0.0034314783949926067), (1805, 0.0034298958044748713), (499, 0.0034259570191782804), (2097, 0.0034257422370158044), (3064, 0.003425494009358439), (2915, 0.003423451900758206), (2748, 0.0034232776484988416), (3258, 0.0034232061679311207), (887, 0.003423017608081371), (4087, 0.0034221983328114824), (2882, 0.0034209038294106655), (2507, 0.0034197604361437344), (3915, 0.003419357226773719), (8, 0.003418870060860775), (2595, 0.0034145056133027224), (3889, 0.0034141471179231745), (4722, 0.003412856667778837), (2888, 0.0034101155392186142), (2705, 0.0034086847918792565), (4545, 0.0034067190796613044), (1959, 0.0034053432859361657), (3269, 0.003405314927828656), (1874, 0.00340217231139156), (4734, 0.0034021081763727836), (3449, 0.0034018061033552404), (3271, 0.0034015022819898775), (4024, 0.0033996108668382934), (2116, 0.0033976730039242354), (3757, 0.0033958799123419304), (2190, 0.0033933421618429606), (2776, 0.003390559380846281), (1518, 0.0033904911765073893), (1848, 0.0033888829722053945), (1907, 0.0033885977977674226), (4132, 0.00338856024697861), (430, 0.0033883696388912737), (4657, 0.0033857726977636554), (2475, 0.0033854862765337664), (1995, 0.003385079110314376), (1359, 0.003382777664636121), (4540, 0.0033826151115243785), (4245, 0.003382337175463997), (791, 0.003381899515580577), (3184, 0.0033812651159050014), (1708, 0.0033811989535225376), (2162, 0.0033806602710964562), (1798, 0.0033795821275715396), (2661, 0.0033794761837133416), (3496, 0.003379167509448991), (395, 0.0033775750938549063), (1637, 0.0033768284016030855), (4269, 0.003376742804148482), (2723, 0.003376250107190235), (4371, 0.0033758586406593357), (485, 0.0033736467512002076), (3781, 0.003373028092138005), (4495, 0.00337195057106715), (2786, 0.0033712464492022887), (4574, 0.0033707211775307225), (872, 0.0033702053560017505), (4111, 0.0033700850720322583), (1683, 0.0033687362061592357), (1409, 0.003367891886181608), (2260, 0.0033676411657803398), (3904, 0.0033672082195524687), (2725, 0.0033667684067955027), (3728, 0.0033663655386206386), (3873, 0.003366190537874854), (4680, 0.0033659145615878567), (1712, 0.0033649839952887054), (227, 0.0033644038892079327), (2964, 0.0033640337746725633), (2712, 0.00336357048539608), (3007, 0.0033631298989684204), (2391, 0.003362322752195351), (12, 0.003361780117091757), (2393, 0.0033595625361290903), (2609, 0.0033578150835388313), (3601, 0.0033573817652728997), (2151, 0.003356447596478027), (3218, 0.003356178524243986), (2664, 0.003356177756536172), (3235, 0.0033559768822326035), (4357, 0.0033557321252131356), (2970, 0.0033555174115253005), (1619, 0.003354870343963056), (4355, 0.0033537704139874657), (2105, 0.0033522445208579747), (4175, 0.003352126202701966), (1572, 0.0033497015985299358), (3434, 0.0033491418149603227), (3678, 0.0033490617168581466), (792, 0.003348704265728503), (74, 0.003348102404703797), (680, 0.0033479338300439576), (1339, 0.003346157593265951), (3297, 0.003345068244595884), (3590, 0.003344052389437282), (623, 0.003343515272329799), (612, 0.003342404106190464), (2821, 0.0033420308839675677), (1951, 0.0033400430766174433), (1896, 0.0033396611137046714), (2565, 0.00333951005027819), (206, 0.003339433725884686), (2361, 0.0033391739737957697), (3084, 0.0033388908426908726), (4489, 0.003338837443975015), (3314, 0.0033387787125675524), (4471, 0.0033383339370873484), (4054, 0.0033380720563436555), (2418, 0.0033369485711021566), (456, 0.0033353518292986027), (2792, 0.0033352254187701815), (3326, 0.003334238259924429), (4505, 0.0033322383471704833), (2953, 0.003332176504457241), (4575, 0.0033308916123217813), (1685, 0.003330721747628106), (2288, 0.003329850326033711), (2755, 0.003328824100292269), (4286, 0.0033283783427005107), (2849, 0.0033281279180105016), (4052, 0.0033271480161836727), (2610, 0.0033269564121579734), (4318, 0.0033265435439192763), (3264, 0.0033240792865329234), (483, 0.0033238539878672), (1822, 0.0033231847466056513), (3037, 0.0033229787890873075), (3406, 0.0033223446065772494), (4, 0.003321595555450672), (4033, 0.003321135544071621), (1893, 0.0033203712897561075), (4420, 0.003319503000606967), (4566, 0.0033186016360951406), (1916, 0.0033174355271455465), (3388, 0.0033168535492641717), (1075, 0.0033162854915597356), (783, 0.0033162471431266685), (2385, 0.0033157238712220307), (1007, 0.0033141497237606566), (3511, 0.003313788933169363), (1670, 0.0033133902088378566), (3882, 0.0033132280091445958), (3187, 0.003312820977271776), (178, 0.0033116634842577704), (3654, 0.003310835013884215), (3984, 0.003310755786236353), (830, 0.0033092465876289876), (2419, 0.0033073844260566782), (262, 0.0033071588008108635), (3372, 0.0033062339121242377), (3242, 0.0033051579594034148), (2633, 0.0033049743424261487), (4225, 0.003304635563603361), (1821, 0.0033034968476514798), (1402, 0.0033011147899222157), (173, 0.0032993547351311023), (4363, 0.0032971598085736378), (1439, 0.0032961690897123554), (4497, 0.00329589448544048), (1736, 0.0032956015388240427), (3493, 0.0032949677062994605), (2640, 0.003293874116728096), (3150, 0.003293745958403761), (4354, 0.003293231953385274), (20, 0.0032927863131674644), (270, 0.0032923887415665268), (2926, 0.00329231348963982), (3770, 0.003292009217470371), (3919, 0.0032908861883453474), (211, 0.0032905353120902883), (1660, 0.0032892177982249745), (1006, 0.0032889443736932853), (204, 0.0032888871550077734), (4448, 0.0032876560871387735), (3599, 0.0032869876012323286), (4083, 0.0032866366147818785), (3351, 0.0032855989934577985), (3382, 0.0032849150584070065), (2561, 0.0032843244049716863), (3241, 0.0032842657553267493), (3845, 0.0032836053679968368), (717, 0.003282926317538898), (4419, 0.0032818816318973295), (2531, 0.0032808698725521534), (23, 0.0032805723783615177), (2545, 0.003279815876090268), (2370, 0.0032797637102870226), (4136, 0.00327946579771737), (3224, 0.003277543925476939), (1851, 0.003277422213123332), (2546, 0.0032772061813273953), (2911, 0.003276363268662571), (3902, 0.0032755020842413444), (884, 0.0032752873927507573), (4361, 0.003275255105485418), (2904, 0.003274351085155577), (1727, 0.0032731465028034666), (3353, 0.003272858575411673), (1048, 0.003271377086805062), (588, 0.0032712586498227217), (2650, 0.00327077344697581), (2319, 0.003270367684314857), (3778, 0.0032699782056018942), (551, 0.003269422013451951), (1364, 0.003268836465166266), (4625, 0.0032686975070988847), (4262, 0.0032683215729016144), (2016, 0.0032681066872979597), (4756, 0.0032675934550497913), (3536, 0.0032664269960488526), (4025, 0.0032659646744937335), (987, 0.003265237717485796), (216, 0.003263733181993408), (4079, 0.0032634426013310883), (2148, 0.0032629705586076636), (2744, 0.0032626540161798116), (2072, 0.0032620753646537964), (774, 0.0032618766960238322), (3920, 0.0032607962258371396), (11, 0.0032599670478567267), (2123, 0.0032584691072763275), (1703, 0.0032571911098165586), (3689, 0.003256210705831919), (1765, 0.0032559491948061874), (4340, 0.0032559222155014284), (3527, 0.003254153236785658), (4422, 0.0032532225238612977), (4287, 0.00325236357033455), (3198, 0.0032520943188138677), (1382, 0.0032494035291066874), (806, 0.003248747864257391), (120, 0.0032467049988697356), (2863, 0.003245916831093431), (3636, 0.0032442291384098348), (1494, 0.003243127562713192), (1717, 0.00324217968704443), (1516, 0.0032420926441259768), (472, 0.0032409622249730033), (3290, 0.0032397169707250287), (4643, 0.0032382192629413376), (1860, 0.0032375355843249683), (631, 0.0032368251888552383), (1768, 0.0032366730686527807), (1946, 0.0032349401644147704), (176, 0.0032347870464635243), (871, 0.0032345981033240004), (2466, 0.003233036444812403), (2230, 0.003233036401843766), (865, 0.0032324484662793525), (3016, 0.0032317976001457276), (1294, 0.003231729529598058), (1334, 0.0032316773533953244), (2894, 0.00323056217360939), (4563, 0.0032281321908754672), (3701, 0.003227372627700878), (1254, 0.0032264233044506123), (3289, 0.0032262411037183147), (3225, 0.0032259914544683042), (3809, 0.0032254304371397476), (71, 0.0032251072618833766), (3445, 0.0032240421181065283), (1355, 0.003223799086688727), (2977, 0.003223342438562281), (3000, 0.003223224217483474), (4273, 0.0032214799166776667), (3542, 0.003220959921785785), (115, 0.0032189842890438963), (1936, 0.0032174773219390976), (1077, 0.0032161243862889625), (933, 0.0032150646321569597), (1176, 0.0032134648272782794), (1182, 0.003211899319108907), (593, 0.003210945804864226), (3113, 0.003210884420665751), (1688, 0.003210135613236203), (4197, 0.003209298406129844), (2489, 0.0032082058050423978), (3182, 0.003206891598990091), (3283, 0.0032065568130845417), (2292, 0.003206301378397706), (1122, 0.0032050330927117466), (850, 0.003204863044303321), (2155, 0.0032031154256559015), (3792, 0.003201446843060555), (2746, 0.003200870389687264), (994, 0.0031992135671425194), (3643, 0.003198129075715716), (353, 0.0031972769119151243), (2798, 0.0031967821258876853), (1440, 0.003196683432452115), (2313, 0.0031961589006926465), (4049, 0.003194965441758881), (544, 0.003194647469615304), (198, 0.0031941044349941988), (1204, 0.0031940426970537674), (2430, 0.003193975093323119), (4135, 0.0031927366534149288), (579, 0.003191213654141113), (2887, 0.003189831520932045), (3386, 0.0031897783203459146), (1476, 0.0031894326803994155), (4014, 0.0031852304414104198), (1872, 0.003184036708831396), (3739, 0.003182694027395165), (2652, 0.0031826020855839753), (1410, 0.003181727788474364), (4391, 0.0031814472930090094), (864, 0.003181035836949799), (3335, 0.003180751511417043), (4501, 0.0031805437637191375), (1722, 0.0031790090390280464), (2122, 0.0031780704586938514), (1922, 0.003177912692617825), (2745, 0.003177552454645335), (3551, 0.0031773091175269544), (1175, 0.0031770461486014348), (4137, 0.003176980243797123), (1574, 0.003176834896661942), (1706, 0.003176756383380704), (2193, 0.003176721319911114), (2396, 0.0031766961414044477), (4266, 0.0031766349603147), (209, 0.0031766018536632584), (2554, 0.0031758121163188912), (2144, 0.003175442735389957), (848, 0.0031748499955570626), (2109, 0.003173356426910788), (182, 0.0031731871715812675), (897, 0.0031720260515635426), (343, 0.003171957697656779), (993, 0.0031712372449040336), (2934, 0.0031710204022304964), (2192, 0.003170290911777054), (2169, 0.0031684336931112607), (2783, 0.0031681417607823813), (104, 0.0031679583971445393), (2492, 0.003167787192206983), (4686, 0.0031672769005807212), (504, 0.0031671094230073557), (3541, 0.003166704014290145), (2533, 0.0031662605151362116), (4081, 0.0031655083637909098), (2826, 0.003164894130420248), (378, 0.0031615669410799936), (697, 0.0031612442932556265), (3491, 0.003160443331043125), (1131, 0.003158590344826669), (172, 0.0031580664607017833), (5, 0.0031574510808075654), (3341, 0.0031569000501559855), (2340, 0.003155883008132432), (4640, 0.00315390635987351), (2831, 0.0031517011827741233), (1170, 0.0031516213376126365), (2354, 0.003151222930855651), (114, 0.0031510784497118687), (749, 0.003149976768862623), (4330, 0.0031498399092934107), (3612, 0.003149288011497305), (1304, 0.0031491303593736693), (3478, 0.0031480916546381163), (2495, 0.003147806022580591), (226, 0.0031476527471780004), (1378, 0.0031454106554696585), (4427, 0.0031445510393279265), (479, 0.0031443670607031325), (3492, 0.003144210644860437), (1163, 0.0031425358195554826), (66, 0.003141943580163547), (2250, 0.003141288969267621), (2212, 0.003141259753702609), (2387, 0.003141238489207713), (4320, 0.003140089519556784), (280, 0.0031398532913541966), (3346, 0.003139715818238186), (3174, 0.0031396797677677754), (4016, 0.003139417130179407), (109, 0.0031385462411252936), (2900, 0.0031380734244871892), (2943, 0.0031367700354479043), (1021, 0.0031357542780390776), (1112, 0.0031354968977726186), (4268, 0.003135370105739309), (3673, 0.003135334755109371), (3216, 0.003132728428506933), (2853, 0.003132311512522869), (4511, 0.003131119767837508), (4056, 0.0031310732769025567), (1298, 0.0031306436176486542), (2999, 0.0031302332234742908), (4409, 0.0031294612774045213), (3299, 0.0031281903786180647), (4060, 0.0031276767788284278), (2289, 0.003126284513228308), (2512, 0.0031254947087536933), (1102, 0.0031244108429500615), (3441, 0.003122227822445931), (105, 0.003122162717261616), (3477, 0.0031216295516058494), (1891, 0.003120769387238029), (1634, 0.0031201323694006943), (894, 0.003118511508434546), (1072, 0.0031180304958686885), (1438, 0.003117676116249343), (490, 0.003117329785619471), (4520, 0.0031164010177862906), (348, 0.003116337178004437), (1059, 0.003116209603541096), (3565, 0.0031155722164476823), (3596, 0.003115557095891012), (3888, 0.003114866942758914), (1831, 0.003112668713379161), (247, 0.0031126684625444843), (466, 0.0031123403648966224), (464, 0.0031117272224866393), (1411, 0.0031108357716556883), (2569, 0.0031106834920622845), (3381, 0.003110493811390554), (1500, 0.0031104686309259997), (4228, 0.00311013831834698), (3067, 0.0031099659933257824), (174, 0.003109519213780931), (3237, 0.0031093868367008987), (61, 0.0031080459910781833), (1598, 0.0031076148803235804), (374, 0.003105982641178145), (1666, 0.0031044547067032597), (1550, 0.0031042201767915315), (2416, 0.00310267568877118), (867, 0.0031025793551117315), (1313, 0.003102143554500094), (4668, 0.0031019201180983165), (4487, 0.00310152884795165), (3173, 0.0031002796270988412), (3093, 0.0030981562415103073), (2946, 0.0030981199063719153), (3906, 0.003097324318281467), (3647, 0.00309731015984718), (2687, 0.003097217322869679), (1338, 0.0030962851478043792), (1100, 0.003095983472901113), (4349, 0.0030955472743747466), (2463, 0.003094433328392266), (1110, 0.003094365002358164), (169, 0.003092975021774199), (215, 0.003092759972865415), (4685, 0.0030907152590179702), (1026, 0.0030891341399826096), (3260, 0.0030886962650158683), (1319, 0.003088583837057462), (119, 0.0030885560843811684), (4020, 0.0030884136360279637), (1807, 0.00308788571815123), (3046, 0.0030876315803806914), (3557, 0.0030870950758715553), (3827, 0.0030866232086380414), (3379, 0.003086408075936825), (1286, 0.0030862233576976522), (1084, 0.0030847122096071817), (1882, 0.003084450227843056), (2111, 0.003083678477626794), (98, 0.0030825801738368045), (2945, 0.003081574849426399), (1527, 0.003080942107997573), (26, 0.003080234878766273), (4530, 0.0030788045943438416), (2226, 0.0030782719756439507), (2802, 0.0030782686268875166), (4687, 0.0030781875266186393), (2102, 0.003077598990365185), (3220, 0.0030767334153147456), (3447, 0.00307618036111877), (4036, 0.00307596177602591), (4641, 0.003075299975158137), (3069, 0.00307426198761238), (2029, 0.0030734575226203467), (1617, 0.0030733529596609866), (3706, 0.0030723073561218007), (4743, 0.0030716492104727396), (446, 0.0030709803587950332), (3412, 0.003070280050660173), (2909, 0.0030702723901877903), (3402, 0.0030677426324981403), (2279, 0.003067324776831037), (2698, 0.0030671891552867215), (1350, 0.003066508894959989), (1408, 0.0030660119766640795), (2103, 0.003065374373876883), (127, 0.0030652636671390514), (1422, 0.00306514523571828), (1284, 0.0030645071104674487), (1096, 0.0030626541205843578), (4395, 0.003062596480628356), (358, 0.003061733996225694), (2401, 0.003059517331163783), (3765, 0.003057996699925155), (4693, 0.0030579595260539767), (959, 0.0030577467314772573), (3075, 0.0030574342034808653), (1813, 0.0030563075853589166), (2422, 0.003055851070725187), (522, 0.0030558454886715847), (292, 0.003054320038494064), (4442, 0.0030535124963591057), (4183, 0.003053336847835708), (349, 0.003053243664264112), (2461, 0.0030523353621487665), (4381, 0.0030519447017854735), (4573, 0.003051803345133413), (1245, 0.0030515500626222417), (2912, 0.0030482663279142465), (1261, 0.003047973410749144), (4129, 0.003047124947971612), (817, 0.003046455916970587), (3890, 0.003045644059057525), (488, 0.003044989054602367), (4382, 0.003044086506562502), (4472, 0.003043103016029669), (3028, 0.003042143216366935), (2080, 0.003041615119224546), (2571, 0.003041508947717694), (1645, 0.0030412362859814383), (167, 0.0030412345566649623), (3298, 0.0030409725245483647), (4336, 0.0030407786786566357), (4069, 0.0030407122050254824), (1247, 0.0030406193443690646), (2612, 0.003040383370597708), (2268, 0.0030403548470906653), (3641, 0.0030403538438289594), (4139, 0.0030399665534965397), (651, 0.003039322131662451), (4504, 0.003038374282881254), (1969, 0.003038062160974308), (2653, 0.00303785902125862), (1060, 0.0030373678065808655), (19, 0.003037350105423521), (2467, 0.0030372771359190817), (2027, 0.003036668548451518), (3010, 0.003035698303987439), (1463, 0.0030352522257328855), (1597, 0.003032517265034629), (4461, 0.003030623824016345), (85, 0.003028494351365237), (3917, 0.0030282990026904134), (3352, 0.0030273763829483545), (646, 0.0030273631999028256), (3900, 0.0030271721842332266), (3826, 0.003026488958331667), (396, 0.0030252019705878028), (1117, 0.0030242224998434535), (2131, 0.003024175060166648), (4729, 0.0030239014538727864), (620, 0.003023624386538823), (1582, 0.0030222920521178003), (782, 0.003020844240498805), (1020, 0.003020237276086511), (2117, 0.003019684485951917), (3503, 0.0030187029200232497), (3246, 0.0030179556165017157), (1033, 0.003017519692742602), (1446, 0.00301680547666471), (1034, 0.0030147810026262306), (487, 0.003013593162120466), (2367, 0.003013431978177993), (3868, 0.0030121822699139566), (852, 0.003011380668771343), (731, 0.003011371654028934), (2752, 0.003010988729555275), (2143, 0.0030098634195059775), (2141, 0.0030089880232615327), (4567, 0.0030087512897740564), (1416, 0.003008350818795129), (4536, 0.003007657606032586), (4155, 0.0030074997642753646), (3315, 0.003007308005321576), (2309, 0.0030072216619977912), (883, 0.003007209943444593), (1854, 0.0030056852039341327), (3214, 0.0030054466493623622), (2779, 0.0030052132843368293), (3268, 0.003004635115484852), (798, 0.0030042185525694237), (1877, 0.00300403403985817), (4152, 0.0030035274349705043), (2886, 0.0030034482847134266), (1744, 0.0030032100122466374), (1929, 0.0030011396783759577), (1002, 0.0029994810652952232), (3390, 0.002999458677236318), (3151, 0.002998773558123195), (3733, 0.002998253835017353), (157, 0.002998211219529019), (2473, 0.002998136995787383), (29, 0.0029978793783483654), (4321, 0.0029971143513916484), (4085, 0.0029962664808806895), (1273, 0.002996088845847454), (164, 0.002995528876717085), (3170, 0.0029948970044758575), (3171, 0.0029945913707177035), (4213, 0.0029934866638381126), (221, 0.002993149327897114), (3036, 0.002993016256639343), (2706, 0.0029928735193913507), (2765, 0.002992379220058113), (2242, 0.002992244718562059), (2068, 0.002991416658686781), (505, 0.002990619264065617), (2965, 0.0029904504608543295), (4206, 0.0029903164869354943), (4428, 0.0029892688048674004), (1878, 0.0029890787045536537), (2892, 0.0029882941549308063), (1160, 0.0029880529985369486), (437, 0.002987099515565218), (767, 0.0029862843646413628), (4345, 0.0029860978296632978), (962, 0.002985064380660799), (2859, 0.002984608833664401), (3799, 0.00298413292721322), (2995, 0.0029835983685094973), (373, 0.0029835075086041963), (2572, 0.0029820942176569097), (1710, 0.0029820509357212184), (4246, 0.0029807017020317067), (3293, 0.002979647157861279), (2679, 0.002978931172214626), (203, 0.0029787030861202837), (698, 0.0029784815843787145), (2651, 0.0029784596496597302), (434, 0.0029782463391424692), (2133, 0.0029776309445555807), (3646, 0.002976720375138866), (1742, 0.002976609655762613), (408, 0.0029763671102457576), (1404, 0.0029757777533843317), (2997, 0.0029755215842620967), (4399, 0.002975166744695202), (325, 0.0029748352000214706), (1759, 0.0029744971587483196), (2800, 0.002974251531706906), (818, 0.0029740156962909203), (828, 0.002973829798396926), (1032, 0.0029733866543287264), (197, 0.002972453162494984), (966, 0.0029723481811018424), (3014, 0.0029718795580702126), (388, 0.002971852796130781), (3194, 0.0029713831194616816), (578, 0.002971146530913187), (3954, 0.002971097568960224), (126, 0.0029702391403370458), (939, 0.0029693147908314028), (1036, 0.0029691106859504927), (2303, 0.0029690663477383904), (387, 0.002969014569047739), (3811, 0.0029677399137207705), (2972, 0.0029673778692785994), (2812, 0.002966821059258788), (1663, 0.0029657245804583236), (4257, 0.0029655855514007907), (2166, 0.0029648112479107136), (3615, 0.0029645197911359216), (2525, 0.002964373910258443), (2004, 0.0029587947518617255), (3300, 0.002958403676861003), (4011, 0.002956528281597261), (507, 0.0029559630935449047), (4254, 0.0029559042683235713), (1203, 0.002955785605509492), (1693, 0.0029557831116599313), (3407, 0.0029554063621125854), (1682, 0.0029542111424925616), (287, 0.0029539059309070053), (3057, 0.002953225912941199), (307, 0.002952886876228623), (886, 0.002951348742593758), (903, 0.0029509136091968916), (1793, 0.002950590475553165), (3941, 0.0029500818418568735), (140, 0.0029489016612210383), (3071, 0.002948666409117331), (941, 0.002948493846053498), (3243, 0.002948482501573509), (734, 0.002948272969591419), (279, 0.002947106674057601), (975, 0.002947089536709853), (212, 0.0029461231914682047), (4059, 0.0029439833289966115), (1620, 0.002943638725889116), (2099, 0.002942447659296322), (1884, 0.002942416241889883), (2634, 0.002941517004143752), (2149, 0.0029414030706414293), (3399, 0.0029411411841749773), (655, 0.0029397702254108293), (4634, 0.002937510289087836), (4603, 0.002936530982636352), (229, 0.0029349380166097017), (372, 0.00293320982583246), (598, 0.002933140813294028), (944, 0.0029330072749958708), (659, 0.002932414055896835), (3725, 0.0029312371883222126), (3147, 0.0029306986918385173), (213, 0.0029299918494185362), (921, 0.002929870837700992), (2201, 0.0029284932786323714), (935, 0.0029281161909577038), (4356, 0.002927746223532578), (838, 0.002927277069118069), (1558, 0.0029263925734132933), (3829, 0.0029263318811259546), (111, 0.0029243957372970357), (2446, 0.0029239267534564672), (2528, 0.0029234786676323224), (1456, 0.002922015495786772), (3500, 0.002920665694479815), (2907, 0.002919647197640879), (1650, 0.002919160139806531), (2556, 0.0029190902445014287), (589, 0.0029175536855483557), (2129, 0.002917034533364779), (399, 0.0029170297401319672), (1052, 0.0029144280539590583), (96, 0.0029136297699306), (1642, 0.0029135958160657863), (1514, 0.002913450583171914), (2777, 0.002912903140840537), (766, 0.002912843059565145), (2317, 0.0029128257191238533), (3627, 0.002912779334705371), (2868, 0.0029125608816452982), (805, 0.002911115493628606), (4616, 0.00290805729067324), (136, 0.002907119640572586), (2735, 0.002906623966780767), (3558, 0.0029063524428038644), (3913, 0.0029063083512220486), (2399, 0.0029059276169584804), (2593, 0.002904484590191281), (3369, 0.0029038007483391166), (3839, 0.0029036926548998677), (15, 0.0029036866474008807), (1477, 0.0029036641245415735), (558, 0.0029029050342605158), (899, 0.002901950994462681), (2482, 0.002901753627525115), (324, 0.0029015373885708504), (638, 0.00290146803527439), (3656, 0.002901262353118347), (1357, 0.0029011081986838492), (1543, 0.002900375899345959), (1114, 0.002899583812890654), (4479, 0.002899427160664089), (1814, 0.0028986070768314887), (2674, 0.0028978907712913274), (4174, 0.0028975565616104117), (2845, 0.002897533453084351), (4348, 0.002895050002169255), (1079, 0.0028949580572797417), (2453, 0.0028933655756047186), (3767, 0.0028918373552729395), (4649, 0.00289107598631227), (1875, 0.0028908819648117254), (3455, 0.0028905553155058983), (43, 0.0028895499464870237), (457, 0.002889343606311968), (359, 0.0028890150593554433), (1308, 0.002888243316613262), (524, 0.0028879728494883394), (183, 0.0028871558893464764), (4326, 0.0028862303431141777), (3306, 0.002886105492879862), (2362, 0.002885739710975835), (416, 0.0028848198182594986), (3050, 0.0028842360550824587), (4277, 0.0028835044323645255), (1672, 0.0028818830595165406), (1628, 0.0028804820045473583), (2920, 0.0028803789620164204), (2301, 0.002879697664656534), (624, 0.002879470301865901), (3329, 0.002877997887090654), (4620, 0.0028763588645743777), (3742, 0.002875530317320584), (4502, 0.002875233687019815), (957, 0.002874574484851239), (2954, 0.002874468235451879), (1434, 0.002874193359672329), (4359, 0.002874106890780257), (218, 0.0028740554504248215), (465, 0.002874053723777873), (4638, 0.0028716873326411797), (1730, 0.002870071149962912), (3563, 0.0028691938441943515), (934, 0.0028690986195356013), (2728, 0.002865470895186421), (3953, 0.002864312761199949), (2011, 0.0028625598018669116), (3278, 0.0028625027037642386), (1528, 0.002859348609997753), (2265, 0.0028578950788177475), (1538, 0.002857484974216539), (2236, 0.0028566644009461887), (4053, 0.002856548505095997), (3267, 0.002856491847048852), (1216, 0.0028546798573600447), (1503, 0.0028542660915614553), (2055, 0.0028531907150016653), (285, 0.0028511479041581377), (2402, 0.0028509750682314807), (3304, 0.0028505498980305227), (1869, 0.0028502750519155567), (473, 0.002848097559379212), (3311, 0.00284770487964508), (2931, 0.0028476991173706626), (449, 0.0028471632043335004), (1827, 0.0028467553071345668), (1826, 0.002846693412793529), (2338, 0.0028442381188887107), (1605, 0.0028440601530808868), (428, 0.0028421993501566876), (1387, 0.0028419093304676304), (1161, 0.0028417496531091962), (1719, 0.0028411297544212333), (2323, 0.0028409058228243706), (1366, 0.0028397102294036103), (515, 0.0028376434520494776), (4350, 0.0028375047697687824), (1690, 0.002836314674684841), (4712, 0.0028359155052471194), (2741, 0.002834499442890642), (1080, 0.002834008144306242), (3336, 0.0028335230911726), (3027, 0.002832834740443288), (2285, 0.0028327129708215324), (3986, 0.0028325145301960923), (2457, 0.0028318322477246423), (1625, 0.0028307965196272896), (2248, 0.0028301946724112997), (597, 0.0028298819739669833), (4143, 0.0028297904748831627), (161, 0.0028296644166827464), (3863, 0.0028288638284669266), (722, 0.002828681963896854), (2065, 0.0028283035265552724), (4304, 0.0028254309785571896), (2591, 0.00282431563507784), (1219, 0.0028241599588944457), (158, 0.0028238478664229885), (3327, 0.002823722476641496), (885, 0.0028236844560766447), (1980, 0.0028236082558278056), (1808, 0.002823302444223012), (4080, 0.002822660096239209), (2976, 0.0028200704132818077), (3167, 0.002819274836900757), (3111, 0.002817594521386859), (594, 0.002813811640438206), (1921, 0.0028134449006831973), (815, 0.002812480968582206), (856, 0.0028100289397770583), (2163, 0.0028089884788326173), (1762, 0.002808413431113499), (268, 0.002807781842276228), (1318, 0.0028075899935554975), (2213, 0.0028073394670304268), (672, 0.002807150098709086), (1539, 0.002807109186718719), (4141, 0.0028068532309987585), (3956, 0.002805880450314133), (1977, 0.0028029021289654446), (1392, 0.0027989597699683306), (2264, 0.002796791070720694), (703, 0.0027963697272234385), (3360, 0.0027963584410335466), (657, 0.002795563681769543), (3380, 0.002794546008871906), (1423, 0.002793897108705064), (2587, 0.00279369733357647), (4608, 0.002793623490823925), (4104, 0.002790426713743527), (1830, 0.0027894033396577973), (1394, 0.0027891351080203963), (1290, 0.0027889832858759064), (1954, 0.0027886578463018163), (252, 0.002788522153244777), (705, 0.002787001120710528), (495, 0.0027843614155797043), (3755, 0.0027822571376339643), (33, 0.002782103645194191), (712, 0.002781311687018027), (1553, 0.002778371503340067), (2502, 0.002777525365850284), (4220, 0.0027771641892368323), (1199, 0.0027770665562153306), (2753, 0.0027733445647017043), (1776, 0.00277246016641011), (184, 0.0027721513355228843), (92, 0.0027704366836272245), (3, 0.0027675073537301205), (4247, 0.002766925697633875), (1616, 0.002766507121027497), (2975, 0.0027657143773385925), (4066, 0.0027646199657030044), (1186, 0.002764209375094599), (97, 0.002762658687398585), (2240, 0.002762601100710581), (480, 0.0027624374263339525), (2237, 0.0027623941887840865), (647, 0.0027621324558371554), (3894, 0.0027609380414881676), (249, 0.0027608540274447757), (32, 0.002760681370412691), (1136, 0.002759877599221191), (4156, 0.0027595417143731625), (851, 0.00275783599996332), (317, 0.0027565355717275265), (3895, 0.002755811089031859), (1301, 0.002750321199399733), (3880, 0.0027465206030160665), (924, 0.0027421287881043296), (4296, 0.0027421154030535665), (4473, 0.002741775875829472), (1943, 0.0027401096121705644), (3655, 0.002739692771957842), (4232, 0.0027368197402751425), (3096, 0.0027365351404980078), (2721, 0.0027354169229934287), (4429, 0.0027333529495378616), (1217, 0.0027330495330313547), (1465, 0.0027293254887303595), (2520, 0.002729017345176431), (2747, 0.0027277858169637314), (103, 0.0027266927628181964), (4748, 0.002726452672201153), (3211, 0.002725671649999648), (242, 0.0027256235054846692), (2942, 0.002724107533496023), (1397, 0.0027223524587847037), (165, 0.0027213974060840648), (2270, 0.0027200010774162207), (357, 0.002716600225017324), (1828, 0.0027163635047520837), (4386, 0.0027150868397380233), (874, 0.00271483155345626), (1370, 0.0027144248085205817), (1450, 0.002712892133299258), (278, 0.002711329987006338), (3238, 0.002709186965490047), (2761, 0.00270905550498843), (364, 0.002708313334861828), (2527, 0.002707592439296586), (3393, 0.0027075231490806787), (3629, 0.002703617748237114), (286, 0.0027014307399355394), (269, 0.0027012692424232465), (4627, 0.0027012617141518465), (2611, 0.002700773761590572), (3569, 0.0026990858200811756), (2743, 0.002699051496638178), (251, 0.0026982291199528956), (2382, 0.0026967202856934716), (1763, 0.0026958490712319354), (1833, 0.0026956664786435118), (445, 0.002694979233285376), (4476, 0.002693821339729966), (60, 0.002692956971789657), (1088, 0.002691107394506231), (1565, 0.0026908641030369117), (2146, 0.0026903345609951), (3376, 0.0026882372814955756), (496, 0.002687676174744244), (3579, 0.002687141180056869), (1691, 0.0026861294249234512), (3409, 0.0026858229584762715), (1050, 0.0026819311099919346), (1743, 0.002679616995522663), (3200, 0.0026748274486136296), (1352, 0.0026741022503758973), (2758, 0.0026736410984088666), (1340, 0.002673489729039437), (2933, 0.0026734591029140523), (3855, 0.002671188881888887), (1971, 0.0026683104442113384), (403, 0.002668286696567334), (626, 0.0026678589394611048), (3669, 0.002667855168712582), (267, 0.0026678201917156264), (2035, 0.0026669124626151996), (3668, 0.0026646043216302408), (3634, 0.0026616888618493373), (1365, 0.002658376473354347), (175, 0.0026582561635273283), (951, 0.0026575750243654286), (1312, 0.0026566611043496212), (3657, 0.002656621148378839), (2076, 0.002655091608750331), (4636, 0.002654777148693198), (2039, 0.0026480638592444976), (707, 0.0026478585637721517), (2157, 0.0026471044402173755), (195, 0.0026460665486324423), (196, 0.002644204033094051), (2603, 0.0026440080517388036), (2127, 0.0026427974145015547), (3347, 0.0026422308761964467), (4610, 0.002642084676077425), (566, 0.002641119877380492), (3821, 0.00264012511237453), (2211, 0.002637825496477858), (3091, 0.0026349919680857714), (2132, 0.0026300107752804387), (3928, 0.0026296361984221093), (2876, 0.002629230180351482), (1042, 0.0026292294157833737), (1367, 0.002628937942848596), (2359, 0.002627564935764358), (2287, 0.0026264144181420974), (2985, 0.002625853694924343), (616, 0.002623437077754824), (1209, 0.0026233778086286207), (3252, 0.0026231578800795397), (1078, 0.0026216704769060203), (2481, 0.0026216172233038417), (3430, 0.002620365008381972), (3927, 0.002620304092222071), (2221, 0.002617126985159643), (796, 0.0026136072664987623), (2969, 0.0026109851903409306), (3056, 0.0026079511460991626), (901, 0.002607481438761206), (142, 0.002604596135921146), (3024, 0.0026041913262300318), (25, 0.0026040921806863974), (2563, 0.002603613469140637), (1571, 0.002602720187263962), (1305, 0.002602558387841779), (441, 0.0026014658974662223), (2844, 0.0026000339916497713), (4015, 0.002596867139392141), (2034, 0.002593621941199438), (843, 0.0025888873857406337), (3548, 0.002588821365573256), (113, 0.0025887601127496866), (3751, 0.0025874873012667215), (2509, 0.002587022592948394), (1427, 0.002580606838445771), (1415, 0.0025792519478723547), (1464, 0.00257872937047741), (2526, 0.0025757373634378612), (3254, 0.002574014405874507), (412, 0.0025719030355581605), (1950, 0.0025714073546789723), (645, 0.0025711717833129346), (3313, 0.002570174061695548), (1098, 0.0025670778942987567), (816, 0.0025622590999255404), (1624, 0.0025617461065124605), (1037, 0.002560851814669859), (3875, 0.0025587777229835722), (4311, 0.002557648588897713), (156, 0.002557368183282981), (4744, 0.0025520078621797115), (1317, 0.002550659947477268), (2441, 0.002549240534331071), (4626, 0.002545200306372276), (691, 0.0025443479909183515), (3575, 0.002543268515109889), (3431, 0.0025280049687447406), (407, 0.0025259174480013026), (194, 0.0025257843924158287), (510, 0.002516385151492601), (3538, 0.0025101779485086104), (1144, 0.0025098632451124683), (2000, 0.0025086715489945777), (1871, 0.0025056098094142724), (63, 0.002505455406196508), (309, 0.0025038992579008985), (1886, 0.002502165591856497), (706, 0.0025004153747988363), (2766, 0.0024979387488273416), (609, 0.002497799917166133), (3362, 0.002492824796937555), (527, 0.0024922277005658766), (2010, 0.0024860876791211067), (1677, 0.002476719707518609), (4598, 0.002469764090274462), (3301, 0.002465213243538992), (2469, 0.002464758258656846), (159, 0.00246384860827001), (1040, 0.002458789011697369), (3152, 0.0024566093986970274), (2767, 0.0024560491965228796), (1747, 0.0024499219189686055), (3199, 0.0024378539599281706), (607, 0.002425800604283654), (106, 0.0024233478417408525), (3316, 0.002421602381339951), (2760, 0.0024162806315278554), (2474, 0.002415263766205854), (3626, 0.0024152345569528927), (224, 0.002408595909132682), (453, 0.00240723693934931), (4652, 0.0024062475574022925), (1005, 0.002406230000024952), (351, 0.0024017940686421727), (82, 0.002388934294372911), (4182, 0.002388399039236388), (1861, 0.0023862197258370213), (228, 0.0023842133572816535), (3645, 0.0023728481670557268), (452, 0.002371037780305645), (3285, 0.002366650461712147), (4445, 0.0023632970777139667), (3983, 0.002358438265850028), (1277, 0.002354153380515949), (256, 0.002351890034004618), (1648, 0.002350952515318006), (3546, 0.0023487122564239587), (4301, 0.002335632186082372), (2902, 0.0023153308203909626), (684, 0.0023100206353414703), (283, 0.002303775161036404), (1306, 0.0022949069555818257), (929, 0.0022709168721374083), (7, 0.0022614649291014034), (4752, 0.002254993920911275), (641, 0.0022543373229381705), (108, 0.002239768989997343), (293, 0.0022383727812576833), (455, 0.0022338869585212633), (4171, 0.0022248763412442097), (3365, 0.0022200409005625), (129, 0.0021983062814927242), (824, 0.0021922229448768727), (3421, 0.002177950988830397), (330, 0.0021751988678531775), (3458, 0.002156767864789072), (858, 0.002125579236089383), (740, 0.0021118633657321454), (3392, 0.0020917452348272907), (3328, 0.0020691924276584114), (202, 0.002065686306528275), (24, 0.0020560986094331686), (1780, 0.00205361185572706), (3608, 0.002050503570806126), (787, 0.0019255915780980579), (3835, 0.0018960016947666169), (2538, 0.0018835953812658772), (2534, 0.0014043286821290302), (475, 0.0011005376528346108), (0, 0.0), (1, 0.0), (9, 0.0), (10, 0.0), (13, 0.0), (14, 0.0), (17, 0.0), (22, 0.0), (28, 0.0), (36, 0.0), (37, 0.0), (42, 0.0), (45, 0.0), (50, 0.0), (53, 0.0), (54, 0.0), (55, 0.0), (56, 0.0), (57, 0.0), (58, 0.0), (59, 0.0), (64, 0.0), (65, 0.0), (73, 0.0), (75, 0.0), (81, 0.0), (86, 0.0), (91, 0.0), (100, 0.0), (101, 0.0), (110, 0.0), (117, 0.0), (122, 0.0), (130, 0.0), (131, 0.0), (133, 0.0), (134, 0.0), (139, 0.0), (141, 0.0), (143, 0.0), (150, 0.0), (151, 0.0), (153, 0.0), (155, 0.0), (162, 0.0), (163, 0.0), (168, 0.0), (177, 0.0), (179, 0.0), (180, 0.0), (181, 0.0), (185, 0.0), (186, 0.0), (188, 0.0), (205, 0.0), (214, 0.0), (217, 0.0), (219, 0.0), (223, 0.0), (225, 0.0), (230, 0.0), (231, 0.0), (232, 0.0), (237, 0.0), (245, 0.0), (248, 0.0), (257, 0.0), (258, 0.0), (259, 0.0), (263, 0.0), (264, 0.0), (265, 0.0), (272, 0.0), (275, 0.0), (277, 0.0), (297, 0.0), (298, 0.0), (299, 0.0), (300, 0.0), (301, 0.0), (302, 0.0), (311, 0.0), (328, 0.0), (331, 0.0), (335, 0.0), (336, 0.0), (337, 0.0), (338, 0.0), (339, 0.0), (340, 0.0), (344, 0.0), (345, 0.0), (352, 0.0), (361, 0.0), (362, 0.0), (363, 0.0), (365, 0.0), (366, 0.0), (367, 0.0), (368, 0.0), (369, 0.0), (376, 0.0), (379, 0.0), (381, 0.0), (382, 0.0), (383, 0.0), (384, 0.0), (385, 0.0), (386, 0.0), (391, 0.0), (392, 0.0), (393, 0.0), (398, 0.0), (401, 0.0), (404, 0.0), (405, 0.0), (411, 0.0), (413, 0.0), (414, 0.0), (415, 0.0), (421, 0.0), (422, 0.0), (423, 0.0), (427, 0.0), (439, 0.0), (440, 0.0), (454, 0.0), (459, 0.0), (461, 0.0), (462, 0.0), (474, 0.0), (477, 0.0), (486, 0.0), (491, 0.0), (492, 0.0), (497, 0.0), (498, 0.0), (503, 0.0), (506, 0.0), (520, 0.0), (521, 0.0), (525, 0.0), (528, 0.0), (531, 0.0), (535, 0.0), (536, 0.0), (539, 0.0), (545, 0.0), (546, 0.0), (548, 0.0), (549, 0.0), (552, 0.0), (553, 0.0), (555, 0.0), (556, 0.0), (557, 0.0), (561, 0.0), (565, 0.0), (567, 0.0), (568, 0.0), (569, 0.0), (570, 0.0), (572, 0.0), (573, 0.0), (574, 0.0), (575, 0.0), (577, 0.0), (582, 0.0), (583, 0.0), (585, 0.0), (586, 0.0), (591, 0.0), (592, 0.0), (599, 0.0), (600, 0.0), (601, 0.0), (602, 0.0), (603, 0.0), (610, 0.0), (613, 0.0), (615, 0.0), (618, 0.0), (630, 0.0), (632, 0.0), (648, 0.0), (649, 0.0), (650, 0.0), (656, 0.0), (658, 0.0), (662, 0.0), (663, 0.0), (664, 0.0), (665, 0.0), (671, 0.0), (674, 0.0), (677, 0.0), (679, 0.0), (681, 0.0), (686, 0.0), (699, 0.0), (700, 0.0), (702, 0.0), (704, 0.0), (708, 0.0), (709, 0.0), (710, 0.0), (711, 0.0), (714, 0.0), (718, 0.0), (720, 0.0), (724, 0.0), (725, 0.0), (726, 0.0), (730, 0.0), (736, 0.0), (741, 0.0), (745, 0.0), (746, 0.0), (747, 0.0), (748, 0.0), (751, 0.0), (752, 0.0), (754, 0.0), (758, 0.0), (763, 0.0), (764, 0.0), (768, 0.0), (770, 0.0), (771, 0.0), (772, 0.0), (773, 0.0), (776, 0.0), (778, 0.0), (780, 0.0), (781, 0.0), (784, 0.0), (785, 0.0), (786, 0.0), (789, 0.0), (795, 0.0), (797, 0.0), (807, 0.0), (812, 0.0), (814, 0.0), (820, 0.0), (821, 0.0), (822, 0.0), (833, 0.0), (834, 0.0), (835, 0.0), (836, 0.0), (837, 0.0), (839, 0.0), (840, 0.0), (841, 0.0), (846, 0.0), (859, 0.0), (862, 0.0), (869, 0.0), (873, 0.0), (881, 0.0), (882, 0.0), (892, 0.0), (906, 0.0), (908, 0.0), (909, 0.0), (912, 0.0), (913, 0.0), (914, 0.0), (920, 0.0), (926, 0.0), (938, 0.0), (943, 0.0), (945, 0.0), (946, 0.0), (948, 0.0), (950, 0.0), (955, 0.0), (956, 0.0), (958, 0.0), (960, 0.0), (961, 0.0), (964, 0.0), (965, 0.0), (971, 0.0), (972, 0.0), (977, 0.0), (978, 0.0), (983, 0.0), (990, 0.0), (995, 0.0), (1008, 0.0), (1010, 0.0), (1011, 0.0), (1013, 0.0), (1014, 0.0), (1016, 0.0), (1022, 0.0), (1025, 0.0), (1028, 0.0), (1029, 0.0), (1031, 0.0), (1038, 0.0), (1039, 0.0), (1045, 0.0), (1046, 0.0), (1051, 0.0), (1055, 0.0), (1056, 0.0), (1057, 0.0), (1062, 0.0), (1066, 0.0), (1067, 0.0), (1069, 0.0), (1070, 0.0), (1073, 0.0), (1076, 0.0), (1081, 0.0), (1085, 0.0), (1086, 0.0), (1089, 0.0), (1090, 0.0), (1091, 0.0), (1093, 0.0), (1094, 0.0), (1101, 0.0), (1103, 0.0), (1105, 0.0), (1106, 0.0), (1108, 0.0), (1111, 0.0), (1113, 0.0), (1116, 0.0), (1125, 0.0), (1126, 0.0), (1133, 0.0), (1135, 0.0), (1139, 0.0), (1142, 0.0), (1143, 0.0), (1147, 0.0), (1149, 0.0), (1151, 0.0), (1152, 0.0), (1155, 0.0), (1156, 0.0), (1157, 0.0), (1159, 0.0), (1165, 0.0), (1166, 0.0), (1171, 0.0), (1172, 0.0), (1178, 0.0), (1180, 0.0), (1189, 0.0), (1190, 0.0), (1193, 0.0), (1194, 0.0), (1195, 0.0), (1196, 0.0), (1198, 0.0), (1200, 0.0), (1201, 0.0), (1205, 0.0), (1212, 0.0), (1213, 0.0), (1214, 0.0), (1218, 0.0), (1221, 0.0), (1222, 0.0), (1227, 0.0), (1228, 0.0), (1231, 0.0), (1233, 0.0), (1235, 0.0), (1238, 0.0), (1239, 0.0), (1240, 0.0), (1244, 0.0), (1246, 0.0), (1249, 0.0), (1250, 0.0), (1256, 0.0), (1258, 0.0), (1260, 0.0), (1263, 0.0), (1265, 0.0), (1268, 0.0), (1269, 0.0), (1271, 0.0), (1274, 0.0), (1278, 0.0), (1282, 0.0), (1283, 0.0), (1285, 0.0), (1287, 0.0), (1289, 0.0), (1291, 0.0), (1295, 0.0), (1297, 0.0), (1299, 0.0), (1307, 0.0), (1310, 0.0), (1315, 0.0), (1316, 0.0), (1320, 0.0), (1321, 0.0), (1322, 0.0), (1323, 0.0), (1326, 0.0), (1327, 0.0), (1328, 0.0), (1329, 0.0), (1330, 0.0), (1331, 0.0), (1333, 0.0), (1336, 0.0), (1341, 0.0), (1342, 0.0), (1344, 0.0), (1345, 0.0), (1346, 0.0), (1353, 0.0), (1358, 0.0), (1361, 0.0), (1362, 0.0), (1363, 0.0), (1368, 0.0), (1373, 0.0), (1374, 0.0), (1376, 0.0), (1379, 0.0), (1388, 0.0), (1389, 0.0), (1390, 0.0), (1393, 0.0), (1399, 0.0), (1405, 0.0), (1418, 0.0), (1424, 0.0), (1425, 0.0), (1437, 0.0), (1441, 0.0), (1444, 0.0), (1445, 0.0), (1447, 0.0), (1453, 0.0), (1457, 0.0), (1459, 0.0), (1460, 0.0), (1461, 0.0), (1466, 0.0), (1467, 0.0), (1468, 0.0), (1470, 0.0), (1473, 0.0), (1482, 0.0), (1486, 0.0), (1487, 0.0), (1490, 0.0), (1491, 0.0), (1492, 0.0), (1496, 0.0), (1501, 0.0), (1504, 0.0), (1505, 0.0), (1507, 0.0), (1508, 0.0), (1511, 0.0), (1512, 0.0), (1515, 0.0), (1517, 0.0), (1520, 0.0), (1521, 0.0), (1522, 0.0), (1523, 0.0), (1524, 0.0), (1525, 0.0), (1529, 0.0), (1532, 0.0), (1534, 0.0), (1535, 0.0), (1536, 0.0), (1540, 0.0), (1541, 0.0), (1544, 0.0), (1545, 0.0), (1548, 0.0), (1549, 0.0), (1552, 0.0), (1556, 0.0), (1557, 0.0), (1560, 0.0), (1561, 0.0), (1563, 0.0), (1564, 0.0), (1567, 0.0), (1569, 0.0), (1577, 0.0), (1578, 0.0), (1579, 0.0), (1581, 0.0), (1583, 0.0), (1584, 0.0), (1585, 0.0), (1586, 0.0), (1589, 0.0), (1592, 0.0), (1596, 0.0), (1599, 0.0), (1600, 0.0), (1601, 0.0), (1602, 0.0), (1603, 0.0), (1604, 0.0), (1606, 0.0), (1607, 0.0), (1610, 0.0), (1611, 0.0), (1613, 0.0), (1615, 0.0), (1618, 0.0), (1626, 0.0), (1636, 0.0), (1638, 0.0), (1640, 0.0), (1644, 0.0), (1646, 0.0), (1647, 0.0), (1649, 0.0), (1651, 0.0), (1652, 0.0), (1654, 0.0), (1657, 0.0), (1664, 0.0), (1668, 0.0), (1669, 0.0), (1673, 0.0), (1674, 0.0), (1676, 0.0), (1679, 0.0), (1684, 0.0), (1686, 0.0), (1689, 0.0), (1692, 0.0), (1695, 0.0), (1697, 0.0), (1698, 0.0), (1702, 0.0), (1704, 0.0), (1705, 0.0), (1709, 0.0), (1714, 0.0), (1715, 0.0), (1718, 0.0), (1720, 0.0), (1721, 0.0), (1725, 0.0), (1726, 0.0), (1728, 0.0), (1729, 0.0), (1731, 0.0), (1734, 0.0), (1735, 0.0), (1737, 0.0), (1738, 0.0), (1741, 0.0), (1745, 0.0), (1746, 0.0), (1750, 0.0), (1751, 0.0), (1752, 0.0), (1755, 0.0), (1756, 0.0), (1757, 0.0), (1758, 0.0), (1766, 0.0), (1767, 0.0), (1769, 0.0), (1770, 0.0), (1771, 0.0), (1775, 0.0), (1777, 0.0), (1778, 0.0), (1783, 0.0), (1785, 0.0), (1786, 0.0), (1790, 0.0), (1794, 0.0), (1795, 0.0), (1797, 0.0), (1800, 0.0), (1802, 0.0), (1803, 0.0), (1804, 0.0), (1806, 0.0), (1810, 0.0), (1816, 0.0), (1818, 0.0), (1820, 0.0), (1824, 0.0), (1825, 0.0), (1834, 0.0), (1835, 0.0), (1836, 0.0), (1837, 0.0), (1839, 0.0), (1841, 0.0), (1844, 0.0), (1847, 0.0), (1849, 0.0), (1850, 0.0), (1855, 0.0), (1856, 0.0), (1863, 0.0), (1867, 0.0), (1868, 0.0), (1870, 0.0), (1879, 0.0), (1880, 0.0), (1883, 0.0), (1888, 0.0), (1889, 0.0), (1894, 0.0), (1895, 0.0), (1898, 0.0), (1903, 0.0), (1906, 0.0), (1908, 0.0), (1911, 0.0), (1912, 0.0), (1913, 0.0), (1915, 0.0), (1917, 0.0), (1926, 0.0), (1928, 0.0), (1932, 0.0), (1935, 0.0), (1938, 0.0), (1944, 0.0), (1945, 0.0), (1948, 0.0), (1955, 0.0), (1956, 0.0), (1957, 0.0), (1961, 0.0), (1963, 0.0), (1965, 0.0), (1966, 0.0), (1972, 0.0), (1973, 0.0), (1974, 0.0), (1978, 0.0), (1979, 0.0), (1981, 0.0), (1982, 0.0), (1984, 0.0), (1986, 0.0), (1987, 0.0), (1988, 0.0), (1994, 0.0), (1999, 0.0), (2001, 0.0), (2002, 0.0), (2003, 0.0), (2005, 0.0), (2006, 0.0), (2007, 0.0), (2009, 0.0), (2014, 0.0), (2018, 0.0), (2019, 0.0), (2020, 0.0), (2021, 0.0), (2022, 0.0), (2025, 0.0), (2026, 0.0), (2028, 0.0), (2030, 0.0), (2032, 0.0), (2038, 0.0), (2041, 0.0), (2042, 0.0), (2043, 0.0), (2050, 0.0), (2052, 0.0), (2054, 0.0), (2056, 0.0), (2058, 0.0), (2059, 0.0), (2063, 0.0), (2064, 0.0), (2071, 0.0), (2077, 0.0), (2079, 0.0), (2081, 0.0), (2082, 0.0), (2085, 0.0), (2086, 0.0), (2090, 0.0), (2092, 0.0), (2095, 0.0), (2098, 0.0), (2100, 0.0), (2101, 0.0), (2106, 0.0), (2107, 0.0), (2113, 0.0), (2115, 0.0), (2118, 0.0), (2120, 0.0), (2124, 0.0), (2125, 0.0), (2128, 0.0), (2135, 0.0), (2138, 0.0), (2140, 0.0), (2145, 0.0), (2147, 0.0), (2150, 0.0), (2152, 0.0), (2153, 0.0), (2156, 0.0), (2158, 0.0), (2160, 0.0), (2161, 0.0), (2164, 0.0), (2165, 0.0), (2167, 0.0), (2168, 0.0), (2170, 0.0), (2171, 0.0), (2172, 0.0), (2175, 0.0), (2177, 0.0), (2179, 0.0), (2180, 0.0), (2182, 0.0), (2183, 0.0), (2185, 0.0), (2186, 0.0), (2194, 0.0), (2198, 0.0), (2200, 0.0), (2203, 0.0), (2207, 0.0), (2215, 0.0), (2218, 0.0), (2219, 0.0), (2220, 0.0), (2222, 0.0), (2225, 0.0), (2227, 0.0), (2228, 0.0), (2233, 0.0), (2234, 0.0), (2238, 0.0), (2239, 0.0), (2241, 0.0), (2243, 0.0), (2244, 0.0), (2247, 0.0), (2249, 0.0), (2253, 0.0), (2256, 0.0), (2258, 0.0), (2259, 0.0), (2261, 0.0), (2262, 0.0), (2263, 0.0), (2267, 0.0), (2271, 0.0), (2272, 0.0), (2274, 0.0), (2281, 0.0), (2282, 0.0), (2290, 0.0), (2294, 0.0), (2296, 0.0), (2297, 0.0), (2298, 0.0), (2300, 0.0), (2304, 0.0), (2305, 0.0), (2307, 0.0), (2308, 0.0), (2311, 0.0), (2312, 0.0), (2315, 0.0), (2316, 0.0), (2322, 0.0), (2325, 0.0), (2329, 0.0), (2331, 0.0), (2332, 0.0), (2333, 0.0), (2335, 0.0), (2337, 0.0), (2339, 0.0), (2341, 0.0), (2342, 0.0), (2343, 0.0), (2345, 0.0), (2351, 0.0), (2352, 0.0), (2353, 0.0), (2358, 0.0), (2360, 0.0), (2363, 0.0), (2365, 0.0), (2366, 0.0), (2368, 0.0), (2369, 0.0), (2371, 0.0), (2372, 0.0), (2373, 0.0), (2376, 0.0), (2377, 0.0), (2381, 0.0), (2384, 0.0), (2389, 0.0), (2395, 0.0), (2398, 0.0), (2408, 0.0), (2409, 0.0), (2414, 0.0), (2420, 0.0), (2424, 0.0), (2426, 0.0), (2431, 0.0), (2433, 0.0), (2435, 0.0), (2439, 0.0), (2444, 0.0), (2449, 0.0), (2450, 0.0), (2452, 0.0), (2456, 0.0), (2458, 0.0), (2460, 0.0), (2462, 0.0), (2465, 0.0), (2470, 0.0), (2471, 0.0), (2472, 0.0), (2479, 0.0), (2485, 0.0), (2491, 0.0), (2493, 0.0), (2497, 0.0), (2498, 0.0), (2499, 0.0), (2500, 0.0), (2503, 0.0), (2504, 0.0), (2508, 0.0), (2510, 0.0), (2511, 0.0), (2513, 0.0), (2514, 0.0), (2515, 0.0), (2516, 0.0), (2517, 0.0), (2523, 0.0), (2532, 0.0), (2536, 0.0), (2539, 0.0), (2542, 0.0), (2543, 0.0), (2547, 0.0), (2548, 0.0), (2549, 0.0), (2562, 0.0), (2564, 0.0), (2566, 0.0), (2574, 0.0), (2575, 0.0), (2577, 0.0), (2578, 0.0), (2581, 0.0), (2582, 0.0), (2583, 0.0), (2586, 0.0), (2589, 0.0), (2590, 0.0), (2594, 0.0), (2596, 0.0), (2597, 0.0), (2600, 0.0), (2605, 0.0), (2615, 0.0), (2616, 0.0), (2627, 0.0), (2635, 0.0), (2637, 0.0), (2639, 0.0), (2641, 0.0), (2644, 0.0), (2646, 0.0), (2648, 0.0), (2654, 0.0), (2656, 0.0), (2657, 0.0), (2658, 0.0), (2659, 0.0), (2660, 0.0), (2662, 0.0), (2663, 0.0), (2665, 0.0), (2666, 0.0), (2669, 0.0), (2670, 0.0), (2671, 0.0), (2672, 0.0), (2675, 0.0), (2676, 0.0), (2681, 0.0), (2684, 0.0), (2685, 0.0), (2686, 0.0), (2688, 0.0), (2690, 0.0), (2691, 0.0), (2693, 0.0), (2699, 0.0), (2701, 0.0), (2703, 0.0), (2704, 0.0), (2708, 0.0), (2709, 0.0), (2710, 0.0), (2713, 0.0), (2715, 0.0), (2717, 0.0), (2718, 0.0), (2719, 0.0), (2726, 0.0), (2729, 0.0), (2730, 0.0), (2732, 0.0), (2734, 0.0), (2737, 0.0), (2749, 0.0), (2750, 0.0), (2754, 0.0), (2756, 0.0), (2762, 0.0), (2763, 0.0), (2770, 0.0), (2773, 0.0), (2774, 0.0), (2781, 0.0), (2785, 0.0), (2794, 0.0), (2799, 0.0), (2804, 0.0), (2805, 0.0), (2806, 0.0), (2807, 0.0), (2810, 0.0), (2811, 0.0), (2813, 0.0), (2814, 0.0), (2816, 0.0), (2817, 0.0), (2818, 0.0), (2822, 0.0), (2823, 0.0), (2824, 0.0), (2825, 0.0), (2827, 0.0), (2828, 0.0), (2829, 0.0), (2833, 0.0), (2835, 0.0), (2836, 0.0), (2837, 0.0), (2839, 0.0), (2842, 0.0), (2843, 0.0), (2850, 0.0), (2851, 0.0), (2852, 0.0), (2855, 0.0), (2856, 0.0), (2860, 0.0), (2864, 0.0), (2865, 0.0), (2866, 0.0), (2867, 0.0), (2869, 0.0), (2873, 0.0), (2874, 0.0), (2875, 0.0), (2877, 0.0), (2880, 0.0), (2885, 0.0), (2891, 0.0), (2896, 0.0), (2897, 0.0), (2905, 0.0), (2906, 0.0), (2913, 0.0), (2921, 0.0), (2922, 0.0), (2928, 0.0), (2930, 0.0), (2935, 0.0), (2938, 0.0), (2941, 0.0), (2948, 0.0), (2950, 0.0), (2951, 0.0), (2952, 0.0), (2955, 0.0), (2958, 0.0), (2962, 0.0), (2967, 0.0), (2968, 0.0), (2971, 0.0), (2973, 0.0), (2979, 0.0), (2982, 0.0), (2983, 0.0), (2990, 0.0), (2994, 0.0), (3001, 0.0), (3002, 0.0), (3006, 0.0), (3008, 0.0), (3009, 0.0), (3017, 0.0), (3018, 0.0), (3021, 0.0), (3025, 0.0), (3029, 0.0), (3033, 0.0), (3034, 0.0), (3038, 0.0), (3039, 0.0), (3041, 0.0), (3047, 0.0), (3048, 0.0), (3053, 0.0), (3054, 0.0), (3058, 0.0), (3059, 0.0), (3060, 0.0), (3061, 0.0), (3063, 0.0), (3066, 0.0), (3068, 0.0), (3073, 0.0), (3077, 0.0), (3078, 0.0), (3080, 0.0), (3082, 0.0), (3083, 0.0), (3088, 0.0), (3089, 0.0), (3090, 0.0), (3092, 0.0), (3098, 0.0), (3102, 0.0), (3103, 0.0), (3104, 0.0), (3106, 0.0), (3107, 0.0), (3109, 0.0), (3115, 0.0), (3127, 0.0), (3130, 0.0), (3132, 0.0), (3138, 0.0), (3141, 0.0), (3142, 0.0), (3144, 0.0), (3145, 0.0), (3149, 0.0), (3162, 0.0), (3164, 0.0), (3169, 0.0), (3172, 0.0), (3175, 0.0), (3176, 0.0), (3177, 0.0), (3181, 0.0), (3188, 0.0), (3189, 0.0), (3190, 0.0), (3192, 0.0), (3193, 0.0), (3197, 0.0), (3201, 0.0), (3203, 0.0), (3204, 0.0), (3205, 0.0), (3207, 0.0), (3208, 0.0), (3212, 0.0), (3217, 0.0), (3221, 0.0), (3223, 0.0), (3231, 0.0), (3236, 0.0), (3244, 0.0), (3250, 0.0), (3251, 0.0), (3253, 0.0), (3255, 0.0), (3259, 0.0), (3261, 0.0), (3265, 0.0), (3270, 0.0), (3272, 0.0), (3277, 0.0), (3280, 0.0), (3281, 0.0), (3286, 0.0), (3287, 0.0), (3288, 0.0), (3295, 0.0), (3305, 0.0), (3319, 0.0), (3320, 0.0), (3321, 0.0), (3323, 0.0), (3324, 0.0), (3332, 0.0), (3333, 0.0), (3340, 0.0), (3343, 0.0), (3345, 0.0), (3350, 0.0), (3356, 0.0), (3366, 0.0), (3371, 0.0), (3375, 0.0), (3378, 0.0), (3383, 0.0), (3394, 0.0), (3395, 0.0), (3397, 0.0), (3400, 0.0), (3401, 0.0), (3411, 0.0), (3420, 0.0), (3422, 0.0), (3424, 0.0), (3427, 0.0), (3428, 0.0), (3439, 0.0), (3442, 0.0), (3444, 0.0), (3453, 0.0), (3454, 0.0), (3457, 0.0), (3459, 0.0), (3462, 0.0), (3463, 0.0), (3464, 0.0), (3467, 0.0), (3472, 0.0), (3473, 0.0), (3475, 0.0), (3476, 0.0), (3480, 0.0), (3481, 0.0), (3482, 0.0), (3485, 0.0), (3489, 0.0), (3490, 0.0), (3505, 0.0), (3508, 0.0), (3509, 0.0), (3510, 0.0), (3515, 0.0), (3518, 0.0), (3519, 0.0), (3522, 0.0), (3525, 0.0), (3528, 0.0), (3529, 0.0), (3530, 0.0), (3531, 0.0), (3532, 0.0), (3533, 0.0), (3539, 0.0), (3543, 0.0), (3545, 0.0), (3547, 0.0), (3550, 0.0), (3559, 0.0), (3562, 0.0), (3566, 0.0), (3567, 0.0), (3568, 0.0), (3570, 0.0), (3572, 0.0), (3573, 0.0), (3574, 0.0), (3581, 0.0), (3586, 0.0), (3589, 0.0), (3591, 0.0), (3592, 0.0), (3594, 0.0), (3595, 0.0), (3597, 0.0), (3598, 0.0), (3600, 0.0), (3603, 0.0), (3607, 0.0), (3609, 0.0), (3610, 0.0), (3617, 0.0), (3622, 0.0), (3625, 0.0), (3628, 0.0), (3630, 0.0), (3631, 0.0), (3632, 0.0), (3633, 0.0), (3644, 0.0), (3648, 0.0), (3649, 0.0), (3650, 0.0), (3658, 0.0), (3662, 0.0), (3663, 0.0), (3671, 0.0), (3676, 0.0), (3681, 0.0), (3682, 0.0), (3683, 0.0), (3685, 0.0), (3686, 0.0), (3688, 0.0), (3690, 0.0), (3693, 0.0), (3695, 0.0), (3697, 0.0), (3698, 0.0), (3700, 0.0), (3702, 0.0), (3703, 0.0), (3709, 0.0), (3712, 0.0), (3716, 0.0), (3717, 0.0), (3718, 0.0), (3722, 0.0), (3726, 0.0), (3730, 0.0), (3731, 0.0), (3732, 0.0), (3735, 0.0), (3736, 0.0), (3738, 0.0), (3740, 0.0), (3743, 0.0), (3746, 0.0), (3748, 0.0), (3750, 0.0), (3752, 0.0), (3753, 0.0), (3758, 0.0), (3759, 0.0), (3760, 0.0), (3761, 0.0), (3764, 0.0), (3773, 0.0), (3783, 0.0), (3785, 0.0), (3786, 0.0), (3789, 0.0), (3790, 0.0), (3791, 0.0), (3796, 0.0), (3798, 0.0), (3800, 0.0), (3803, 0.0), (3805, 0.0), (3808, 0.0), (3812, 0.0), (3817, 0.0), (3818, 0.0), (3820, 0.0), (3825, 0.0), (3830, 0.0), (3831, 0.0), (3834, 0.0), (3836, 0.0), (3837, 0.0), (3838, 0.0), (3840, 0.0), (3842, 0.0), (3843, 0.0), (3846, 0.0), (3847, 0.0), (3851, 0.0), (3856, 0.0), (3858, 0.0), (3859, 0.0), (3861, 0.0), (3864, 0.0), (3865, 0.0), (3869, 0.0), (3870, 0.0), (3871, 0.0), (3872, 0.0), (3879, 0.0), (3885, 0.0), (3887, 0.0), (3891, 0.0), (3896, 0.0), (3905, 0.0), (3909, 0.0), (3912, 0.0), (3914, 0.0), (3916, 0.0), (3918, 0.0), (3921, 0.0), (3923, 0.0), (3929, 0.0), (3930, 0.0), (3931, 0.0), (3933, 0.0), (3934, 0.0), (3936, 0.0), (3937, 0.0), (3940, 0.0), (3943, 0.0), (3948, 0.0), (3949, 0.0), (3950, 0.0), (3955, 0.0), (3958, 0.0), (3963, 0.0), (3964, 0.0), (3965, 0.0), (3968, 0.0), (3969, 0.0), (3971, 0.0), (3972, 0.0), (3976, 0.0), (3977, 0.0), (3979, 0.0), (3980, 0.0), (3981, 0.0), (3985, 0.0), (3988, 0.0), (3991, 0.0), (3994, 0.0), (3996, 0.0), (3998, 0.0), (4001, 0.0), (4003, 0.0), (4006, 0.0), (4007, 0.0), (4009, 0.0), (4010, 0.0), (4012, 0.0), (4018, 0.0), (4021, 0.0), (4022, 0.0), (4026, 0.0), (4027, 0.0), (4028, 0.0), (4029, 0.0), (4034, 0.0), (4035, 0.0), (4037, 0.0), (4040, 0.0), (4041, 0.0), (4045, 0.0), (4055, 0.0), (4057, 0.0), (4058, 0.0), (4061, 0.0), (4063, 0.0), (4064, 0.0), (4065, 0.0), (4067, 0.0), (4070, 0.0), (4072, 0.0), (4073, 0.0), (4077, 0.0), (4078, 0.0), (4084, 0.0), (4086, 0.0), (4093, 0.0), (4097, 0.0), (4099, 0.0), (4100, 0.0), (4105, 0.0), (4108, 0.0), (4110, 0.0), (4112, 0.0), (4114, 0.0), (4115, 0.0), (4118, 0.0), (4125, 0.0), (4127, 0.0), (4128, 0.0), (4131, 0.0), (4144, 0.0), (4146, 0.0), (4150, 0.0), (4153, 0.0), (4157, 0.0), (4159, 0.0), (4166, 0.0), (4167, 0.0), (4168, 0.0), (4170, 0.0), (4173, 0.0), (4177, 0.0), (4179, 0.0), (4180, 0.0), (4181, 0.0), (4184, 0.0), (4186, 0.0), (4188, 0.0), (4191, 0.0), (4194, 0.0), (4195, 0.0), (4196, 0.0), (4198, 0.0), (4199, 0.0), (4201, 0.0), (4204, 0.0), (4207, 0.0), (4210, 0.0), (4212, 0.0), (4215, 0.0), (4217, 0.0), (4218, 0.0), (4223, 0.0), (4224, 0.0), (4226, 0.0), (4229, 0.0), (4233, 0.0), (4234, 0.0), (4236, 0.0), (4238, 0.0), (4239, 0.0), (4241, 0.0), (4250, 0.0), (4252, 0.0), (4253, 0.0), (4256, 0.0), (4258, 0.0), (4260, 0.0), (4261, 0.0), (4270, 0.0), (4271, 0.0), (4272, 0.0), (4276, 0.0), (4278, 0.0), (4279, 0.0), (4289, 0.0), (4291, 0.0), (4294, 0.0), (4297, 0.0), (4302, 0.0), (4303, 0.0), (4305, 0.0), (4313, 0.0), (4314, 0.0), (4315, 0.0), (4316, 0.0), (4317, 0.0), (4319, 0.0), (4323, 0.0), (4324, 0.0), (4327, 0.0), (4329, 0.0), (4332, 0.0), (4335, 0.0), (4338, 0.0), (4341, 0.0), (4342, 0.0), (4346, 0.0), (4351, 0.0), (4352, 0.0), (4358, 0.0), (4364, 0.0), (4367, 0.0), (4370, 0.0), (4372, 0.0), (4373, 0.0), (4378, 0.0), (4385, 0.0), (4388, 0.0), (4390, 0.0), (4393, 0.0), (4404, 0.0), (4405, 0.0), (4406, 0.0), (4410, 0.0), (4413, 0.0), (4414, 0.0), (4415, 0.0), (4417, 0.0), (4421, 0.0), (4424, 0.0), (4425, 0.0), (4433, 0.0), (4434, 0.0), (4437, 0.0), (4439, 0.0), (4440, 0.0), (4447, 0.0), (4449, 0.0), (4451, 0.0), (4452, 0.0), (4453, 0.0), (4454, 0.0), (4455, 0.0), (4457, 0.0), (4459, 0.0), (4460, 0.0), (4463, 0.0), (4467, 0.0), (4478, 0.0), (4480, 0.0), (4482, 0.0), (4483, 0.0), (4486, 0.0), (4491, 0.0), (4492, 0.0), (4493, 0.0), (4496, 0.0), (4498, 0.0), (4499, 0.0), (4506, 0.0), (4508, 0.0), (4509, 0.0), (4519, 0.0), (4525, 0.0), (4526, 0.0), (4538, 0.0), (4539, 0.0), (4541, 0.0), (4542, 0.0), (4547, 0.0), (4549, 0.0), (4556, 0.0), (4557, 0.0), (4558, 0.0), (4559, 0.0), (4560, 0.0), (4561, 0.0), (4564, 0.0), (4565, 0.0), (4568, 0.0), (4569, 0.0), (4570, 0.0), (4577, 0.0), (4578, 0.0), (4580, 0.0), (4581, 0.0), (4583, 0.0), (4588, 0.0), (4592, 0.0), (4596, 0.0), (4599, 0.0), (4609, 0.0), (4615, 0.0), (4618, 0.0), (4622, 0.0), (4631, 0.0), (4635, 0.0), (4644, 0.0), (4645, 0.0), (4647, 0.0), (4648, 0.0), (4651, 0.0), (4654, 0.0), (4655, 0.0), (4656, 0.0), (4659, 0.0), (4662, 0.0), (4663, 0.0), (4667, 0.0), (4671, 0.0), (4672, 0.0), (4675, 0.0), (4676, 0.0), (4681, 0.0), (4682, 0.0), (4683, 0.0), (4688, 0.0), (4690, 0.0), (4700, 0.0), (4702, 0.0), (4707, 0.0), (4711, 0.0), (4714, 0.0), (4716, 0.0), (4720, 0.0), (4725, 0.0), (4726, 0.0), (4727, 0.0), (4728, 0.0), (4730, 0.0), (4736, 0.0), (4737, 0.0), (4738, 0.0), (4741, 0.0), (4742, 0.0), (4745, 0.0), (4750, 0.0), (4751, 0.0), (4754, 0.0), (4758, 0.0), (4759, 0.0)]\n"
          ]
        }
      ]
    },
    {
      "cell_type": "code",
      "source": [
        "# print the name of similar movie based on Index\n",
        "print('Top 30 Movies Suggested For You : \\n')\n",
        "\n",
        "i = 1\n",
        "\n",
        "for movie in Sorted_Similar_Movies:\n",
        "  index = movie[0]\n",
        "  title_from_index = df[df.index==index]['Movie_Title'].values[0]\n",
        "  if (i<31):\n",
        "    print(i, '.',title_from_index)\n",
        "    i+=1"
      ],
      "metadata": {
        "colab": {
          "base_uri": "https://localhost:8080/"
        },
        "id": "RVKpV-h_02P1",
        "outputId": "2d11c4bd-21d6-4871-9034-f50450b5b674"
      },
      "execution_count": null,
      "outputs": [
        {
          "output_type": "stream",
          "name": "stdout",
          "text": [
            "Top 30 Movies Suggested For You : \n",
            "\n",
            "1 . Dying of the Light\n",
            "2 . Broken Horses\n",
            "3 . House of D\n",
            "4 . The Beaver\n",
            "5 . Terminator Salvation\n",
            "6 . Charlie Bartlett\n",
            "7 . Kiss of Death\n",
            "8 . Green Room\n",
            "9 . Central Intelligence\n",
            "10 . Rudderless\n",
            "11 . Fright Night\n",
            "12 . Hearts in Atlantis\n",
            "13 . Like Crazy\n",
            "14 . Bringing Out the Dead\n",
            "15 . The Canyons\n",
            "16 . Astro Boy\n",
            "17 . Adam Resurrected\n",
            "18 . The Ant Bully\n",
            "19 . Carlos\n",
            "20 . Unfriended\n",
            "21 . RED\n",
            "22 . The Beast from 20,000 Fathoms\n",
            "23 . Lord of War\n",
            "24 . Left Behind\n",
            "25 . Stolen\n",
            "26 . The Frozen Ground\n",
            "27 . Auto Focus\n",
            "28 . Leaving Las Vegas\n",
            "29 . Joe\n",
            "30 . The Sorcerer's Apprentice\n"
          ]
        }
      ]
    },
    {
      "cell_type": "markdown",
      "source": [
        "# Top 10 Movie Recommendation System"
      ],
      "metadata": {
        "id": "fRQVIL7C1PTk"
      }
    },
    {
      "cell_type": "code",
      "source": [
        "Movie_Name = input(' Enter your favourite movie name : ')\n",
        "list_of_all_movies_titles = df['Movie_Title'].tolist()\n",
        "Find_Close_Match = difflib.get_close_matches(Movie_Name, list_of_all_movies_titles)\n",
        "Close_Match = Find_Close_Match[0]\n",
        "Index_of_Movie = df[df.Movie_Title == Close_Match]['Movie_ID'].values[0]\n",
        "Recommendation_Score = list(enumerate(Similarity_score[Index_of_Movie]))\n",
        "Sorted_Similar_Movies = sorted(Recommendation_Score, key = lambda x:x[1], reverse = True)\n",
        "print('Top 10 Movies Suggested For You : \\n')\n",
        "i = 1\n",
        "for movie in Sorted_Similar_Movies:\n",
        "  index = movie[0]\n",
        "  title_from_index = df[df.Movie_ID==index]['Movie_Title'].values\n",
        "  if (i<11):\n",
        "    print(i, '.',title_from_index)\n",
        "    i+=1\n"
      ],
      "metadata": {
        "colab": {
          "base_uri": "https://localhost:8080/"
        },
        "id": "tJFwGsyg1UiJ",
        "outputId": "e69e2c91-0cfc-46aa-cf11-9ac321f03218"
      },
      "execution_count": null,
      "outputs": [
        {
          "output_type": "stream",
          "name": "stdout",
          "text": [
            " Enter your favourite movie name : Ironman\n",
            "Top 10 Movies Suggested For You : \n",
            "\n",
            "1 . ['Iron Man']\n",
            "2 . ['The Mummy Returns']\n",
            "3 . ['Fascination']\n",
            "4 . ['Out Cold']\n",
            "5 . ['Lethal Weapon 3']\n",
            "6 . ['Robin and Marian']\n",
            "7 . ['Hackers']\n",
            "8 . ['Just My Luck']\n",
            "9 . ['Snow White and the Huntsman']\n",
            "10 . ['The Time Machine']\n"
          ]
        }
      ]
    }
  ]
}